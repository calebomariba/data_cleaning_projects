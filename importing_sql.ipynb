{
 "cells": [
  {
   "cell_type": "code",
   "execution_count": 6,
   "id": "eb5b7ba9-8698-499d-a14c-10345e1b5cfd",
   "metadata": {},
   "outputs": [],
   "source": [
    "import pandas as pd\n",
    "import numpy as np\n",
    "import pymssql\n",
    "import mysql.connector"
   ]
  },
  {
   "cell_type": "code",
   "execution_count": 20,
   "id": "e270558f-cd5f-48a2-ad2d-9ab085f3b381",
   "metadata": {},
   "outputs": [],
   "source": [
    "pd.set_option('display.width', 75)\n",
    "pd.set_option('display.max_columns', None)\n",
    "pd.options.display.float_format = '{:,.2f}'.format"
   ]
  },
  {
   "cell_type": "code",
   "execution_count": 10,
   "id": "ab145af7-94c7-4ea4-af80-5a50cf7a7864",
   "metadata": {},
   "outputs": [],
   "source": [
    "# set sql select statement to pull the data\n",
    "sqlselect = \"SELECT studentid, school, sex, age, famsize,\\\n",
    "  medu AS mothereducation, fedu AS fathereducation,\\\n",
    "  traveltime, studytime, failures, famrel, freetime,\\\n",
    "  goout, g1 AS gradeperiod1, g2 AS gradeperiod2,\\\n",
    "  g3 AS gradeperiod3 From studentmath\""
   ]
  },
  {
   "cell_type": "code",
   "execution_count": 12,
   "id": "a755f795-6cfe-40f2-b407-396590c4c4de",
   "metadata": {},
   "outputs": [],
   "source": [
    "# use the pymssql api and read_sql to retrieve and load data from a SQL Server instance\n",
    "server = \"pdcc.c9sqqzd5fulv.us-west-2.rds.amazonaws.com\"\n",
    "user = \"pdccuser\"\n",
    "password = \"pdccpass\"\n",
    "database = \"pdcctest\""
   ]
  },
  {
   "cell_type": "code",
   "execution_count": 14,
   "id": "42fdf015-64b1-4eaf-8fd7-354558099003",
   "metadata": {},
   "outputs": [
    {
     "name": "stderr",
     "output_type": "stream",
     "text": [
      "C:\\Users\\user\\AppData\\Local\\Temp\\ipykernel_14304\\4149243782.py:3: UserWarning: pandas only supports SQLAlchemy connectable (engine/connection) or database string URI or sqlite3 DBAPI2 connection. Other DBAPI2 objects are not tested. Please consider using SQLAlchemy.\n",
      "  studentmath = pd.read_sql(sqlselect,conn)\n"
     ]
    }
   ],
   "source": [
    "conn = pymssql.connect(server=server,\n",
    "  user=user, password=password, database=database)\n",
    "studentmath = pd.read_sql(sqlselect,conn)\n",
    "conn.close()"
   ]
  },
  {
   "cell_type": "code",
   "execution_count": 16,
   "id": "cecb9681-618f-4626-83de-fe519b67893b",
   "metadata": {},
   "outputs": [
    {
     "data": {
      "text/plain": [
       "studentid          object\n",
       "school             object\n",
       "sex                object\n",
       "age                 int64\n",
       "famsize            object\n",
       "mothereducation     int64\n",
       "fathereducation     int64\n",
       "traveltime          int64\n",
       "studytime           int64\n",
       "failures            int64\n",
       "famrel              int64\n",
       "freetime            int64\n",
       "goout               int64\n",
       "gradeperiod1        int64\n",
       "gradeperiod2        int64\n",
       "gradeperiod3        int64\n",
       "dtype: object"
      ]
     },
     "execution_count": 16,
     "metadata": {},
     "output_type": "execute_result"
    }
   ],
   "source": [
    "studentmath.dtypes"
   ]
  },
  {
   "cell_type": "code",
   "execution_count": 22,
   "id": "14d6eb23-0ce8-4e3f-8ac6-5c4246e50c1d",
   "metadata": {},
   "outputs": [
    {
     "data": {
      "text/html": [
       "<div>\n",
       "<style scoped>\n",
       "    .dataframe tbody tr th:only-of-type {\n",
       "        vertical-align: middle;\n",
       "    }\n",
       "\n",
       "    .dataframe tbody tr th {\n",
       "        vertical-align: top;\n",
       "    }\n",
       "\n",
       "    .dataframe thead th {\n",
       "        text-align: right;\n",
       "    }\n",
       "</style>\n",
       "<table border=\"1\" class=\"dataframe\">\n",
       "  <thead>\n",
       "    <tr style=\"text-align: right;\">\n",
       "      <th></th>\n",
       "      <th>studentid</th>\n",
       "      <th>school</th>\n",
       "      <th>sex</th>\n",
       "      <th>age</th>\n",
       "      <th>famsize</th>\n",
       "      <th>mothereducation</th>\n",
       "      <th>fathereducation</th>\n",
       "      <th>traveltime</th>\n",
       "      <th>studytime</th>\n",
       "      <th>failures</th>\n",
       "      <th>famrel</th>\n",
       "      <th>freetime</th>\n",
       "      <th>goout</th>\n",
       "      <th>gradeperiod1</th>\n",
       "      <th>gradeperiod2</th>\n",
       "      <th>gradeperiod3</th>\n",
       "    </tr>\n",
       "  </thead>\n",
       "  <tbody>\n",
       "    <tr>\n",
       "      <th>0</th>\n",
       "      <td>001</td>\n",
       "      <td>GP</td>\n",
       "      <td>F</td>\n",
       "      <td>18</td>\n",
       "      <td>GT3</td>\n",
       "      <td>4</td>\n",
       "      <td>4</td>\n",
       "      <td>2</td>\n",
       "      <td>2</td>\n",
       "      <td>0</td>\n",
       "      <td>4</td>\n",
       "      <td>3</td>\n",
       "      <td>4</td>\n",
       "      <td>5</td>\n",
       "      <td>6</td>\n",
       "      <td>6</td>\n",
       "    </tr>\n",
       "    <tr>\n",
       "      <th>1</th>\n",
       "      <td>002</td>\n",
       "      <td>GP</td>\n",
       "      <td>F</td>\n",
       "      <td>17</td>\n",
       "      <td>GT3</td>\n",
       "      <td>1</td>\n",
       "      <td>1</td>\n",
       "      <td>1</td>\n",
       "      <td>2</td>\n",
       "      <td>0</td>\n",
       "      <td>5</td>\n",
       "      <td>3</td>\n",
       "      <td>3</td>\n",
       "      <td>5</td>\n",
       "      <td>5</td>\n",
       "      <td>6</td>\n",
       "    </tr>\n",
       "    <tr>\n",
       "      <th>2</th>\n",
       "      <td>003</td>\n",
       "      <td>GP</td>\n",
       "      <td>F</td>\n",
       "      <td>15</td>\n",
       "      <td>LE3</td>\n",
       "      <td>1</td>\n",
       "      <td>1</td>\n",
       "      <td>1</td>\n",
       "      <td>2</td>\n",
       "      <td>3</td>\n",
       "      <td>4</td>\n",
       "      <td>3</td>\n",
       "      <td>2</td>\n",
       "      <td>7</td>\n",
       "      <td>8</td>\n",
       "      <td>10</td>\n",
       "    </tr>\n",
       "    <tr>\n",
       "      <th>3</th>\n",
       "      <td>004</td>\n",
       "      <td>GP</td>\n",
       "      <td>F</td>\n",
       "      <td>15</td>\n",
       "      <td>GT3</td>\n",
       "      <td>4</td>\n",
       "      <td>2</td>\n",
       "      <td>1</td>\n",
       "      <td>3</td>\n",
       "      <td>0</td>\n",
       "      <td>3</td>\n",
       "      <td>2</td>\n",
       "      <td>2</td>\n",
       "      <td>15</td>\n",
       "      <td>14</td>\n",
       "      <td>15</td>\n",
       "    </tr>\n",
       "    <tr>\n",
       "      <th>4</th>\n",
       "      <td>005</td>\n",
       "      <td>GP</td>\n",
       "      <td>F</td>\n",
       "      <td>16</td>\n",
       "      <td>GT3</td>\n",
       "      <td>3</td>\n",
       "      <td>3</td>\n",
       "      <td>1</td>\n",
       "      <td>2</td>\n",
       "      <td>0</td>\n",
       "      <td>4</td>\n",
       "      <td>3</td>\n",
       "      <td>2</td>\n",
       "      <td>6</td>\n",
       "      <td>10</td>\n",
       "      <td>10</td>\n",
       "    </tr>\n",
       "  </tbody>\n",
       "</table>\n",
       "</div>"
      ],
      "text/plain": [
       "  studentid school sex  age famsize  mothereducation  fathereducation  \\\n",
       "0       001     GP   F   18     GT3                4                4   \n",
       "1       002     GP   F   17     GT3                1                1   \n",
       "2       003     GP   F   15     LE3                1                1   \n",
       "3       004     GP   F   15     GT3                4                2   \n",
       "4       005     GP   F   16     GT3                3                3   \n",
       "\n",
       "   traveltime  studytime  failures  famrel  freetime  goout  \\\n",
       "0           2          2         0       4         3      4   \n",
       "1           1          2         0       5         3      3   \n",
       "2           1          2         3       4         3      2   \n",
       "3           1          3         0       3         2      2   \n",
       "4           1          2         0       4         3      2   \n",
       "\n",
       "   gradeperiod1  gradeperiod2  gradeperiod3  \n",
       "0             5             6             6  \n",
       "1             5             5             6  \n",
       "2             7             8            10  \n",
       "3            15            14            15  \n",
       "4             6            10            10  "
      ]
     },
     "execution_count": 22,
     "metadata": {},
     "output_type": "execute_result"
    }
   ],
   "source": [
    "studentmath.head()"
   ]
  },
  {
   "cell_type": "code",
   "execution_count": null,
   "id": "425b1975-ccf2-4592-9099-781922811b7d",
   "metadata": {},
   "outputs": [],
   "source": []
  }
 ],
 "metadata": {
  "kernelspec": {
   "display_name": "dataclean_env",
   "language": "python",
   "name": "dataclean_env"
  },
  "language_info": {
   "codemirror_mode": {
    "name": "ipython",
    "version": 3
   },
   "file_extension": ".py",
   "mimetype": "text/x-python",
   "name": "python",
   "nbconvert_exporter": "python",
   "pygments_lexer": "ipython3",
   "version": "3.12.7"
  }
 },
 "nbformat": 4,
 "nbformat_minor": 5
}
