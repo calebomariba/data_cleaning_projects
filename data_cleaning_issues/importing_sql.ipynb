{
 "cells": [
  {
   "cell_type": "code",
   "execution_count": 15,
   "id": "eb5b7ba9-8698-499d-a14c-10345e1b5cfd",
   "metadata": {},
   "outputs": [],
   "source": [
    "import pandas as pd\n",
    "import numpy as np\n",
    "import pymssql\n",
    "import mysql.connector\n",
    "from sqlalchemy import create_engine"
   ]
  },
  {
   "cell_type": "code",
   "execution_count": 20,
   "id": "e270558f-cd5f-48a2-ad2d-9ab085f3b381",
   "metadata": {},
   "outputs": [],
   "source": [
    "pd.set_option('display.width', 75)\n",
    "pd.set_option('display.max_columns', None)\n",
    "pd.options.display.float_format = '{:,.2f}'.format"
   ]
  },
  {
   "cell_type": "code",
   "execution_count": 11,
   "id": "ab145af7-94c7-4ea4-af80-5a50cf7a7864",
   "metadata": {},
   "outputs": [],
   "source": [
    "# set sql select statement to pull the data\n",
    "sqlselect = \"SELECT studentid, school, sex, age, famsize,\\\n",
    "  medu AS mothereducation, fedu AS fathereducation,\\\n",
    "  traveltime, studytime, failures, famrel, freetime,\\\n",
    "  goout, g1 AS gradeperiod1, g2 AS gradeperiod2,\\\n",
    "  g3 AS gradeperiod3 From studentmath\""
   ]
  },
  {
   "cell_type": "code",
   "execution_count": 12,
   "id": "a755f795-6cfe-40f2-b407-396590c4c4de",
   "metadata": {},
   "outputs": [],
   "source": [
    "# use the pymssql api and read_sql to retrieve and load data from a SQL Server instance\n",
    "server = \"pdcc.c9sqqzd5fulv.us-west-2.rds.amazonaws.com\"\n",
    "user = \"pdccuser\"\n",
    "password = \"pdccpass\"\n",
    "database = \"pdcctest\""
   ]
  },
  {
   "cell_type": "code",
   "execution_count": 14,
   "id": "42fdf015-64b1-4eaf-8fd7-354558099003",
   "metadata": {},
   "outputs": [
    {
     "name": "stderr",
     "output_type": "stream",
     "text": [
      "C:\\Users\\user\\AppData\\Local\\Temp\\ipykernel_14304\\4149243782.py:3: UserWarning: pandas only supports SQLAlchemy connectable (engine/connection) or database string URI or sqlite3 DBAPI2 connection. Other DBAPI2 objects are not tested. Please consider using SQLAlchemy.\n",
      "  studentmath = pd.read_sql(sqlselect,conn)\n"
     ]
    }
   ],
   "source": [
    "conn = pymssql.connect(server=server,\n",
    "  user=user, password=password, database=database)\n",
    "studentmath = pd.read_sql(sqlselect,conn)\n",
    "conn.close()"
   ]
  },
  {
   "cell_type": "code",
   "execution_count": 16,
   "id": "cecb9681-618f-4626-83de-fe519b67893b",
   "metadata": {},
   "outputs": [
    {
     "data": {
      "text/plain": [
       "studentid          object\n",
       "school             object\n",
       "sex                object\n",
       "age                 int64\n",
       "famsize            object\n",
       "mothereducation     int64\n",
       "fathereducation     int64\n",
       "traveltime          int64\n",
       "studytime           int64\n",
       "failures            int64\n",
       "famrel              int64\n",
       "freetime            int64\n",
       "goout               int64\n",
       "gradeperiod1        int64\n",
       "gradeperiod2        int64\n",
       "gradeperiod3        int64\n",
       "dtype: object"
      ]
     },
     "execution_count": 16,
     "metadata": {},
     "output_type": "execute_result"
    }
   ],
   "source": [
    "studentmath.dtypes"
   ]
  },
  {
   "cell_type": "code",
   "execution_count": 22,
   "id": "14d6eb23-0ce8-4e3f-8ac6-5c4246e50c1d",
   "metadata": {},
   "outputs": [
    {
     "data": {
      "text/html": [
       "<div>\n",
       "<style scoped>\n",
       "    .dataframe tbody tr th:only-of-type {\n",
       "        vertical-align: middle;\n",
       "    }\n",
       "\n",
       "    .dataframe tbody tr th {\n",
       "        vertical-align: top;\n",
       "    }\n",
       "\n",
       "    .dataframe thead th {\n",
       "        text-align: right;\n",
       "    }\n",
       "</style>\n",
       "<table border=\"1\" class=\"dataframe\">\n",
       "  <thead>\n",
       "    <tr style=\"text-align: right;\">\n",
       "      <th></th>\n",
       "      <th>studentid</th>\n",
       "      <th>school</th>\n",
       "      <th>sex</th>\n",
       "      <th>age</th>\n",
       "      <th>famsize</th>\n",
       "      <th>mothereducation</th>\n",
       "      <th>fathereducation</th>\n",
       "      <th>traveltime</th>\n",
       "      <th>studytime</th>\n",
       "      <th>failures</th>\n",
       "      <th>famrel</th>\n",
       "      <th>freetime</th>\n",
       "      <th>goout</th>\n",
       "      <th>gradeperiod1</th>\n",
       "      <th>gradeperiod2</th>\n",
       "      <th>gradeperiod3</th>\n",
       "    </tr>\n",
       "  </thead>\n",
       "  <tbody>\n",
       "    <tr>\n",
       "      <th>0</th>\n",
       "      <td>001</td>\n",
       "      <td>GP</td>\n",
       "      <td>F</td>\n",
       "      <td>18</td>\n",
       "      <td>GT3</td>\n",
       "      <td>4</td>\n",
       "      <td>4</td>\n",
       "      <td>2</td>\n",
       "      <td>2</td>\n",
       "      <td>0</td>\n",
       "      <td>4</td>\n",
       "      <td>3</td>\n",
       "      <td>4</td>\n",
       "      <td>5</td>\n",
       "      <td>6</td>\n",
       "      <td>6</td>\n",
       "    </tr>\n",
       "    <tr>\n",
       "      <th>1</th>\n",
       "      <td>002</td>\n",
       "      <td>GP</td>\n",
       "      <td>F</td>\n",
       "      <td>17</td>\n",
       "      <td>GT3</td>\n",
       "      <td>1</td>\n",
       "      <td>1</td>\n",
       "      <td>1</td>\n",
       "      <td>2</td>\n",
       "      <td>0</td>\n",
       "      <td>5</td>\n",
       "      <td>3</td>\n",
       "      <td>3</td>\n",
       "      <td>5</td>\n",
       "      <td>5</td>\n",
       "      <td>6</td>\n",
       "    </tr>\n",
       "    <tr>\n",
       "      <th>2</th>\n",
       "      <td>003</td>\n",
       "      <td>GP</td>\n",
       "      <td>F</td>\n",
       "      <td>15</td>\n",
       "      <td>LE3</td>\n",
       "      <td>1</td>\n",
       "      <td>1</td>\n",
       "      <td>1</td>\n",
       "      <td>2</td>\n",
       "      <td>3</td>\n",
       "      <td>4</td>\n",
       "      <td>3</td>\n",
       "      <td>2</td>\n",
       "      <td>7</td>\n",
       "      <td>8</td>\n",
       "      <td>10</td>\n",
       "    </tr>\n",
       "    <tr>\n",
       "      <th>3</th>\n",
       "      <td>004</td>\n",
       "      <td>GP</td>\n",
       "      <td>F</td>\n",
       "      <td>15</td>\n",
       "      <td>GT3</td>\n",
       "      <td>4</td>\n",
       "      <td>2</td>\n",
       "      <td>1</td>\n",
       "      <td>3</td>\n",
       "      <td>0</td>\n",
       "      <td>3</td>\n",
       "      <td>2</td>\n",
       "      <td>2</td>\n",
       "      <td>15</td>\n",
       "      <td>14</td>\n",
       "      <td>15</td>\n",
       "    </tr>\n",
       "    <tr>\n",
       "      <th>4</th>\n",
       "      <td>005</td>\n",
       "      <td>GP</td>\n",
       "      <td>F</td>\n",
       "      <td>16</td>\n",
       "      <td>GT3</td>\n",
       "      <td>3</td>\n",
       "      <td>3</td>\n",
       "      <td>1</td>\n",
       "      <td>2</td>\n",
       "      <td>0</td>\n",
       "      <td>4</td>\n",
       "      <td>3</td>\n",
       "      <td>2</td>\n",
       "      <td>6</td>\n",
       "      <td>10</td>\n",
       "      <td>10</td>\n",
       "    </tr>\n",
       "  </tbody>\n",
       "</table>\n",
       "</div>"
      ],
      "text/plain": [
       "  studentid school sex  age famsize  mothereducation  fathereducation  \\\n",
       "0       001     GP   F   18     GT3                4                4   \n",
       "1       002     GP   F   17     GT3                1                1   \n",
       "2       003     GP   F   15     LE3                1                1   \n",
       "3       004     GP   F   15     GT3                4                2   \n",
       "4       005     GP   F   16     GT3                3                3   \n",
       "\n",
       "   traveltime  studytime  failures  famrel  freetime  goout  \\\n",
       "0           2          2         0       4         3      4   \n",
       "1           1          2         0       5         3      3   \n",
       "2           1          2         3       4         3      2   \n",
       "3           1          3         0       3         2      2   \n",
       "4           1          2         0       4         3      2   \n",
       "\n",
       "   gradeperiod1  gradeperiod2  gradeperiod3  \n",
       "0             5             6             6  \n",
       "1             5             5             6  \n",
       "2             7             8            10  \n",
       "3            15            14            15  \n",
       "4             6            10            10  "
      ]
     },
     "execution_count": 22,
     "metadata": {},
     "output_type": "execute_result"
    }
   ],
   "source": [
    "studentmath.head()"
   ]
  },
  {
   "cell_type": "code",
   "execution_count": null,
   "id": "425b1975-ccf2-4592-9099-781922811b7d",
   "metadata": {},
   "outputs": [],
   "source": [
    "# Connecting to a MySQL server."
   ]
  },
  {
   "cell_type": "code",
   "execution_count": 13,
   "id": "b91aee2f-8686-49fa-ba40-65b11bc05096",
   "metadata": {
    "scrolled": true
   },
   "outputs": [
    {
     "name": "stderr",
     "output_type": "stream",
     "text": [
      "C:\\Users\\user\\AppData\\Local\\Temp\\ipykernel_12236\\3853804673.py:7: UserWarning: pandas only supports SQLAlchemy connectable (engine/connection) or database string URI or sqlite3 DBAPI2 connection. Other DBAPI2 objects are not tested. Please consider using SQLAlchemy.\n",
      "  studentmath = pd.read_sql(sqlselect,connmysql)\n"
     ]
    }
   ],
   "source": [
    "host = \"pdccmysql.c9sqqzd5fulv.us-west-2.rds.amazonaws.com\"\n",
    "user = \"pdccuser\"\n",
    "password = \"pdccpass\"\n",
    "database = \"pdccschema\"\n",
    "connmysql = mysql.connector.connect(host=host,\\\n",
    "  database=database,user=user,password=password)\n",
    "studentmath = pd.read_sql(sqlselect,connmysql)\n",
    "connmysql.close()"
   ]
  },
  {
   "cell_type": "code",
   "execution_count": null,
   "id": "7118f886-fdb4-46c7-87e4-6304cb284d22",
   "metadata": {},
   "outputs": [],
   "source": []
  },
  {
   "cell_type": "code",
   "execution_count": 17,
   "id": "62687c34-d0c2-46b6-ab64-1c3d62412d54",
   "metadata": {},
   "outputs": [],
   "source": [
    "# Using SQLAlchemy"
   ]
  },
  {
   "cell_type": "code",
   "execution_count": 19,
   "id": "2c41b5c3-3a18-4b9c-8468-245a860415dc",
   "metadata": {},
   "outputs": [
    {
     "name": "stdout",
     "output_type": "stream",
     "text": [
      "    studentid school sex  age famsize  mothereducation  fathereducation  \\\n",
      "0         001     GP   F   18     GT3                4                4   \n",
      "1         002     GP   F   17     GT3                1                1   \n",
      "2         003     GP   F   15     LE3                1                1   \n",
      "3         004     GP   F   15     GT3                4                2   \n",
      "4         005     GP   F   16     GT3                3                3   \n",
      "..        ...    ...  ..  ...     ...              ...              ...   \n",
      "390       391     MS   M   20     LE3                2                2   \n",
      "391       392     MS   M   17     LE3                3                1   \n",
      "392       393     MS   M   21     GT3                1                1   \n",
      "393       394     MS   M   18     LE3                3                2   \n",
      "394       395     MS   M   19     LE3                1                1   \n",
      "\n",
      "     traveltime  studytime  failures  famrel  freetime  goout  gradeperiod1  \\\n",
      "0             2          2         0       4         3      4             5   \n",
      "1             1          2         0       5         3      3             5   \n",
      "2             1          2         3       4         3      2             7   \n",
      "3             1          3         0       3         2      2            15   \n",
      "4             1          2         0       4         3      2             6   \n",
      "..          ...        ...       ...     ...       ...    ...           ...   \n",
      "390           1          2         2       5         5      4             9   \n",
      "391           2          1         0       2         4      5            14   \n",
      "392           1          1         3       5         5      3            10   \n",
      "393           3          1         0       4         4      1            11   \n",
      "394           1          1         0       3         2      3             8   \n",
      "\n",
      "     gradeperiod2  gradeperiod3  \n",
      "0               6             6  \n",
      "1               5             6  \n",
      "2               8            10  \n",
      "3              14            15  \n",
      "4              10            10  \n",
      "..            ...           ...  \n",
      "390             9             9  \n",
      "391            16            16  \n",
      "392             8             7  \n",
      "393            12            10  \n",
      "394             9             9  \n",
      "\n",
      "[395 rows x 16 columns]\n"
     ]
    }
   ],
   "source": [
    "# Define the connection string\n",
    "host = \"pdccmysql.c9sqqzd5fulv.us-west-2.rds.amazonaws.com\"\n",
    "user = \"pdccuser\"\n",
    "password = \"pdccpass\"\n",
    "database = \"pdccschema\"\n",
    "\n",
    "# Create the SQLAlchemy engine\n",
    "engine = create_engine(f'mysql+pymysql://{user}:{password}@{host}/{database}')\n",
    "\n",
    "# Use the engine to execute the query and load data into a DataFrame\n",
    "sqlselect = \"SELECT studentid, school, sex, age, famsize,\\\n",
    "  medu AS mothereducation, fedu AS fathereducation,\\\n",
    "  traveltime, studytime, failures, famrel, freetime,\\\n",
    "  goout, g1 AS gradeperiod1, g2 AS gradeperiod2,\\\n",
    "  g3 AS gradeperiod3 From studentmath\"\n",
    "with engine.connect() as conn:\n",
    "    studentmath = pd.read_sql(sqlselect, conn)\n",
    "\n",
    "# DataFrame is now ready\n",
    "print(studentmath)"
   ]
  },
  {
   "cell_type": "code",
   "execution_count": 23,
   "id": "decb6da9-f32a-4bf4-846a-be214bef3eab",
   "metadata": {},
   "outputs": [],
   "source": [
    "# rearrange columns and set an index\n",
    "newcolorder = ['studentid', 'gradeperiod1',\n",
    "  'gradeperiod2','gradeperiod3', 'school', \n",
    "  'sex', 'age', 'famsize','mothereducation',\n",
    "  'fathereducation', 'traveltime',\n",
    "  'studytime', 'freetime', 'failures',\n",
    "  'famrel','goout']"
   ]
  },
  {
   "cell_type": "code",
   "execution_count": 25,
   "id": "6e5d6077-1435-4c6f-aa1c-3c0f09995651",
   "metadata": {},
   "outputs": [
    {
     "data": {
      "text/plain": [
       "395"
      ]
     },
     "execution_count": 25,
     "metadata": {},
     "output_type": "execute_result"
    }
   ],
   "source": [
    "studentmath = studentmath[newcolorder]\n",
    "studentmath.studentid.count()"
   ]
  },
  {
   "cell_type": "code",
   "execution_count": 28,
   "id": "86c20f6d-7449-4c4d-a432-61070b2d4ee5",
   "metadata": {},
   "outputs": [
    {
     "data": {
      "text/plain": [
       "395"
      ]
     },
     "execution_count": 28,
     "metadata": {},
     "output_type": "execute_result"
    }
   ],
   "source": [
    "studentmath.studentid.nunique()"
   ]
  },
  {
   "cell_type": "code",
   "execution_count": 30,
   "id": "6c6748ca-d2e1-4700-8557-2e2e077ea48c",
   "metadata": {},
   "outputs": [
    {
     "data": {
      "text/plain": [
       "studentid          395\n",
       "gradeperiod1       395\n",
       "gradeperiod2       395\n",
       "gradeperiod3       395\n",
       "school             395\n",
       "sex                395\n",
       "age                395\n",
       "famsize            395\n",
       "mothereducation    395\n",
       "fathereducation    395\n",
       "traveltime         395\n",
       "studytime          395\n",
       "freetime           395\n",
       "failures           395\n",
       "famrel             395\n",
       "goout              395\n",
       "dtype: int64"
      ]
     },
     "execution_count": 30,
     "metadata": {},
     "output_type": "execute_result"
    }
   ],
   "source": [
    "# Use the DataFrame’s count function to check for missing values:\n",
    "studentmath.count()"
   ]
  },
  {
   "cell_type": "code",
   "execution_count": 47,
   "id": "bc7a848c-6040-4bee-b2b8-8afa5a63146d",
   "metadata": {},
   "outputs": [],
   "source": [
    "studentmath.set_index('studentid', inplace=True)"
   ]
  },
  {
   "cell_type": "code",
   "execution_count": 49,
   "id": "20d6f433-00a0-45d6-88b3-145dcf8fba7e",
   "metadata": {},
   "outputs": [
    {
     "data": {
      "text/plain": [
       "gradeperiod1       395\n",
       "gradeperiod2       395\n",
       "gradeperiod3       395\n",
       "school             395\n",
       "sex                395\n",
       "age                395\n",
       "famsize            395\n",
       "mothereducation    395\n",
       "fathereducation    395\n",
       "traveltime         395\n",
       "studytime          395\n",
       "freetime           395\n",
       "failures           395\n",
       "famrel             395\n",
       "goout              395\n",
       "dtype: int64"
      ]
     },
     "execution_count": 49,
     "metadata": {},
     "output_type": "execute_result"
    }
   ],
   "source": [
    "studentmath.count()"
   ]
  },
  {
   "cell_type": "code",
   "execution_count": 51,
   "id": "3593ced4-0687-4ed8-bb8a-a28c3995d850",
   "metadata": {},
   "outputs": [],
   "source": [
    "# Replace coded data values with more informative values\n",
    "# Create a dictionary with the replacement values for the columns, and then use replace to set those values\n",
    "setvalues= \\\n",
    "  {\"famrel\":{1:\"1:very bad\",2:\"2:bad\",\n",
    "    3:\"3:neutral\",4:\"4:good\",5:\"5:excellent\"},\n",
    "  \"freetime\":{1:\"1:very low\",2:\"2:low\",\n",
    "    3:\"3:neutral\",4:\"4:high\",5:\"5:very high\"},\n",
    "  \"goout\":{1:\"1:very low\",2:\"2:low\",3:\"3:neutral\",\n",
    "    4:\"4:high\",5:\"5:very high\"},\n",
    "  \"mothereducation\":{0:np.nan,1:\"1:k-4\",2:\"2:5-9\",\n",
    "    3:\"3:secondary ed\",4:\"4:higher ed\"},\n",
    "  \"fathereducation\":{0:np.nan,1:\"1:k-4\",2:\"2:5-9\",\n",
    "    3:\"3:secondary ed\",4:\"4:higher ed\"}}"
   ]
  },
  {
   "cell_type": "code",
   "execution_count": 53,
   "id": "33c7fcda-6629-4781-85e1-272c2d61c4af",
   "metadata": {},
   "outputs": [],
   "source": [
    "studentmath.replace(setvalues, inplace=True)"
   ]
  },
  {
   "cell_type": "code",
   "execution_count": 55,
   "id": "d57d4b2f-81e5-4a64-8da6-b9f5061341b0",
   "metadata": {},
   "outputs": [
    {
     "data": {
      "text/plain": [
       "famrel             3160\n",
       "freetime           3160\n",
       "goout              3160\n",
       "mothereducation    3160\n",
       "fathereducation    3160\n",
       "dtype: int64"
      ]
     },
     "execution_count": 55,
     "metadata": {},
     "output_type": "execute_result"
    }
   ],
   "source": [
    "setvalueskeys = [k for k in setvalues]\n",
    "studentmath[setvalueskeys].memory_usage(index=False)\n"
   ]
  },
  {
   "cell_type": "code",
   "execution_count": 57,
   "id": "a9773f40-a749-4ea1-aaa9-2a9fb657e0ac",
   "metadata": {},
   "outputs": [],
   "source": [
    "for col in studentmath[setvalueskeys].columns:\n",
    "  studentmath[col] = studentmath[col]. \\\n",
    "    astype('category')"
   ]
  },
  {
   "cell_type": "code",
   "execution_count": 59,
   "id": "90b9d082-f90c-4d3b-a1cf-7eee2e42d6b0",
   "metadata": {},
   "outputs": [
    {
     "data": {
      "text/plain": [
       "famrel             607\n",
       "freetime           607\n",
       "goout              607\n",
       "mothereducation    599\n",
       "fathereducation    599\n",
       "dtype: int64"
      ]
     },
     "execution_count": 59,
     "metadata": {},
     "output_type": "execute_result"
    }
   ],
   "source": [
    "studentmath[setvalueskeys].memory_usage(index=False)"
   ]
  },
  {
   "cell_type": "code",
   "execution_count": 62,
   "id": "9b50c53a-9e5d-4951-98e8-e039eecbe67e",
   "metadata": {},
   "outputs": [
    {
     "data": {
      "text/plain": [
       "famrel\n",
       "1:very bad     0.020253\n",
       "2:bad          0.045570\n",
       "3:neutral      0.172152\n",
       "4:good         0.493671\n",
       "5:excellent    0.268354\n",
       "Name: proportion, dtype: float64"
      ]
     },
     "execution_count": 62,
     "metadata": {},
     "output_type": "execute_result"
    }
   ],
   "source": [
    "# take a closer look at the new values\n",
    "studentmath['famrel'].value_counts(sort=False, normalize=True)"
   ]
  },
  {
   "cell_type": "code",
   "execution_count": 64,
   "id": "966214ed-81ef-4156-b744-c77252616d1c",
   "metadata": {},
   "outputs": [
    {
     "data": {
      "text/html": [
       "<div>\n",
       "<style scoped>\n",
       "    .dataframe tbody tr th:only-of-type {\n",
       "        vertical-align: middle;\n",
       "    }\n",
       "\n",
       "    .dataframe tbody tr th {\n",
       "        vertical-align: top;\n",
       "    }\n",
       "\n",
       "    .dataframe thead th {\n",
       "        text-align: right;\n",
       "    }\n",
       "</style>\n",
       "<table border=\"1\" class=\"dataframe\">\n",
       "  <thead>\n",
       "    <tr style=\"text-align: right;\">\n",
       "      <th></th>\n",
       "      <th>freetime</th>\n",
       "      <th>goout</th>\n",
       "    </tr>\n",
       "  </thead>\n",
       "  <tbody>\n",
       "    <tr>\n",
       "      <th>1:very low</th>\n",
       "      <td>0.048101</td>\n",
       "      <td>0.058228</td>\n",
       "    </tr>\n",
       "    <tr>\n",
       "      <th>2:low</th>\n",
       "      <td>0.162025</td>\n",
       "      <td>0.260759</td>\n",
       "    </tr>\n",
       "    <tr>\n",
       "      <th>3:neutral</th>\n",
       "      <td>0.397468</td>\n",
       "      <td>0.329114</td>\n",
       "    </tr>\n",
       "    <tr>\n",
       "      <th>4:high</th>\n",
       "      <td>0.291139</td>\n",
       "      <td>0.217722</td>\n",
       "    </tr>\n",
       "    <tr>\n",
       "      <th>5:very high</th>\n",
       "      <td>0.101266</td>\n",
       "      <td>0.134177</td>\n",
       "    </tr>\n",
       "  </tbody>\n",
       "</table>\n",
       "</div>"
      ],
      "text/plain": [
       "             freetime     goout\n",
       "1:very low   0.048101  0.058228\n",
       "2:low        0.162025  0.260759\n",
       "3:neutral    0.397468  0.329114\n",
       "4:high       0.291139  0.217722\n",
       "5:very high  0.101266  0.134177"
      ]
     },
     "execution_count": 64,
     "metadata": {},
     "output_type": "execute_result"
    }
   ],
   "source": [
    "studentmath[['freetime','goout']].\\\n",
    "  apply(pd.Series.value_counts, sort=False,\n",
    "  normalize=True)"
   ]
  },
  {
   "cell_type": "code",
   "execution_count": 66,
   "id": "756d9c6e-5702-4e44-bbd2-dd3cf5ac427c",
   "metadata": {},
   "outputs": [
    {
     "data": {
      "text/html": [
       "<div>\n",
       "<style scoped>\n",
       "    .dataframe tbody tr th:only-of-type {\n",
       "        vertical-align: middle;\n",
       "    }\n",
       "\n",
       "    .dataframe tbody tr th {\n",
       "        vertical-align: top;\n",
       "    }\n",
       "\n",
       "    .dataframe thead th {\n",
       "        text-align: right;\n",
       "    }\n",
       "</style>\n",
       "<table border=\"1\" class=\"dataframe\">\n",
       "  <thead>\n",
       "    <tr style=\"text-align: right;\">\n",
       "      <th></th>\n",
       "      <th>mothereducation</th>\n",
       "      <th>fathereducation</th>\n",
       "    </tr>\n",
       "  </thead>\n",
       "  <tbody>\n",
       "    <tr>\n",
       "      <th>1:k-4</th>\n",
       "      <td>0.150510</td>\n",
       "      <td>0.208651</td>\n",
       "    </tr>\n",
       "    <tr>\n",
       "      <th>2:5-9</th>\n",
       "      <td>0.262755</td>\n",
       "      <td>0.292621</td>\n",
       "    </tr>\n",
       "    <tr>\n",
       "      <th>3:secondary ed</th>\n",
       "      <td>0.252551</td>\n",
       "      <td>0.254453</td>\n",
       "    </tr>\n",
       "    <tr>\n",
       "      <th>4:higher ed</th>\n",
       "      <td>0.334184</td>\n",
       "      <td>0.244275</td>\n",
       "    </tr>\n",
       "  </tbody>\n",
       "</table>\n",
       "</div>"
      ],
      "text/plain": [
       "                mothereducation  fathereducation\n",
       "1:k-4                  0.150510         0.208651\n",
       "2:5-9                  0.262755         0.292621\n",
       "3:secondary ed         0.252551         0.254453\n",
       "4:higher ed            0.334184         0.244275"
      ]
     },
     "execution_count": 66,
     "metadata": {},
     "output_type": "execute_result"
    }
   ],
   "source": [
    "studentmath[['mothereducation','fathereducation']].\\\n",
    "  apply(pd.Series.value_counts, sort=False,\n",
    "  normalize=True)"
   ]
  },
  {
   "cell_type": "code",
   "execution_count": 71,
   "id": "24a1e07e-515d-4b52-9314-80b214d5456d",
   "metadata": {},
   "outputs": [
    {
     "data": {
      "text/html": [
       "<div>\n",
       "<style scoped>\n",
       "    .dataframe tbody tr th:only-of-type {\n",
       "        vertical-align: middle;\n",
       "    }\n",
       "\n",
       "    .dataframe tbody tr th {\n",
       "        vertical-align: top;\n",
       "    }\n",
       "\n",
       "    .dataframe thead th {\n",
       "        text-align: right;\n",
       "    }\n",
       "</style>\n",
       "<table border=\"1\" class=\"dataframe\">\n",
       "  <thead>\n",
       "    <tr style=\"text-align: right;\">\n",
       "      <th></th>\n",
       "      <th>gradeperiod1</th>\n",
       "      <th>gradeperiod2</th>\n",
       "      <th>gradeperiod3</th>\n",
       "      <th>school</th>\n",
       "      <th>sex</th>\n",
       "      <th>age</th>\n",
       "      <th>famsize</th>\n",
       "      <th>mothereducation</th>\n",
       "      <th>fathereducation</th>\n",
       "      <th>traveltime</th>\n",
       "      <th>studytime</th>\n",
       "      <th>freetime</th>\n",
       "      <th>failures</th>\n",
       "      <th>famrel</th>\n",
       "      <th>goout</th>\n",
       "    </tr>\n",
       "    <tr>\n",
       "      <th>studentid</th>\n",
       "      <th></th>\n",
       "      <th></th>\n",
       "      <th></th>\n",
       "      <th></th>\n",
       "      <th></th>\n",
       "      <th></th>\n",
       "      <th></th>\n",
       "      <th></th>\n",
       "      <th></th>\n",
       "      <th></th>\n",
       "      <th></th>\n",
       "      <th></th>\n",
       "      <th></th>\n",
       "      <th></th>\n",
       "      <th></th>\n",
       "    </tr>\n",
       "  </thead>\n",
       "  <tbody>\n",
       "    <tr>\n",
       "      <th>001</th>\n",
       "      <td>5</td>\n",
       "      <td>6</td>\n",
       "      <td>6</td>\n",
       "      <td>GP</td>\n",
       "      <td>F</td>\n",
       "      <td>18</td>\n",
       "      <td>GT3</td>\n",
       "      <td>4:higher ed</td>\n",
       "      <td>4:higher ed</td>\n",
       "      <td>2</td>\n",
       "      <td>2</td>\n",
       "      <td>3:neutral</td>\n",
       "      <td>0</td>\n",
       "      <td>4:good</td>\n",
       "      <td>4:high</td>\n",
       "    </tr>\n",
       "    <tr>\n",
       "      <th>002</th>\n",
       "      <td>5</td>\n",
       "      <td>5</td>\n",
       "      <td>6</td>\n",
       "      <td>GP</td>\n",
       "      <td>F</td>\n",
       "      <td>17</td>\n",
       "      <td>GT3</td>\n",
       "      <td>1:k-4</td>\n",
       "      <td>1:k-4</td>\n",
       "      <td>1</td>\n",
       "      <td>2</td>\n",
       "      <td>3:neutral</td>\n",
       "      <td>0</td>\n",
       "      <td>5:excellent</td>\n",
       "      <td>3:neutral</td>\n",
       "    </tr>\n",
       "    <tr>\n",
       "      <th>003</th>\n",
       "      <td>7</td>\n",
       "      <td>8</td>\n",
       "      <td>10</td>\n",
       "      <td>GP</td>\n",
       "      <td>F</td>\n",
       "      <td>15</td>\n",
       "      <td>LE3</td>\n",
       "      <td>1:k-4</td>\n",
       "      <td>1:k-4</td>\n",
       "      <td>1</td>\n",
       "      <td>2</td>\n",
       "      <td>3:neutral</td>\n",
       "      <td>3</td>\n",
       "      <td>4:good</td>\n",
       "      <td>2:low</td>\n",
       "    </tr>\n",
       "    <tr>\n",
       "      <th>004</th>\n",
       "      <td>15</td>\n",
       "      <td>14</td>\n",
       "      <td>15</td>\n",
       "      <td>GP</td>\n",
       "      <td>F</td>\n",
       "      <td>15</td>\n",
       "      <td>GT3</td>\n",
       "      <td>4:higher ed</td>\n",
       "      <td>2:5-9</td>\n",
       "      <td>1</td>\n",
       "      <td>3</td>\n",
       "      <td>2:low</td>\n",
       "      <td>0</td>\n",
       "      <td>3:neutral</td>\n",
       "      <td>2:low</td>\n",
       "    </tr>\n",
       "    <tr>\n",
       "      <th>005</th>\n",
       "      <td>6</td>\n",
       "      <td>10</td>\n",
       "      <td>10</td>\n",
       "      <td>GP</td>\n",
       "      <td>F</td>\n",
       "      <td>16</td>\n",
       "      <td>GT3</td>\n",
       "      <td>3:secondary ed</td>\n",
       "      <td>3:secondary ed</td>\n",
       "      <td>1</td>\n",
       "      <td>2</td>\n",
       "      <td>3:neutral</td>\n",
       "      <td>0</td>\n",
       "      <td>4:good</td>\n",
       "      <td>2:low</td>\n",
       "    </tr>\n",
       "    <tr>\n",
       "      <th>006</th>\n",
       "      <td>15</td>\n",
       "      <td>15</td>\n",
       "      <td>15</td>\n",
       "      <td>GP</td>\n",
       "      <td>M</td>\n",
       "      <td>16</td>\n",
       "      <td>LE3</td>\n",
       "      <td>4:higher ed</td>\n",
       "      <td>3:secondary ed</td>\n",
       "      <td>1</td>\n",
       "      <td>2</td>\n",
       "      <td>4:high</td>\n",
       "      <td>0</td>\n",
       "      <td>5:excellent</td>\n",
       "      <td>2:low</td>\n",
       "    </tr>\n",
       "    <tr>\n",
       "      <th>007</th>\n",
       "      <td>12</td>\n",
       "      <td>12</td>\n",
       "      <td>11</td>\n",
       "      <td>GP</td>\n",
       "      <td>M</td>\n",
       "      <td>16</td>\n",
       "      <td>LE3</td>\n",
       "      <td>2:5-9</td>\n",
       "      <td>2:5-9</td>\n",
       "      <td>1</td>\n",
       "      <td>2</td>\n",
       "      <td>4:high</td>\n",
       "      <td>0</td>\n",
       "      <td>4:good</td>\n",
       "      <td>4:high</td>\n",
       "    </tr>\n",
       "    <tr>\n",
       "      <th>008</th>\n",
       "      <td>6</td>\n",
       "      <td>5</td>\n",
       "      <td>6</td>\n",
       "      <td>GP</td>\n",
       "      <td>F</td>\n",
       "      <td>17</td>\n",
       "      <td>GT3</td>\n",
       "      <td>4:higher ed</td>\n",
       "      <td>4:higher ed</td>\n",
       "      <td>2</td>\n",
       "      <td>2</td>\n",
       "      <td>1:very low</td>\n",
       "      <td>0</td>\n",
       "      <td>4:good</td>\n",
       "      <td>4:high</td>\n",
       "    </tr>\n",
       "    <tr>\n",
       "      <th>009</th>\n",
       "      <td>16</td>\n",
       "      <td>18</td>\n",
       "      <td>19</td>\n",
       "      <td>GP</td>\n",
       "      <td>M</td>\n",
       "      <td>15</td>\n",
       "      <td>LE3</td>\n",
       "      <td>3:secondary ed</td>\n",
       "      <td>2:5-9</td>\n",
       "      <td>1</td>\n",
       "      <td>2</td>\n",
       "      <td>2:low</td>\n",
       "      <td>0</td>\n",
       "      <td>4:good</td>\n",
       "      <td>2:low</td>\n",
       "    </tr>\n",
       "    <tr>\n",
       "      <th>010</th>\n",
       "      <td>14</td>\n",
       "      <td>15</td>\n",
       "      <td>15</td>\n",
       "      <td>GP</td>\n",
       "      <td>M</td>\n",
       "      <td>15</td>\n",
       "      <td>GT3</td>\n",
       "      <td>3:secondary ed</td>\n",
       "      <td>4:higher ed</td>\n",
       "      <td>1</td>\n",
       "      <td>2</td>\n",
       "      <td>5:very high</td>\n",
       "      <td>0</td>\n",
       "      <td>5:excellent</td>\n",
       "      <td>1:very low</td>\n",
       "    </tr>\n",
       "  </tbody>\n",
       "</table>\n",
       "</div>"
      ],
      "text/plain": [
       "           gradeperiod1  gradeperiod2  gradeperiod3 school sex  age famsize  \\\n",
       "studentid                                                                     \n",
       "001                   5             6             6     GP   F   18     GT3   \n",
       "002                   5             5             6     GP   F   17     GT3   \n",
       "003                   7             8            10     GP   F   15     LE3   \n",
       "004                  15            14            15     GP   F   15     GT3   \n",
       "005                   6            10            10     GP   F   16     GT3   \n",
       "006                  15            15            15     GP   M   16     LE3   \n",
       "007                  12            12            11     GP   M   16     LE3   \n",
       "008                   6             5             6     GP   F   17     GT3   \n",
       "009                  16            18            19     GP   M   15     LE3   \n",
       "010                  14            15            15     GP   M   15     GT3   \n",
       "\n",
       "          mothereducation fathereducation  traveltime  studytime     freetime  \\\n",
       "studentid                                                                       \n",
       "001           4:higher ed     4:higher ed           2          2    3:neutral   \n",
       "002                 1:k-4           1:k-4           1          2    3:neutral   \n",
       "003                 1:k-4           1:k-4           1          2    3:neutral   \n",
       "004           4:higher ed           2:5-9           1          3        2:low   \n",
       "005        3:secondary ed  3:secondary ed           1          2    3:neutral   \n",
       "006           4:higher ed  3:secondary ed           1          2       4:high   \n",
       "007                 2:5-9           2:5-9           1          2       4:high   \n",
       "008           4:higher ed     4:higher ed           2          2   1:very low   \n",
       "009        3:secondary ed           2:5-9           1          2        2:low   \n",
       "010        3:secondary ed     4:higher ed           1          2  5:very high   \n",
       "\n",
       "           failures       famrel       goout  \n",
       "studentid                                     \n",
       "001               0       4:good      4:high  \n",
       "002               0  5:excellent   3:neutral  \n",
       "003               3       4:good       2:low  \n",
       "004               0    3:neutral       2:low  \n",
       "005               0       4:good       2:low  \n",
       "006               0  5:excellent       2:low  \n",
       "007               0       4:good      4:high  \n",
       "008               0       4:good      4:high  \n",
       "009               0       4:good       2:low  \n",
       "010               0  5:excellent  1:very low  "
      ]
     },
     "execution_count": 71,
     "metadata": {},
     "output_type": "execute_result"
    }
   ],
   "source": [
    "studentmath.head(10)"
   ]
  },
  {
   "cell_type": "code",
   "execution_count": null,
   "id": "6e523730-b578-42f2-b33c-ac3acc4be8b8",
   "metadata": {},
   "outputs": [],
   "source": []
  }
 ],
 "metadata": {
  "kernelspec": {
   "display_name": "dataclean_env",
   "language": "python",
   "name": "dataclean_env"
  },
  "language_info": {
   "codemirror_mode": {
    "name": "ipython",
    "version": 3
   },
   "file_extension": ".py",
   "mimetype": "text/x-python",
   "name": "python",
   "nbconvert_exporter": "python",
   "pygments_lexer": "ipython3",
   "version": "3.12.7"
  }
 },
 "nbformat": 4,
 "nbformat_minor": 5
}
