{
 "cells": [
  {
   "cell_type": "code",
   "execution_count": 3,
   "id": "1da29050-3a41-4ada-b1f1-aca25eca065f",
   "metadata": {},
   "outputs": [],
   "source": [
    "import pandas as pd\n",
    "import numpy as np\n",
    "import pyreadstat"
   ]
  },
  {
   "cell_type": "code",
   "execution_count": 45,
   "id": "4351b6c7-be95-40eb-8261-0a76c701bb02",
   "metadata": {},
   "outputs": [],
   "source": [
    "pd.set_option('display.max_columns', 5)\n",
    "# pd.reset_option('display.float_format')\n",
    "pd.options.display.float_format = '{:,.2f}'.format\n",
    "pd.set_option('display.width', 75)"
   ]
  },
  {
   "cell_type": "code",
   "execution_count": 19,
   "id": "5186624c-5033-414f-ad1c-d65b63523527",
   "metadata": {},
   "outputs": [],
   "source": [
    "# retrieve spss data, along with the meta data\n",
    "nls97spss, metaspss = pyreadstat.read_sav('data/nls97.sav')"
   ]
  },
  {
   "cell_type": "code",
   "execution_count": 21,
   "id": "d304824c-528c-4070-b0f4-58272246a1cb",
   "metadata": {},
   "outputs": [
    {
     "data": {
      "text/plain": [
       "R0000100    float64\n",
       "R0536300    float64\n",
       "R0536401    float64\n",
       "R0536402    float64\n",
       "R1235800    float64\n",
       "R1482600    float64\n",
       "R9793800    float64\n",
       "R9793900    float64\n",
       "R9871900    float64\n",
       "R9872000    float64\n",
       "R9872200    float64\n",
       "R9872400    float64\n",
       "S8646900    float64\n",
       "S8647000    float64\n",
       "S8647100    float64\n",
       "S8647200    float64\n",
       "S8647300    float64\n",
       "S8647400    float64\n",
       "S8647500    float64\n",
       "S8647600    float64\n",
       "S8647700    float64\n",
       "S8647800    float64\n",
       "T6651700    float64\n",
       "U1836800    float64\n",
       "U1836900    float64\n",
       "U1837000    float64\n",
       "U1837100    float64\n",
       "U1837200    float64\n",
       "U1837300    float64\n",
       "U1845400    float64\n",
       "U1852400    float64\n",
       "U1852600    float64\n",
       "U1852700    float64\n",
       "U2166200    float64\n",
       "U2166300    float64\n",
       "U2166400    float64\n",
       "U2166500    float64\n",
       "U2857300    float64\n",
       "U2962800    float64\n",
       "U2962900    float64\n",
       "U2963000    float64\n",
       "Z9063900    float64\n",
       "dtype: object"
      ]
     },
     "execution_count": 21,
     "metadata": {},
     "output_type": "execute_result"
    }
   ],
   "source": [
    "nls97spss.dtypes"
   ]
  },
  {
   "cell_type": "code",
   "execution_count": 23,
   "id": "2f11866e-a816-42c3-8183-e9b3086af1cd",
   "metadata": {},
   "outputs": [
    {
     "data": {
      "text/html": [
       "<div>\n",
       "<style scoped>\n",
       "    .dataframe tbody tr th:only-of-type {\n",
       "        vertical-align: middle;\n",
       "    }\n",
       "\n",
       "    .dataframe tbody tr th {\n",
       "        vertical-align: top;\n",
       "    }\n",
       "\n",
       "    .dataframe thead th {\n",
       "        text-align: right;\n",
       "    }\n",
       "</style>\n",
       "<table border=\"1\" class=\"dataframe\">\n",
       "  <thead>\n",
       "    <tr style=\"text-align: right;\">\n",
       "      <th></th>\n",
       "      <th>R0000100</th>\n",
       "      <th>R0536300</th>\n",
       "      <th>...</th>\n",
       "      <th>U2963000</th>\n",
       "      <th>Z9063900</th>\n",
       "    </tr>\n",
       "  </thead>\n",
       "  <tbody>\n",
       "    <tr>\n",
       "      <th>0</th>\n",
       "      <td>1</td>\n",
       "      <td>2</td>\n",
       "      <td>...</td>\n",
       "      <td>NaN</td>\n",
       "      <td>52</td>\n",
       "    </tr>\n",
       "    <tr>\n",
       "      <th>1</th>\n",
       "      <td>2</td>\n",
       "      <td>1</td>\n",
       "      <td>...</td>\n",
       "      <td>6</td>\n",
       "      <td>0</td>\n",
       "    </tr>\n",
       "    <tr>\n",
       "      <th>2</th>\n",
       "      <td>3</td>\n",
       "      <td>2</td>\n",
       "      <td>...</td>\n",
       "      <td>6</td>\n",
       "      <td>0</td>\n",
       "    </tr>\n",
       "    <tr>\n",
       "      <th>3</th>\n",
       "      <td>4</td>\n",
       "      <td>2</td>\n",
       "      <td>...</td>\n",
       "      <td>6</td>\n",
       "      <td>4</td>\n",
       "    </tr>\n",
       "    <tr>\n",
       "      <th>4</th>\n",
       "      <td>5</td>\n",
       "      <td>1</td>\n",
       "      <td>...</td>\n",
       "      <td>5</td>\n",
       "      <td>12</td>\n",
       "    </tr>\n",
       "  </tbody>\n",
       "</table>\n",
       "<p>5 rows × 42 columns</p>\n",
       "</div>"
      ],
      "text/plain": [
       "   R0000100  R0536300  ...  U2963000  Z9063900\n",
       "0         1         2  ...       NaN        52\n",
       "1         2         1  ...         6         0\n",
       "2         3         2  ...         6         0\n",
       "3         4         2  ...         6         4\n",
       "4         5         1  ...         5        12\n",
       "\n",
       "[5 rows x 42 columns]"
      ]
     },
     "execution_count": 23,
     "metadata": {},
     "output_type": "execute_result"
    }
   ],
   "source": [
    "nls97spss.head()"
   ]
  },
  {
   "cell_type": "code",
   "execution_count": 47,
   "id": "0f427b6f-8a37-4ef5-b7be-1dc819a56078",
   "metadata": {},
   "outputs": [
    {
     "data": {
      "text/plain": [
       "R0536300\n",
       "1.00   0.51\n",
       "2.00   0.49\n",
       "Name: proportion, dtype: float64"
      ]
     },
     "execution_count": 47,
     "metadata": {},
     "output_type": "execute_result"
    }
   ],
   "source": [
    "nls97spss['R0536300'].value_counts(normalize=True)"
   ]
  },
  {
   "cell_type": "code",
   "execution_count": 43,
   "id": "60f68649-f1fa-421b-84cb-42a89b38d3fc",
   "metadata": {},
   "outputs": [
    {
     "name": "stdout",
     "output_type": "stream",
     "text": [
      "[2. 1.]\n"
     ]
    }
   ],
   "source": [
    "print(nls97spss['R0536300'].unique())"
   ]
  },
  {
   "cell_type": "code",
   "execution_count": 29,
   "id": "5df655d2-51bc-4334-a6f1-b8e37ba87d54",
   "metadata": {},
   "outputs": [
    {
     "name": "stdout",
     "output_type": "stream",
     "text": [
      "float64\n"
     ]
    }
   ],
   "source": [
    "print(nls97spss['R0536300'].dtype)"
   ]
  },
  {
   "cell_type": "code",
   "execution_count": 31,
   "id": "0f1b0bd3-08dd-48e3-acd2-dfec2478c66a",
   "metadata": {},
   "outputs": [
    {
     "name": "stdout",
     "output_type": "stream",
     "text": [
      "0\n"
     ]
    }
   ],
   "source": [
    "print(nls97spss['R0536300'].isnull().sum())"
   ]
  },
  {
   "cell_type": "code",
   "execution_count": 49,
   "id": "170f4288-7d99-4703-86fc-4d39ce6d84ed",
   "metadata": {},
   "outputs": [
    {
     "data": {
      "text/plain": [
       "R0536300\n",
       "1.00   0.51\n",
       "2.00   0.49\n",
       "Name: proportion, dtype: float64"
      ]
     },
     "execution_count": 49,
     "metadata": {},
     "output_type": "execute_result"
    }
   ],
   "source": [
    "nls97spss['R0536300'].value_counts(normalize=True)"
   ]
  },
  {
   "cell_type": "code",
   "execution_count": 51,
   "id": "488763ad-3e58-4ad8-80fc-e4e359ab9b71",
   "metadata": {},
   "outputs": [
    {
     "data": {
      "text/plain": [
       "{0.0: 'No Information', 1.0: 'Male', 2.0: 'Female'}"
      ]
     },
     "execution_count": 51,
     "metadata": {},
     "output_type": "execute_result"
    }
   ],
   "source": [
    "metaspss.variable_value_labels['R0536300']"
   ]
  },
  {
   "cell_type": "code",
   "execution_count": 53,
   "id": "5798d8ca-ec1d-46e1-bcbb-fe1dc4d33f52",
   "metadata": {},
   "outputs": [
    {
     "data": {
      "text/plain": [
       "R0536300\n",
       "Male     0.51\n",
       "Female   0.49\n",
       "Name: proportion, dtype: float64"
      ]
     },
     "execution_count": 53,
     "metadata": {},
     "output_type": "execute_result"
    }
   ],
   "source": [
    "nls97spss['R0536300'].\\\n",
    "  map(metaspss.variable_value_labels['R0536300']).\\\n",
    "  value_counts(normalize=True)"
   ]
  },
  {
   "cell_type": "code",
   "execution_count": null,
   "id": "be8c5e4a-7ae3-44af-8ed7-46eb5ffd123d",
   "metadata": {},
   "outputs": [],
   "source": []
  }
 ],
 "metadata": {
  "kernelspec": {
   "display_name": "dataclean_env",
   "language": "python",
   "name": "dataclean_env"
  },
  "language_info": {
   "codemirror_mode": {
    "name": "ipython",
    "version": 3
   },
   "file_extension": ".py",
   "mimetype": "text/x-python",
   "name": "python",
   "nbconvert_exporter": "python",
   "pygments_lexer": "ipython3",
   "version": "3.12.7"
  }
 },
 "nbformat": 4,
 "nbformat_minor": 5
}
