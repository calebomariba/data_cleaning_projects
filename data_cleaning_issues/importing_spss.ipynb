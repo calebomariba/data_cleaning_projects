{
 "cells": [
  {
   "cell_type": "code",
   "execution_count": 73,
   "id": "1da29050-3a41-4ada-b1f1-aca25eca065f",
   "metadata": {},
   "outputs": [],
   "source": [
    "import pandas as pd\n",
    "import numpy as np\n",
    "import pyreadstat"
   ]
  },
  {
   "cell_type": "code",
   "execution_count": 75,
   "id": "4351b6c7-be95-40eb-8261-0a76c701bb02",
   "metadata": {},
   "outputs": [],
   "source": [
    "pd.set_option('display.max_columns', 5)\n",
    "# pd.reset_option('display.float_format')\n",
    "pd.options.display.float_format = '{:,.2f}'.format\n",
    "pd.set_option('display.width', 75)"
   ]
  },
  {
   "cell_type": "code",
   "execution_count": 77,
   "id": "5186624c-5033-414f-ad1c-d65b63523527",
   "metadata": {},
   "outputs": [],
   "source": [
    "# retrieve spss data, along with the meta data\n",
    "nls97spss, metaspss = pyreadstat.read_sav('data/nls97.sav')"
   ]
  },
  {
   "cell_type": "code",
   "execution_count": 79,
   "id": "d304824c-528c-4070-b0f4-58272246a1cb",
   "metadata": {},
   "outputs": [
    {
     "data": {
      "text/plain": [
       "R0000100    float64\n",
       "R0536300    float64\n",
       "R0536401    float64\n",
       "R0536402    float64\n",
       "R1235800    float64\n",
       "R1482600    float64\n",
       "R9793800    float64\n",
       "R9793900    float64\n",
       "R9871900    float64\n",
       "R9872000    float64\n",
       "R9872200    float64\n",
       "R9872400    float64\n",
       "S8646900    float64\n",
       "S8647000    float64\n",
       "S8647100    float64\n",
       "S8647200    float64\n",
       "S8647300    float64\n",
       "S8647400    float64\n",
       "S8647500    float64\n",
       "S8647600    float64\n",
       "S8647700    float64\n",
       "S8647800    float64\n",
       "T6651700    float64\n",
       "U1836800    float64\n",
       "U1836900    float64\n",
       "U1837000    float64\n",
       "U1837100    float64\n",
       "U1837200    float64\n",
       "U1837300    float64\n",
       "U1845400    float64\n",
       "U1852400    float64\n",
       "U1852600    float64\n",
       "U1852700    float64\n",
       "U2166200    float64\n",
       "U2166300    float64\n",
       "U2166400    float64\n",
       "U2166500    float64\n",
       "U2857300    float64\n",
       "U2962800    float64\n",
       "U2962900    float64\n",
       "U2963000    float64\n",
       "Z9063900    float64\n",
       "dtype: object"
      ]
     },
     "execution_count": 79,
     "metadata": {},
     "output_type": "execute_result"
    }
   ],
   "source": [
    "nls97spss.dtypes"
   ]
  },
  {
   "cell_type": "code",
   "execution_count": 81,
   "id": "2f11866e-a816-42c3-8183-e9b3086af1cd",
   "metadata": {},
   "outputs": [
    {
     "data": {
      "text/html": [
       "<div>\n",
       "<style scoped>\n",
       "    .dataframe tbody tr th:only-of-type {\n",
       "        vertical-align: middle;\n",
       "    }\n",
       "\n",
       "    .dataframe tbody tr th {\n",
       "        vertical-align: top;\n",
       "    }\n",
       "\n",
       "    .dataframe thead th {\n",
       "        text-align: right;\n",
       "    }\n",
       "</style>\n",
       "<table border=\"1\" class=\"dataframe\">\n",
       "  <thead>\n",
       "    <tr style=\"text-align: right;\">\n",
       "      <th></th>\n",
       "      <th>R0000100</th>\n",
       "      <th>R0536300</th>\n",
       "      <th>...</th>\n",
       "      <th>U2963000</th>\n",
       "      <th>Z9063900</th>\n",
       "    </tr>\n",
       "  </thead>\n",
       "  <tbody>\n",
       "    <tr>\n",
       "      <th>0</th>\n",
       "      <td>1.00</td>\n",
       "      <td>2.00</td>\n",
       "      <td>...</td>\n",
       "      <td>NaN</td>\n",
       "      <td>52.00</td>\n",
       "    </tr>\n",
       "    <tr>\n",
       "      <th>1</th>\n",
       "      <td>2.00</td>\n",
       "      <td>1.00</td>\n",
       "      <td>...</td>\n",
       "      <td>6.00</td>\n",
       "      <td>0.00</td>\n",
       "    </tr>\n",
       "    <tr>\n",
       "      <th>2</th>\n",
       "      <td>3.00</td>\n",
       "      <td>2.00</td>\n",
       "      <td>...</td>\n",
       "      <td>6.00</td>\n",
       "      <td>0.00</td>\n",
       "    </tr>\n",
       "    <tr>\n",
       "      <th>3</th>\n",
       "      <td>4.00</td>\n",
       "      <td>2.00</td>\n",
       "      <td>...</td>\n",
       "      <td>6.00</td>\n",
       "      <td>4.00</td>\n",
       "    </tr>\n",
       "    <tr>\n",
       "      <th>4</th>\n",
       "      <td>5.00</td>\n",
       "      <td>1.00</td>\n",
       "      <td>...</td>\n",
       "      <td>5.00</td>\n",
       "      <td>12.00</td>\n",
       "    </tr>\n",
       "  </tbody>\n",
       "</table>\n",
       "<p>5 rows × 42 columns</p>\n",
       "</div>"
      ],
      "text/plain": [
       "   R0000100  R0536300  ...  U2963000  Z9063900\n",
       "0      1.00      2.00  ...       NaN     52.00\n",
       "1      2.00      1.00  ...      6.00      0.00\n",
       "2      3.00      2.00  ...      6.00      0.00\n",
       "3      4.00      2.00  ...      6.00      4.00\n",
       "4      5.00      1.00  ...      5.00     12.00\n",
       "\n",
       "[5 rows x 42 columns]"
      ]
     },
     "execution_count": 81,
     "metadata": {},
     "output_type": "execute_result"
    }
   ],
   "source": [
    "nls97spss.head()"
   ]
  },
  {
   "cell_type": "code",
   "execution_count": 83,
   "id": "0f427b6f-8a37-4ef5-b7be-1dc819a56078",
   "metadata": {},
   "outputs": [
    {
     "data": {
      "text/plain": [
       "R0536300\n",
       "1.00   0.51\n",
       "2.00   0.49\n",
       "Name: proportion, dtype: float64"
      ]
     },
     "execution_count": 83,
     "metadata": {},
     "output_type": "execute_result"
    }
   ],
   "source": [
    "nls97spss['R0536300'].value_counts(normalize=True)"
   ]
  },
  {
   "cell_type": "code",
   "execution_count": 85,
   "id": "60f68649-f1fa-421b-84cb-42a89b38d3fc",
   "metadata": {},
   "outputs": [
    {
     "name": "stdout",
     "output_type": "stream",
     "text": [
      "[2. 1.]\n"
     ]
    }
   ],
   "source": [
    "print(nls97spss['R0536300'].unique())"
   ]
  },
  {
   "cell_type": "code",
   "execution_count": 87,
   "id": "5df655d2-51bc-4334-a6f1-b8e37ba87d54",
   "metadata": {},
   "outputs": [
    {
     "name": "stdout",
     "output_type": "stream",
     "text": [
      "float64\n"
     ]
    }
   ],
   "source": [
    "print(nls97spss['R0536300'].dtype)"
   ]
  },
  {
   "cell_type": "code",
   "execution_count": 89,
   "id": "0f1b0bd3-08dd-48e3-acd2-dfec2478c66a",
   "metadata": {},
   "outputs": [
    {
     "name": "stdout",
     "output_type": "stream",
     "text": [
      "0\n"
     ]
    }
   ],
   "source": [
    "print(nls97spss['R0536300'].isnull().sum())"
   ]
  },
  {
   "cell_type": "code",
   "execution_count": 91,
   "id": "170f4288-7d99-4703-86fc-4d39ce6d84ed",
   "metadata": {},
   "outputs": [
    {
     "data": {
      "text/plain": [
       "R0536300\n",
       "1.00   0.51\n",
       "2.00   0.49\n",
       "Name: proportion, dtype: float64"
      ]
     },
     "execution_count": 91,
     "metadata": {},
     "output_type": "execute_result"
    }
   ],
   "source": [
    "nls97spss['R0536300'].value_counts(normalize=True)"
   ]
  },
  {
   "cell_type": "code",
   "execution_count": 93,
   "id": "488763ad-3e58-4ad8-80fc-e4e359ab9b71",
   "metadata": {},
   "outputs": [
    {
     "data": {
      "text/plain": [
       "{0.0: 'No Information', 1.0: 'Male', 2.0: 'Female'}"
      ]
     },
     "execution_count": 93,
     "metadata": {},
     "output_type": "execute_result"
    }
   ],
   "source": [
    "metaspss.variable_value_labels['R0536300']"
   ]
  },
  {
   "cell_type": "code",
   "execution_count": 95,
   "id": "5798d8ca-ec1d-46e1-bcbb-fe1dc4d33f52",
   "metadata": {},
   "outputs": [
    {
     "data": {
      "text/plain": [
       "R0536300\n",
       "Male     0.51\n",
       "Female   0.49\n",
       "Name: proportion, dtype: float64"
      ]
     },
     "execution_count": 95,
     "metadata": {},
     "output_type": "execute_result"
    }
   ],
   "source": [
    "nls97spss['R0536300'].\\\n",
    "  map(metaspss.variable_value_labels['R0536300']).\\\n",
    "  value_counts(normalize=True)"
   ]
  },
  {
   "cell_type": "code",
   "execution_count": 97,
   "id": "be8c5e4a-7ae3-44af-8ed7-46eb5ffd123d",
   "metadata": {},
   "outputs": [],
   "source": [
    "nls97spss = pyreadstat.set_value_labels(nls97spss, metaspss, formats_as_category=True)"
   ]
  },
  {
   "cell_type": "code",
   "execution_count": 99,
   "id": "6f1eb5d3-bc01-48c2-932b-d7206ca26322",
   "metadata": {},
   "outputs": [],
   "source": [
    "# Use column labels in the metadata to rename the columns\n",
    "nls97spss.columns = metaspss.column_labels"
   ]
  },
  {
   "cell_type": "code",
   "execution_count": 101,
   "id": "a8b4f36b-6e22-4dfa-8b58-520f3dbc4a37",
   "metadata": {},
   "outputs": [
    {
     "data": {
      "text/plain": [
       "KEY!SEX (SYMBOL) 1997\n",
       "Male     0.51\n",
       "Female   0.49\n",
       "Name: proportion, dtype: float64"
      ]
     },
     "execution_count": 101,
     "metadata": {},
     "output_type": "execute_result"
    }
   ],
   "source": [
    "nls97spss['KEY!SEX (SYMBOL) 1997'].value_counts(normalize=True)"
   ]
  },
  {
   "cell_type": "code",
   "execution_count": 103,
   "id": "02b5a993-1f55-4d61-a4e9-358f5662a58f",
   "metadata": {},
   "outputs": [
    {
     "data": {
      "text/plain": [
       "PUBID - YTH ID CODE 1997                        float64\n",
       "KEY!SEX (SYMBOL) 1997                          category\n",
       "KEY!BDATE M/Y (SYMBOL) 1997                     float64\n",
       "KEY!BDATE M/Y (SYMBOL) 1997                     float64\n",
       "CV_SAMPLE_TYPE 1997                            category\n",
       "KEY!RACE_ETHNICITY (SYMBOL) 1997               category\n",
       "TRANS_SAT_VERBAL HSTR                           float64\n",
       "TRANS_SAT_MATH HSTR                             float64\n",
       "TRANS CRD GPA OVERALL HSTR                      float64\n",
       "TRANS CRD GPA ENG HSTR                          float64\n",
       "TRANS CRD GPA MATH HSTR                         float64\n",
       "TRANS CRD GPA LP SCI HSTR                       float64\n",
       "GOVT RESPONSIBILITY - PROVIDE JOBS 2006        category\n",
       "GOVT RESPNSBLTY - KEEP PRICES UND CTRL 2006    category\n",
       "GOVT RESPNSBLTY - HLTH CARE FOR SICK 2006      category\n",
       "GOVT RESPNSBLTY -PROV ELD LIV STAND 2006       category\n",
       "GOVT RESPNSBLTY -PROV IND HELP 2006            category\n",
       "GOVT RESPNSBLTY -PROV UNEMP LIV STAND 2006     category\n",
       "GOVT RESPNSBLTY -REDUCE INC DIFF 2006          category\n",
       "GOVT RESPNSBLTY -PROV COLL FIN AID 2006        category\n",
       "GOVT RESPNSBLTY -PROV DECENT HOUSING 2006      category\n",
       "GOVT RESPNSBLTY -PROTECT ENVIRONMENT 2006      category\n",
       "CV_BA_CREDITS L1 2011                           float64\n",
       "CV_COLLEGE_TYPE L1 2017                        category\n",
       "CV_COLLEGE_TYPE L2 2017                        category\n",
       "CV_COLLEGE_TYPE L3 2017                        category\n",
       "CV_COLLEGE_TYPE L4 2017                        category\n",
       "CV_COLLEGE_TYPE L5 2017                        category\n",
       "CV_COLLEGE_TYPE L6 2017                        category\n",
       "CV_HGC_EVER 2017                               category\n",
       "CV_MARSTAT_COLLAPSED 2017                      category\n",
       "CV_BIO_CHILD_HH 2017                            float64\n",
       "CV_BIO_CHILD_NR 2017                            float64\n",
       "DIPLOMA/DEGREE RCVD? L1 2017                   category\n",
       "DIPLOMA/DEGREE RCVD? L2 2017                   category\n",
       "DIPLOMA/DEGREE RCVD? L3 2017                   category\n",
       "DIPLOMA/DEGREE RCVD? L4 2017                   category\n",
       "EST INC WAGES, TIPS PAST YR 2017               category\n",
       "HRS/WK R USES A COMPUTER 2017                  category\n",
       "HRS/WK R WATCHES TELEVISION 2017               category\n",
       "HRS/NIGHT R SLEEPS 2017                         float64\n",
       "CVC_WKSWK_YR_ALL L99                            float64\n",
       "dtype: object"
      ]
     },
     "execution_count": 103,
     "metadata": {},
     "output_type": "execute_result"
    }
   ],
   "source": [
    "nls97spss.dtypes"
   ]
  },
  {
   "cell_type": "code",
   "execution_count": 105,
   "id": "b8d8cb04-9941-4b08-b87c-bc8bee1aac08",
   "metadata": {},
   "outputs": [],
   "source": [
    "nls97spss.columns = nls97spss.columns.\\\n",
    "    str.lower().\\\n",
    "    str.replace(' ','_').\\\n",
    "    str.replace('[^a-z0-9_]', '', regex=True)\n",
    "nls97spss.set_index('pubid__yth_id_code_1997', inplace=True)"
   ]
  },
  {
   "cell_type": "code",
   "execution_count": 108,
   "id": "573a0ec2-58e1-44e4-a286-3cfd29a379b6",
   "metadata": {},
   "outputs": [],
   "source": [
    "# apply the formats from the beginning\n",
    "nls97spss, metaspss = pyreadstat.read_sav('data/nls97.sav', apply_value_formats=True, formats_as_category=True)\n",
    "nls97spss.columns = metaspss.column_labels\n",
    "nls97spss.columns = nls97spss.columns.\\\n",
    "  str.lower().\\\n",
    "  str.replace(' ','_').\\\n",
    "  str.replace('[^a-z0-9_]', '', regex=True)"
   ]
  },
  {
   "cell_type": "code",
   "execution_count": 110,
   "id": "a3240833-7e4a-4c2e-8966-41b953be184f",
   "metadata": {},
   "outputs": [
    {
     "data": {
      "text/plain": [
       "pubid__yth_id_code_1997                        float64\n",
       "keysex_symbol_1997                            category\n",
       "keybdate_my_symbol_1997                        float64\n",
       "keybdate_my_symbol_1997                        float64\n",
       "cv_sample_type_1997                           category\n",
       "keyrace_ethnicity_symbol_1997                 category\n",
       "trans_sat_verbal_hstr                          float64\n",
       "trans_sat_math_hstr                            float64\n",
       "trans_crd_gpa_overall_hstr                     float64\n",
       "trans_crd_gpa_eng_hstr                         float64\n",
       "trans_crd_gpa_math_hstr                        float64\n",
       "trans_crd_gpa_lp_sci_hstr                      float64\n",
       "govt_responsibility__provide_jobs_2006        category\n",
       "govt_respnsblty__keep_prices_und_ctrl_2006    category\n",
       "govt_respnsblty__hlth_care_for_sick_2006      category\n",
       "govt_respnsblty_prov_eld_liv_stand_2006       category\n",
       "govt_respnsblty_prov_ind_help_2006            category\n",
       "govt_respnsblty_prov_unemp_liv_stand_2006     category\n",
       "govt_respnsblty_reduce_inc_diff_2006          category\n",
       "govt_respnsblty_prov_coll_fin_aid_2006        category\n",
       "govt_respnsblty_prov_decent_housing_2006      category\n",
       "govt_respnsblty_protect_environment_2006      category\n",
       "cv_ba_credits_l1_2011                          float64\n",
       "cv_college_type_l1_2017                       category\n",
       "cv_college_type_l2_2017                       category\n",
       "cv_college_type_l3_2017                       category\n",
       "cv_college_type_l4_2017                       category\n",
       "cv_college_type_l5_2017                       category\n",
       "cv_college_type_l6_2017                       category\n",
       "cv_hgc_ever_2017                              category\n",
       "cv_marstat_collapsed_2017                     category\n",
       "cv_bio_child_hh_2017                           float64\n",
       "cv_bio_child_nr_2017                           float64\n",
       "diplomadegree_rcvd_l1_2017                    category\n",
       "diplomadegree_rcvd_l2_2017                    category\n",
       "diplomadegree_rcvd_l3_2017                    category\n",
       "diplomadegree_rcvd_l4_2017                    category\n",
       "est_inc_wages_tips_past_yr_2017               category\n",
       "hrswk_r_uses_a_computer_2017                  category\n",
       "hrswk_r_watches_television_2017               category\n",
       "hrsnight_r_sleeps_2017                         float64\n",
       "cvc_wkswk_yr_all_l99                           float64\n",
       "dtype: object"
      ]
     },
     "execution_count": 110,
     "metadata": {},
     "output_type": "execute_result"
    }
   ],
   "source": [
    "nls97spss.dtypes"
   ]
  },
  {
   "cell_type": "code",
   "execution_count": 112,
   "id": "86825328-af9a-43ac-a085-c1bcfcd94f79",
   "metadata": {},
   "outputs": [
    {
     "data": {
      "text/html": [
       "<div>\n",
       "<style scoped>\n",
       "    .dataframe tbody tr th:only-of-type {\n",
       "        vertical-align: middle;\n",
       "    }\n",
       "\n",
       "    .dataframe tbody tr th {\n",
       "        vertical-align: top;\n",
       "    }\n",
       "\n",
       "    .dataframe thead th {\n",
       "        text-align: right;\n",
       "    }\n",
       "</style>\n",
       "<table border=\"1\" class=\"dataframe\">\n",
       "  <thead>\n",
       "    <tr style=\"text-align: right;\">\n",
       "      <th></th>\n",
       "      <th>pubid__yth_id_code_1997</th>\n",
       "      <th>keysex_symbol_1997</th>\n",
       "      <th>...</th>\n",
       "      <th>hrsnight_r_sleeps_2017</th>\n",
       "      <th>cvc_wkswk_yr_all_l99</th>\n",
       "    </tr>\n",
       "  </thead>\n",
       "  <tbody>\n",
       "    <tr>\n",
       "      <th>0</th>\n",
       "      <td>1.00</td>\n",
       "      <td>Female</td>\n",
       "      <td>...</td>\n",
       "      <td>NaN</td>\n",
       "      <td>52.00</td>\n",
       "    </tr>\n",
       "    <tr>\n",
       "      <th>1</th>\n",
       "      <td>2.00</td>\n",
       "      <td>Male</td>\n",
       "      <td>...</td>\n",
       "      <td>6.00</td>\n",
       "      <td>0.00</td>\n",
       "    </tr>\n",
       "    <tr>\n",
       "      <th>2</th>\n",
       "      <td>3.00</td>\n",
       "      <td>Female</td>\n",
       "      <td>...</td>\n",
       "      <td>6.00</td>\n",
       "      <td>0.00</td>\n",
       "    </tr>\n",
       "    <tr>\n",
       "      <th>3</th>\n",
       "      <td>4.00</td>\n",
       "      <td>Female</td>\n",
       "      <td>...</td>\n",
       "      <td>6.00</td>\n",
       "      <td>4.00</td>\n",
       "    </tr>\n",
       "    <tr>\n",
       "      <th>4</th>\n",
       "      <td>5.00</td>\n",
       "      <td>Male</td>\n",
       "      <td>...</td>\n",
       "      <td>5.00</td>\n",
       "      <td>12.00</td>\n",
       "    </tr>\n",
       "  </tbody>\n",
       "</table>\n",
       "<p>5 rows × 42 columns</p>\n",
       "</div>"
      ],
      "text/plain": [
       "   pubid__yth_id_code_1997 keysex_symbol_1997  ...  \\\n",
       "0                     1.00             Female  ...   \n",
       "1                     2.00               Male  ...   \n",
       "2                     3.00             Female  ...   \n",
       "3                     4.00             Female  ...   \n",
       "4                     5.00               Male  ...   \n",
       "\n",
       "   hrsnight_r_sleeps_2017  cvc_wkswk_yr_all_l99  \n",
       "0                     NaN                 52.00  \n",
       "1                    6.00                  0.00  \n",
       "2                    6.00                  0.00  \n",
       "3                    6.00                  4.00  \n",
       "4                    5.00                 12.00  \n",
       "\n",
       "[5 rows x 42 columns]"
      ]
     },
     "execution_count": 112,
     "metadata": {},
     "output_type": "execute_result"
    }
   ],
   "source": [
    "nls97spss.head()"
   ]
  },
  {
   "cell_type": "code",
   "execution_count": 114,
   "id": "6f71805c-996f-4b2b-ba8a-de12e8ebe62a",
   "metadata": {},
   "outputs": [
    {
     "data": {
      "text/plain": [
       "govt_responsibility__provide_jobs_2006\n",
       "Definitely should be        454\n",
       "Definitely should not be    300\n",
       "Probably should be          617\n",
       "Probably should not be      462\n",
       "Name: count, dtype: int64"
      ]
     },
     "execution_count": 114,
     "metadata": {},
     "output_type": "execute_result"
    }
   ],
   "source": [
    "nls97spss.govt_responsibility__provide_jobs_2006.\\\n",
    "  value_counts(sort=False)"
   ]
  },
  {
   "cell_type": "code",
   "execution_count": 116,
   "id": "00c84e72-d1a2-4b67-8663-47eab723aa4c",
   "metadata": {},
   "outputs": [],
   "source": [
    "nls97spss.set_index('pubid__yth_id_code_1997', inplace=True)"
   ]
  },
  {
   "cell_type": "code",
   "execution_count": 154,
   "id": "c6d09a94-4d0a-42ba-b597-712e02aff740",
   "metadata": {},
   "outputs": [],
   "source": [
    "# Import the Stata data, apply value labels, and improve the column headings\n",
    "nls97stata, metastata = pyreadstat.read_dta('data/nls97.dta', apply_value_formats=True, formats_as_category=True)\n",
    "nls97stata.columns = metastata.column_labels\n",
    "nls97stata.columns = nls97stata.columns.\\\n",
    "    str.lower().\\\n",
    "    str.replace(' ','_').\\\n",
    "    str.replace('[^a-z0-9_]', '', regex=True)"
   ]
  },
  {
   "cell_type": "code",
   "execution_count": 156,
   "id": "d32a22dc-4ffb-4109-9bd9-07d77a8a1fcd",
   "metadata": {},
   "outputs": [
    {
     "data": {
      "text/plain": [
       "pubid__yth_id_code_1997                        float64\n",
       "keysex_symbol_1997                            category\n",
       "keybdate_my_symbol_1997                        float64\n",
       "keybdate_my_symbol_1997                        float64\n",
       "cv_sample_type_1997                           category\n",
       "keyrace_ethnicity_symbol_1997                 category\n",
       "trans_sat_verbal_hstr                          float64\n",
       "trans_sat_math_hstr                            float64\n",
       "trans_crd_gpa_overall_hstr                     float64\n",
       "trans_crd_gpa_eng_hstr                         float64\n",
       "trans_crd_gpa_math_hstr                        float64\n",
       "trans_crd_gpa_lp_sci_hstr                      float64\n",
       "govt_responsibility__provide_jobs_2006        category\n",
       "govt_respnsblty__keep_prices_und_ctrl_2006    category\n",
       "govt_respnsblty__hlth_care_for_sick_2006      category\n",
       "govt_respnsblty_prov_eld_liv_stand_2006       category\n",
       "govt_respnsblty_prov_ind_help_2006            category\n",
       "govt_respnsblty_prov_unemp_liv_stand_2006     category\n",
       "govt_respnsblty_reduce_inc_diff_2006          category\n",
       "govt_respnsblty_prov_coll_fin_aid_2006        category\n",
       "govt_respnsblty_prov_decent_housing_2006      category\n",
       "govt_respnsblty_protect_environment_2006      category\n",
       "cv_ba_credits_l1_2011                          float64\n",
       "cv_college_type_l1_2017                       category\n",
       "cv_college_type_l2_2017                       category\n",
       "cv_college_type_l3_2017                       category\n",
       "cv_college_type_l4_2017                       category\n",
       "cv_college_type_l5_2017                       category\n",
       "cv_college_type_l6_2017                       category\n",
       "cv_hgc_ever_2017                              category\n",
       "cv_marstat_collapsed_2017                     category\n",
       "cv_bio_child_hh_2017                           float64\n",
       "cv_bio_child_nr_2017                           float64\n",
       "diplomadegree_rcvd_l1_2017                    category\n",
       "diplomadegree_rcvd_l2_2017                    category\n",
       "diplomadegree_rcvd_l3_2017                    category\n",
       "diplomadegree_rcvd_l4_2017                    category\n",
       "est_inc_wages_tips_past_yr_2017               category\n",
       "hrswk_r_uses_a_computer_2017                  category\n",
       "hrswk_r_watches_television_2017               category\n",
       "hrsnight_r_sleeps_2017                         float64\n",
       "cvc_wkswk_yr_all_l99                           float64\n",
       "dtype: object"
      ]
     },
     "execution_count": 156,
     "metadata": {},
     "output_type": "execute_result"
    }
   ],
   "source": [
    "nls97stata.dtypes"
   ]
  },
  {
   "cell_type": "code",
   "execution_count": 148,
   "id": "436beb5a-c272-455f-9f9d-1173a8e7d273",
   "metadata": {},
   "outputs": [
    {
     "data": {
      "text/html": [
       "<div>\n",
       "<style scoped>\n",
       "    .dataframe tbody tr th:only-of-type {\n",
       "        vertical-align: middle;\n",
       "    }\n",
       "\n",
       "    .dataframe tbody tr th {\n",
       "        vertical-align: top;\n",
       "    }\n",
       "\n",
       "    .dataframe thead th {\n",
       "        text-align: right;\n",
       "    }\n",
       "</style>\n",
       "<table border=\"1\" class=\"dataframe\">\n",
       "  <thead>\n",
       "    <tr style=\"text-align: right;\">\n",
       "      <th></th>\n",
       "      <th>keysex_symbol_1997</th>\n",
       "      <th>keybdate_my_symbol_1997</th>\n",
       "      <th>...</th>\n",
       "      <th>hrsnight_r_sleeps_2017</th>\n",
       "      <th>cvc_wkswk_yr_all_l99</th>\n",
       "    </tr>\n",
       "    <tr>\n",
       "      <th>pubid__yth_id_code_1997</th>\n",
       "      <th></th>\n",
       "      <th></th>\n",
       "      <th></th>\n",
       "      <th></th>\n",
       "      <th></th>\n",
       "    </tr>\n",
       "  </thead>\n",
       "  <tbody>\n",
       "    <tr>\n",
       "      <th>1.00</th>\n",
       "      <td>Female</td>\n",
       "      <td>9.00</td>\n",
       "      <td>...</td>\n",
       "      <td>NaN</td>\n",
       "      <td>52.00</td>\n",
       "    </tr>\n",
       "    <tr>\n",
       "      <th>2.00</th>\n",
       "      <td>Male</td>\n",
       "      <td>7.00</td>\n",
       "      <td>...</td>\n",
       "      <td>6.00</td>\n",
       "      <td>0.00</td>\n",
       "    </tr>\n",
       "    <tr>\n",
       "      <th>3.00</th>\n",
       "      <td>Female</td>\n",
       "      <td>9.00</td>\n",
       "      <td>...</td>\n",
       "      <td>6.00</td>\n",
       "      <td>0.00</td>\n",
       "    </tr>\n",
       "    <tr>\n",
       "      <th>4.00</th>\n",
       "      <td>Female</td>\n",
       "      <td>2.00</td>\n",
       "      <td>...</td>\n",
       "      <td>6.00</td>\n",
       "      <td>4.00</td>\n",
       "    </tr>\n",
       "    <tr>\n",
       "      <th>5.00</th>\n",
       "      <td>Male</td>\n",
       "      <td>10.00</td>\n",
       "      <td>...</td>\n",
       "      <td>5.00</td>\n",
       "      <td>12.00</td>\n",
       "    </tr>\n",
       "  </tbody>\n",
       "</table>\n",
       "<p>5 rows × 41 columns</p>\n",
       "</div>"
      ],
      "text/plain": [
       "                        keysex_symbol_1997  keybdate_my_symbol_1997  ...  \\\n",
       "pubid__yth_id_code_1997                                              ...   \n",
       "1.00                                Female                     9.00  ...   \n",
       "2.00                                  Male                     7.00  ...   \n",
       "3.00                                Female                     9.00  ...   \n",
       "4.00                                Female                     2.00  ...   \n",
       "5.00                                  Male                    10.00  ...   \n",
       "\n",
       "                         hrsnight_r_sleeps_2017 cvc_wkswk_yr_all_l99  \n",
       "pubid__yth_id_code_1997                                               \n",
       "1.00                                        NaN                52.00  \n",
       "2.00                                       6.00                 0.00  \n",
       "3.00                                       6.00                 0.00  \n",
       "4.00                                       6.00                 4.00  \n",
       "5.00                                       5.00                12.00  \n",
       "\n",
       "[5 rows x 41 columns]"
      ]
     },
     "execution_count": 148,
     "metadata": {},
     "output_type": "execute_result"
    }
   ],
   "source": [
    "nls97stata.head()"
   ]
  },
  {
   "cell_type": "code",
   "execution_count": 158,
   "id": "e9c7dd01-ccbb-4991-ac68-889b09207044",
   "metadata": {},
   "outputs": [
    {
     "data": {
      "text/plain": [
       "govt_responsibility__provide_jobs_2006\n",
       "-5.00                        1425\n",
       "-4.00                        5665\n",
       "-2.00                          56\n",
       "-1.00                           5\n",
       " Definitely should be         454\n",
       " Definitely should not be     300\n",
       " Probably should be           617\n",
       " Probably should not be       462\n",
       "Name: count, dtype: int64"
      ]
     },
     "execution_count": 158,
     "metadata": {},
     "output_type": "execute_result"
    }
   ],
   "source": [
    "nls97stata.govt_responsibility__provide_jobs_2006.\\\n",
    "  value_counts(sort=False)"
   ]
  },
  {
   "cell_type": "code",
   "execution_count": 160,
   "id": "0c8322b5-9eb0-4f40-8871-808702b49212",
   "metadata": {},
   "outputs": [
    {
     "data": {
      "text/plain": [
       "pubid__yth_id_code_1997          1.00\n",
       "keybdate_my_symbol_1997          1.00\n",
       "keybdate_my_symbol_1997      1,980.00\n",
       "trans_sat_verbal_hstr           -4.00\n",
       "trans_sat_math_hstr             -4.00\n",
       "trans_crd_gpa_overall_hstr      -9.00\n",
       "trans_crd_gpa_eng_hstr          -9.00\n",
       "trans_crd_gpa_math_hstr         -9.00\n",
       "trans_crd_gpa_lp_sci_hstr       -9.00\n",
       "cv_ba_credits_l1_2011           -5.00\n",
       "cv_bio_child_hh_2017            -5.00\n",
       "cv_bio_child_nr_2017            -5.00\n",
       "hrsnight_r_sleeps_2017          -5.00\n",
       "cvc_wkswk_yr_all_l99            -4.00\n",
       "dtype: float64"
      ]
     },
     "execution_count": 160,
     "metadata": {},
     "output_type": "execute_result"
    }
   ],
   "source": [
    "nls97stata.min(numeric_only=True)"
   ]
  },
  {
   "cell_type": "code",
   "execution_count": 162,
   "id": "ed45e8f2-bc72-487b-950f-b02d5198f32c",
   "metadata": {},
   "outputs": [
    {
     "name": "stderr",
     "output_type": "stream",
     "text": [
      "C:\\Users\\user\\AppData\\Local\\Temp\\ipykernel_16840\\2874339248.py:1: FutureWarning: The behavior of Series.replace (and DataFrame.replace) with CategoricalDtype is deprecated. In a future version, replace will only be used for cases that preserve the categories. To change the categories, use ser.cat.rename_categories instead.\n",
      "  nls97stata.replace(list(range(-9,0)), np.nan, inplace=True)\n"
     ]
    }
   ],
   "source": [
    "nls97stata.replace(list(range(-9,0)), np.nan, inplace=True)"
   ]
  },
  {
   "cell_type": "code",
   "execution_count": 164,
   "id": "9a3301b3-c251-4048-9688-f7b210248195",
   "metadata": {},
   "outputs": [
    {
     "data": {
      "text/plain": [
       "pubid__yth_id_code_1997          1.00\n",
       "keybdate_my_symbol_1997          1.00\n",
       "keybdate_my_symbol_1997      1,980.00\n",
       "trans_sat_verbal_hstr           14.00\n",
       "trans_sat_math_hstr              7.00\n",
       "trans_crd_gpa_overall_hstr      10.00\n",
       "trans_crd_gpa_eng_hstr           0.00\n",
       "trans_crd_gpa_math_hstr          0.00\n",
       "trans_crd_gpa_lp_sci_hstr        0.00\n",
       "cv_ba_credits_l1_2011            0.00\n",
       "cv_bio_child_hh_2017             0.00\n",
       "cv_bio_child_nr_2017             0.00\n",
       "hrsnight_r_sleeps_2017           0.00\n",
       "cvc_wkswk_yr_all_l99             0.00\n",
       "dtype: float64"
      ]
     },
     "execution_count": 164,
     "metadata": {},
     "output_type": "execute_result"
    }
   ],
   "source": [
    "nls97stata.min(numeric_only=True)"
   ]
  },
  {
   "cell_type": "code",
   "execution_count": 166,
   "id": "9b1d7d04-ca2b-454c-8ae9-3b1156ea8353",
   "metadata": {},
   "outputs": [],
   "source": [
    "nls97stata.set_index('pubid__yth_id_code_1997', inplace=True)"
   ]
  },
  {
   "cell_type": "code",
   "execution_count": 171,
   "id": "763fdba2-a864-47d6-b87c-b962b96dfac0",
   "metadata": {},
   "outputs": [],
   "source": [
    "# pull sas data, using the sas catalog file for value labels\n",
    "nls97sas, metasas = pyreadstat.read_sas7bdat('data/nls97.sas7bdat', catalog_file='data/nlsformats3.sas7bcat', formats_as_category=True)"
   ]
  },
  {
   "cell_type": "code",
   "execution_count": 173,
   "id": "4b7ff602-a85d-49d7-8999-963e1374ce87",
   "metadata": {},
   "outputs": [],
   "source": [
    "nls97sas.columns = metasas.column_labels"
   ]
  },
  {
   "cell_type": "code",
   "execution_count": 175,
   "id": "ed83a15f-67a3-4f5b-af84-f4b79940e250",
   "metadata": {},
   "outputs": [],
   "source": [
    "nls97sas.columns = nls97sas.columns.\\\n",
    "    str.lower().\\\n",
    "    str.replace(' ','_').\\\n",
    "    str.replace('[^a-z0-9_]', '', regex=True)"
   ]
  },
  {
   "cell_type": "code",
   "execution_count": null,
   "id": "54003cbd-33af-4eba-be7a-3ff35c9ebf3b",
   "metadata": {},
   "outputs": [],
   "source": []
  }
 ],
 "metadata": {
  "kernelspec": {
   "display_name": "dataclean_env",
   "language": "python",
   "name": "dataclean_env"
  },
  "language_info": {
   "codemirror_mode": {
    "name": "ipython",
    "version": 3
   },
   "file_extension": ".py",
   "mimetype": "text/x-python",
   "name": "python",
   "nbconvert_exporter": "python",
   "pygments_lexer": "ipython3",
   "version": "3.12.7"
  }
 },
 "nbformat": 4,
 "nbformat_minor": 5
}
