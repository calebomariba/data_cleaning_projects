{
 "cells": [
  {
   "cell_type": "code",
   "execution_count": 5,
   "id": "ec398c43-b742-4fc5-af7b-00b3d3b8391d",
   "metadata": {},
   "outputs": [],
   "source": [
    "import pandas as pd\n",
    "import pyarrow"
   ]
  },
  {
   "cell_type": "code",
   "execution_count": 7,
   "id": "283e7355-ff6c-4b2e-a12f-f2781cba9383",
   "metadata": {},
   "outputs": [],
   "source": [
    "pd.options.display.float_format = '{:,.2f}'.format\n",
    "pd.set_option('display.width', 68)\n",
    "pd.set_option('display.max_columns', 3)"
   ]
  },
  {
   "cell_type": "code",
   "execution_count": 9,
   "id": "34e93332-2f9f-4a9e-9e34-21fd37756b9a",
   "metadata": {},
   "outputs": [
    {
     "name": "stderr",
     "output_type": "stream",
     "text": [
      "C:\\Users\\user\\AppData\\Local\\Temp\\ipykernel_13884\\4124104183.py:3: FutureWarning: Support for nested sequences for 'parse_dates' in pd.read_csv is deprecated. Combine the desired columns with pd.to_datetime after parsing instead.\n",
      "  pd.read_csv('data/landtempssample.csv',\n",
      "C:\\Users\\user\\AppData\\Local\\Temp\\ipykernel_13884\\4124104183.py:3: UserWarning: Could not infer format, so each element will be parsed individually, falling back to `dateutil`. To ensure parsing is consistent and as-expected, please specify a format.\n",
      "  pd.read_csv('data/landtempssample.csv',\n"
     ]
    }
   ],
   "source": [
    "# import the land temperature data\n",
    "landtemps = \\\n",
    "  pd.read_csv('data/landtempssample.csv',\n",
    "    names=['stationid','year','month','avgtemp',\n",
    "      'latitude','longitude','elevation',\n",
    "      'station','countryid','country'],\n",
    "    skiprows=1,\n",
    "    parse_dates=[['month','year']],\n",
    "    low_memory=False)"
   ]
  },
  {
   "cell_type": "code",
   "execution_count": 11,
   "id": "f7a1b387-218b-49b7-ad0c-82980a7293d3",
   "metadata": {},
   "outputs": [],
   "source": [
    "landtemps.rename(columns={'month_year':'measuredate'}, inplace=True)"
   ]
  },
  {
   "cell_type": "code",
   "execution_count": 13,
   "id": "7d4d4d44-0820-4efd-9d94-f7263e73bf2e",
   "metadata": {},
   "outputs": [],
   "source": [
    "landtemps.dropna(subset=['avgtemp'], inplace=True)"
   ]
  },
  {
   "cell_type": "code",
   "execution_count": 15,
   "id": "87e5aecd-7758-41d0-8ba4-bdafb2adf49f",
   "metadata": {},
   "outputs": [
    {
     "data": {
      "text/plain": [
       "measuredate    datetime64[ns]\n",
       "stationid              object\n",
       "avgtemp               float64\n",
       "latitude              float64\n",
       "longitude             float64\n",
       "elevation             float64\n",
       "station                object\n",
       "countryid              object\n",
       "country                object\n",
       "dtype: object"
      ]
     },
     "execution_count": 15,
     "metadata": {},
     "output_type": "execute_result"
    }
   ],
   "source": [
    "landtemps.dtypes"
   ]
  },
  {
   "cell_type": "code",
   "execution_count": 17,
   "id": "65bb235b-072c-4384-a074-5e198123de2f",
   "metadata": {},
   "outputs": [],
   "source": [
    "landtemps.set_index(['measuredate','stationid'], inplace=True)"
   ]
  },
  {
   "cell_type": "code",
   "execution_count": 19,
   "id": "052ebf0e-a5e0-496b-bda2-da8ad93f97f0",
   "metadata": {},
   "outputs": [],
   "source": [
    "# write extreme values of temperature out to Excel and CSV files\n",
    "extremevals = landtemps[(landtemps.avgtemp < landtemps.avgtemp.quantile(.001)) | (landtemps.avgtemp > landtemps.avgtemp.quantile(.999))]"
   ]
  },
  {
   "cell_type": "code",
   "execution_count": 21,
   "id": "d5c42b2b-cd86-444a-9e48-f9d41d780e30",
   "metadata": {},
   "outputs": [
    {
     "data": {
      "text/plain": [
       "(171, 7)"
      ]
     },
     "execution_count": 21,
     "metadata": {},
     "output_type": "execute_result"
    }
   ],
   "source": [
    "extremevals.shape"
   ]
  },
  {
   "cell_type": "code",
   "execution_count": 26,
   "id": "b06c1778-f8b0-4282-a3e2-136b4b328b18",
   "metadata": {},
   "outputs": [],
   "source": [
    "extremevals.to_excel('views/tempext.xlsx')"
   ]
  },
  {
   "cell_type": "code",
   "execution_count": 30,
   "id": "34c1cdc6-415d-4608-9db0-c9ac8e038694",
   "metadata": {},
   "outputs": [],
   "source": [
    "extremevals.to_csv('views/tempext.csv')"
   ]
  },
  {
   "cell_type": "code",
   "execution_count": 33,
   "id": "e5ad75bc-28fa-4a9a-a7c9-529fd54d0aaa",
   "metadata": {},
   "outputs": [],
   "source": [
    "# save to pickle and feather files\n",
    "landtemps.to_pickle('data/landtemps.pkl')"
   ]
  },
  {
   "cell_type": "code",
   "execution_count": 36,
   "id": "f8e99a22-1e08-409b-93e7-ffe924b0ddc0",
   "metadata": {},
   "outputs": [],
   "source": [
    "landtemps.reset_index(inplace=True)"
   ]
  },
  {
   "cell_type": "code",
   "execution_count": 38,
   "id": "5950706d-7097-46d4-891b-fa6117be2925",
   "metadata": {},
   "outputs": [],
   "source": [
    "landtemps.to_feather(\"data/landtemps.ftr\")"
   ]
  },
  {
   "cell_type": "code",
   "execution_count": 40,
   "id": "3c6ee48d-b03c-48e5-ad1c-2e802390dba8",
   "metadata": {},
   "outputs": [
    {
     "data": {
      "text/html": [
       "<div>\n",
       "<style scoped>\n",
       "    .dataframe tbody tr th:only-of-type {\n",
       "        vertical-align: middle;\n",
       "    }\n",
       "\n",
       "    .dataframe tbody tr th {\n",
       "        vertical-align: top;\n",
       "    }\n",
       "\n",
       "    .dataframe thead tr th {\n",
       "        text-align: left;\n",
       "    }\n",
       "</style>\n",
       "<table border=\"1\" class=\"dataframe\">\n",
       "  <thead>\n",
       "    <tr>\n",
       "      <th>measuredate</th>\n",
       "      <th>2000-04-01</th>\n",
       "      <th>1940-05-01</th>\n",
       "    </tr>\n",
       "    <tr>\n",
       "      <th>stationid</th>\n",
       "      <th>USS0010K01S</th>\n",
       "      <th>CI000085406</th>\n",
       "    </tr>\n",
       "  </thead>\n",
       "  <tbody>\n",
       "    <tr>\n",
       "      <th>avgtemp</th>\n",
       "      <td>5.27</td>\n",
       "      <td>18.04</td>\n",
       "    </tr>\n",
       "    <tr>\n",
       "      <th>latitude</th>\n",
       "      <td>39.90</td>\n",
       "      <td>-18.35</td>\n",
       "    </tr>\n",
       "    <tr>\n",
       "      <th>longitude</th>\n",
       "      <td>-110.75</td>\n",
       "      <td>-70.33</td>\n",
       "    </tr>\n",
       "    <tr>\n",
       "      <th>elevation</th>\n",
       "      <td>2,773.70</td>\n",
       "      <td>58.00</td>\n",
       "    </tr>\n",
       "    <tr>\n",
       "      <th>station</th>\n",
       "      <td>INDIAN_CANYON</td>\n",
       "      <td>ARICA</td>\n",
       "    </tr>\n",
       "    <tr>\n",
       "      <th>countryid</th>\n",
       "      <td>US</td>\n",
       "      <td>CI</td>\n",
       "    </tr>\n",
       "    <tr>\n",
       "      <th>country</th>\n",
       "      <td>United States</td>\n",
       "      <td>Chile</td>\n",
       "    </tr>\n",
       "  </tbody>\n",
       "</table>\n",
       "</div>"
      ],
      "text/plain": [
       "measuredate     2000-04-01  1940-05-01\n",
       "stationid      USS0010K01S CI000085406\n",
       "avgtemp               5.27       18.04\n",
       "latitude             39.90      -18.35\n",
       "longitude          -110.75      -70.33\n",
       "elevation         2,773.70       58.00\n",
       "station      INDIAN_CANYON       ARICA\n",
       "countryid               US          CI\n",
       "country      United States       Chile"
      ]
     },
     "execution_count": 40,
     "metadata": {},
     "output_type": "execute_result"
    }
   ],
   "source": [
    "# load saved pickle and feather files\n",
    "landtemps = pd.read_pickle('data/landtemps.pkl')\n",
    "landtemps.head(2).T"
   ]
  },
  {
   "cell_type": "code",
   "execution_count": 42,
   "id": "fa3a0eca-2732-4a11-a8c2-a1cc67278526",
   "metadata": {},
   "outputs": [
    {
     "data": {
      "text/html": [
       "<div>\n",
       "<style scoped>\n",
       "    .dataframe tbody tr th:only-of-type {\n",
       "        vertical-align: middle;\n",
       "    }\n",
       "\n",
       "    .dataframe tbody tr th {\n",
       "        vertical-align: top;\n",
       "    }\n",
       "\n",
       "    .dataframe thead th {\n",
       "        text-align: right;\n",
       "    }\n",
       "</style>\n",
       "<table border=\"1\" class=\"dataframe\">\n",
       "  <thead>\n",
       "    <tr style=\"text-align: right;\">\n",
       "      <th></th>\n",
       "      <th>0</th>\n",
       "      <th>1</th>\n",
       "    </tr>\n",
       "  </thead>\n",
       "  <tbody>\n",
       "    <tr>\n",
       "      <th>measuredate</th>\n",
       "      <td>2000-04-01 00:00:00</td>\n",
       "      <td>1940-05-01 00:00:00</td>\n",
       "    </tr>\n",
       "    <tr>\n",
       "      <th>stationid</th>\n",
       "      <td>USS0010K01S</td>\n",
       "      <td>CI000085406</td>\n",
       "    </tr>\n",
       "    <tr>\n",
       "      <th>avgtemp</th>\n",
       "      <td>5.27</td>\n",
       "      <td>18.04</td>\n",
       "    </tr>\n",
       "    <tr>\n",
       "      <th>latitude</th>\n",
       "      <td>39.90</td>\n",
       "      <td>-18.35</td>\n",
       "    </tr>\n",
       "    <tr>\n",
       "      <th>longitude</th>\n",
       "      <td>-110.75</td>\n",
       "      <td>-70.33</td>\n",
       "    </tr>\n",
       "    <tr>\n",
       "      <th>elevation</th>\n",
       "      <td>2,773.70</td>\n",
       "      <td>58.00</td>\n",
       "    </tr>\n",
       "    <tr>\n",
       "      <th>station</th>\n",
       "      <td>INDIAN_CANYON</td>\n",
       "      <td>ARICA</td>\n",
       "    </tr>\n",
       "    <tr>\n",
       "      <th>countryid</th>\n",
       "      <td>US</td>\n",
       "      <td>CI</td>\n",
       "    </tr>\n",
       "    <tr>\n",
       "      <th>country</th>\n",
       "      <td>United States</td>\n",
       "      <td>Chile</td>\n",
       "    </tr>\n",
       "  </tbody>\n",
       "</table>\n",
       "</div>"
      ],
      "text/plain": [
       "                               0                    1\n",
       "measuredate  2000-04-01 00:00:00  1940-05-01 00:00:00\n",
       "stationid            USS0010K01S          CI000085406\n",
       "avgtemp                     5.27                18.04\n",
       "latitude                   39.90               -18.35\n",
       "longitude                -110.75               -70.33\n",
       "elevation               2,773.70                58.00\n",
       "station            INDIAN_CANYON                ARICA\n",
       "countryid                     US                   CI\n",
       "country            United States                Chile"
      ]
     },
     "execution_count": 42,
     "metadata": {},
     "output_type": "execute_result"
    }
   ],
   "source": [
    "landtemps = pd.read_feather(\"data/landtemps.ftr\")\n",
    "landtemps.head(2).T"
   ]
  },
  {
   "cell_type": "code",
   "execution_count": null,
   "id": "bfa30db0-5f53-4d68-9ae6-54a5bcc13a85",
   "metadata": {},
   "outputs": [],
   "source": []
  }
 ],
 "metadata": {
  "kernelspec": {
   "display_name": "dataclean_env",
   "language": "python",
   "name": "dataclean_env"
  },
  "language_info": {
   "codemirror_mode": {
    "name": "ipython",
    "version": 3
   },
   "file_extension": ".py",
   "mimetype": "text/x-python",
   "name": "python",
   "nbconvert_exporter": "python",
   "pygments_lexer": "ipython3",
   "version": "3.12.7"
  }
 },
 "nbformat": 4,
 "nbformat_minor": 5
}
