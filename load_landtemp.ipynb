{
 "cells": [
  {
   "cell_type": "code",
   "execution_count": 2,
   "id": "4c28d3c7-81cb-47cf-95f6-b0ac282cf0da",
   "metadata": {},
   "outputs": [],
   "source": [
    "import pandas as pd"
   ]
  },
  {
   "cell_type": "code",
   "execution_count": 12,
   "id": "f5fd1fd3-123a-4bc2-baa0-b591d1570a9b",
   "metadata": {},
   "outputs": [],
   "source": [
    "pd.options.display.float_format = '{:,.2f}'.format\n",
    "pd.set_option('display.width', 53)\n",
    "pd.set_option('display.max_columns', None)"
   ]
  },
  {
   "cell_type": "code",
   "execution_count": 24,
   "id": "de3eb339-29ee-46a1-a510-96c905190626",
   "metadata": {},
   "outputs": [
    {
     "name": "stderr",
     "output_type": "stream",
     "text": [
      "C:\\Users\\user\\AppData\\Local\\Temp\\ipykernel_4720\\2320939957.py:2: FutureWarning: Support for nested sequences for 'parse_dates' in pd.read_csv is deprecated. Combine the desired columns with pd.to_datetime after parsing instead.\n",
      "  landtemps = pd.read_csv('data/landtempssample.csv',\n",
      "C:\\Users\\user\\AppData\\Local\\Temp\\ipykernel_4720\\2320939957.py:2: UserWarning: Could not infer format, so each element will be parsed individually, falling back to `dateutil`. To ensure parsing is consistent and as-expected, please specify a format.\n",
      "  landtemps = pd.read_csv('data/landtempssample.csv',\n"
     ]
    }
   ],
   "source": [
    "# import the land temperature data\n",
    "landtemps = pd.read_csv('data/landtempssample.csv',\n",
    "    names=['stationid','year','month','avgtemp','latitude',\n",
    "      'longitude','elevation','station','countryid','country'],\n",
    "    skiprows=1,\n",
    "    parse_dates=[['month','year']])"
   ]
  },
  {
   "cell_type": "code",
   "execution_count": 26,
   "id": "a1ee3039-b907-4684-9f27-c5792dc4b25e",
   "metadata": {},
   "outputs": [
    {
     "data": {
      "text/plain": [
       "pandas.core.frame.DataFrame"
      ]
     },
     "execution_count": 26,
     "metadata": {},
     "output_type": "execute_result"
    }
   ],
   "source": [
    "type(landtemps)"
   ]
  },
  {
   "cell_type": "code",
   "execution_count": 28,
   "id": "65ac8e03-cdb6-4b2e-8c05-e7abe9ac80ee",
   "metadata": {},
   "outputs": [
    {
     "data": {
      "text/html": [
       "<div>\n",
       "<style scoped>\n",
       "    .dataframe tbody tr th:only-of-type {\n",
       "        vertical-align: middle;\n",
       "    }\n",
       "\n",
       "    .dataframe tbody tr th {\n",
       "        vertical-align: top;\n",
       "    }\n",
       "\n",
       "    .dataframe thead th {\n",
       "        text-align: right;\n",
       "    }\n",
       "</style>\n",
       "<table border=\"1\" class=\"dataframe\">\n",
       "  <thead>\n",
       "    <tr style=\"text-align: right;\">\n",
       "      <th></th>\n",
       "      <th>month_year</th>\n",
       "      <th>stationid</th>\n",
       "      <th>avgtemp</th>\n",
       "      <th>latitude</th>\n",
       "      <th>longitude</th>\n",
       "      <th>elevation</th>\n",
       "      <th>station</th>\n",
       "      <th>countryid</th>\n",
       "      <th>country</th>\n",
       "    </tr>\n",
       "  </thead>\n",
       "  <tbody>\n",
       "    <tr>\n",
       "      <th>0</th>\n",
       "      <td>2000-04-01</td>\n",
       "      <td>USS0010K01S</td>\n",
       "      <td>5.27</td>\n",
       "      <td>39.90</td>\n",
       "      <td>-110.75</td>\n",
       "      <td>2,773.70</td>\n",
       "      <td>INDIAN_CANYON</td>\n",
       "      <td>US</td>\n",
       "      <td>United States</td>\n",
       "    </tr>\n",
       "    <tr>\n",
       "      <th>1</th>\n",
       "      <td>1940-05-01</td>\n",
       "      <td>CI000085406</td>\n",
       "      <td>18.04</td>\n",
       "      <td>-18.35</td>\n",
       "      <td>-70.33</td>\n",
       "      <td>58.00</td>\n",
       "      <td>ARICA</td>\n",
       "      <td>CI</td>\n",
       "      <td>Chile</td>\n",
       "    </tr>\n",
       "    <tr>\n",
       "      <th>2</th>\n",
       "      <td>2013-12-01</td>\n",
       "      <td>USC00036376</td>\n",
       "      <td>6.22</td>\n",
       "      <td>34.37</td>\n",
       "      <td>-91.12</td>\n",
       "      <td>61.00</td>\n",
       "      <td>SAINT_CHARLES</td>\n",
       "      <td>US</td>\n",
       "      <td>United States</td>\n",
       "    </tr>\n",
       "    <tr>\n",
       "      <th>3</th>\n",
       "      <td>1963-02-01</td>\n",
       "      <td>ASN00024002</td>\n",
       "      <td>22.93</td>\n",
       "      <td>-34.28</td>\n",
       "      <td>140.60</td>\n",
       "      <td>65.50</td>\n",
       "      <td>BERRI_IRRIGATION</td>\n",
       "      <td>AS</td>\n",
       "      <td>Australia</td>\n",
       "    </tr>\n",
       "    <tr>\n",
       "      <th>4</th>\n",
       "      <td>2001-11-01</td>\n",
       "      <td>ASN00028007</td>\n",
       "      <td>NaN</td>\n",
       "      <td>-14.78</td>\n",
       "      <td>143.50</td>\n",
       "      <td>79.40</td>\n",
       "      <td>MUSGRAVE</td>\n",
       "      <td>AS</td>\n",
       "      <td>Australia</td>\n",
       "    </tr>\n",
       "    <tr>\n",
       "      <th>5</th>\n",
       "      <td>1991-04-01</td>\n",
       "      <td>USW00024151</td>\n",
       "      <td>5.59</td>\n",
       "      <td>42.15</td>\n",
       "      <td>-112.29</td>\n",
       "      <td>1,362.50</td>\n",
       "      <td>MALAD_CITY</td>\n",
       "      <td>US</td>\n",
       "      <td>United States</td>\n",
       "    </tr>\n",
       "    <tr>\n",
       "      <th>6</th>\n",
       "      <td>1993-12-01</td>\n",
       "      <td>RSM00022641</td>\n",
       "      <td>-10.17</td>\n",
       "      <td>63.90</td>\n",
       "      <td>38.12</td>\n",
       "      <td>13.00</td>\n",
       "      <td>ONEGA</td>\n",
       "      <td>RS</td>\n",
       "      <td>Russia</td>\n",
       "    </tr>\n",
       "  </tbody>\n",
       "</table>\n",
       "</div>"
      ],
      "text/plain": [
       "  month_year    stationid  avgtemp  latitude  \\\n",
       "0 2000-04-01  USS0010K01S     5.27     39.90   \n",
       "1 1940-05-01  CI000085406    18.04    -18.35   \n",
       "2 2013-12-01  USC00036376     6.22     34.37   \n",
       "3 1963-02-01  ASN00024002    22.93    -34.28   \n",
       "4 2001-11-01  ASN00028007      NaN    -14.78   \n",
       "5 1991-04-01  USW00024151     5.59     42.15   \n",
       "6 1993-12-01  RSM00022641   -10.17     63.90   \n",
       "\n",
       "   longitude  elevation           station  \\\n",
       "0    -110.75   2,773.70     INDIAN_CANYON   \n",
       "1     -70.33      58.00             ARICA   \n",
       "2     -91.12      61.00     SAINT_CHARLES   \n",
       "3     140.60      65.50  BERRI_IRRIGATION   \n",
       "4     143.50      79.40          MUSGRAVE   \n",
       "5    -112.29   1,362.50        MALAD_CITY   \n",
       "6      38.12      13.00             ONEGA   \n",
       "\n",
       "  countryid        country  \n",
       "0        US  United States  \n",
       "1        CI          Chile  \n",
       "2        US  United States  \n",
       "3        AS      Australia  \n",
       "4        AS      Australia  \n",
       "5        US  United States  \n",
       "6        RS         Russia  "
      ]
     },
     "execution_count": 28,
     "metadata": {},
     "output_type": "execute_result"
    }
   ],
   "source": [
    "# show enough data to get a sense of how the import went\n",
    "landtemps.head(7)"
   ]
  },
  {
   "cell_type": "code",
   "execution_count": 16,
   "id": "f78ee112-6122-4cd2-b3aa-f3f7d366d024",
   "metadata": {},
   "outputs": [
    {
     "data": {
      "text/plain": [
       "month_year    datetime64[ns]\n",
       "stationid             object\n",
       "avgtemp              float64\n",
       "latitude             float64\n",
       "longitude            float64\n",
       "elevation            float64\n",
       "station               object\n",
       "countryid             object\n",
       "country               object\n",
       "dtype: object"
      ]
     },
     "execution_count": 16,
     "metadata": {},
     "output_type": "execute_result"
    }
   ],
   "source": [
    "landtemps.dtypes"
   ]
  },
  {
   "cell_type": "code",
   "execution_count": 18,
   "id": "b3b154d4-a3cc-48b2-8643-3b835cc22343",
   "metadata": {},
   "outputs": [
    {
     "data": {
      "text/plain": [
       "(100000, 9)"
      ]
     },
     "execution_count": 18,
     "metadata": {},
     "output_type": "execute_result"
    }
   ],
   "source": [
    "landtemps.shape"
   ]
  },
  {
   "cell_type": "code",
   "execution_count": 30,
   "id": "81e6861f-0575-43a1-b894-aceb47add3dd",
   "metadata": {},
   "outputs": [],
   "source": [
    "# fix the column name for the date\n",
    "landtemps.rename(columns={'month_year':'measuredate'}, inplace=True)"
   ]
  },
  {
   "cell_type": "code",
   "execution_count": 32,
   "id": "3001e647-2bdd-4ff9-ad69-151b6885656d",
   "metadata": {},
   "outputs": [
    {
     "data": {
      "text/plain": [
       "measuredate    datetime64[ns]\n",
       "stationid              object\n",
       "avgtemp               float64\n",
       "latitude              float64\n",
       "longitude             float64\n",
       "elevation             float64\n",
       "station                object\n",
       "countryid              object\n",
       "country                object\n",
       "dtype: object"
      ]
     },
     "execution_count": 32,
     "metadata": {},
     "output_type": "execute_result"
    }
   ],
   "source": [
    "landtemps.dtypes"
   ]
  },
  {
   "cell_type": "code",
   "execution_count": 34,
   "id": "54ac2e1c-b32d-4c06-a68c-78964951583b",
   "metadata": {},
   "outputs": [
    {
     "data": {
      "text/plain": [
       "count   85,554.00\n",
       "mean        10.92\n",
       "std         11.52\n",
       "min        -70.70\n",
       "25%          3.46\n",
       "50%         12.22\n",
       "75%         19.57\n",
       "max         39.95\n",
       "Name: avgtemp, dtype: float64"
      ]
     },
     "execution_count": 34,
     "metadata": {},
     "output_type": "execute_result"
    }
   ],
   "source": [
    "landtemps.avgtemp.describe()"
   ]
  },
  {
   "cell_type": "code",
   "execution_count": 36,
   "id": "c759607b-52d7-4e5b-81ec-e2bf8043a415",
   "metadata": {},
   "outputs": [
    {
     "data": {
      "text/plain": [
       "measuredate        0\n",
       "stationid          0\n",
       "avgtemp        14446\n",
       "latitude           0\n",
       "longitude          0\n",
       "elevation          0\n",
       "station            0\n",
       "countryid          0\n",
       "country            5\n",
       "dtype: int64"
      ]
     },
     "execution_count": 36,
     "metadata": {},
     "output_type": "execute_result"
    }
   ],
   "source": [
    "landtemps.isnull().sum()"
   ]
  },
  {
   "cell_type": "code",
   "execution_count": 38,
   "id": "b5341040-8da8-497a-b6b3-31dca26423af",
   "metadata": {},
   "outputs": [
    {
     "data": {
      "text/plain": [
       "(85554, 9)"
      ]
     },
     "execution_count": 38,
     "metadata": {},
     "output_type": "execute_result"
    }
   ],
   "source": [
    "# remove rows with missing values\n",
    "landtemps.dropna(subset=['avgtemp'], inplace=True)\n",
    "landtemps.shape"
   ]
  },
  {
   "cell_type": "code",
   "execution_count": 40,
   "id": "bbfec1e1-77a8-4bee-97aa-a42e1f7d3c0b",
   "metadata": {},
   "outputs": [
    {
     "name": "stderr",
     "output_type": "stream",
     "text": [
      "C:\\Users\\user\\AppData\\Local\\Temp\\ipykernel_4720\\3607857972.py:2: FutureWarning: Support for nested sequences for 'parse_dates' in pd.read_csv is deprecated. Combine the desired columns with pd.to_datetime after parsing instead.\n",
      "  landtemps = pd.read_csv('data/landtempssample.csv',\n",
      "C:\\Users\\user\\AppData\\Local\\Temp\\ipykernel_4720\\3607857972.py:2: UserWarning: Could not infer format, so each element will be parsed individually, falling back to `dateutil`. To ensure parsing is consistent and as-expected, please specify a format.\n",
      "  landtemps = pd.read_csv('data/landtempssample.csv',\n"
     ]
    }
   ],
   "source": [
    "# set data types explicitly\n",
    "landtemps = pd.read_csv('data/landtempssample.csv',\n",
    "    names=['stationid','year','month','avgtemp','latitude',\n",
    "      'longitude','elevation','station','countryid','country'],\n",
    "    skiprows=1,\n",
    "    parse_dates=[['month','year']],\n",
    "    dtype={'stationid':'object', 'avgtemp':'float64',\n",
    "     'latitude':'float64','longitude':'float64',\n",
    "     'elevation':'float64','station':'object',\n",
    "     'countryid':'object','country':'object'},\n",
    "    )"
   ]
  },
  {
   "cell_type": "code",
   "execution_count": 42,
   "id": "a3abb067-c7cb-45a1-a294-678fa5a1d066",
   "metadata": {},
   "outputs": [
    {
     "name": "stdout",
     "output_type": "stream",
     "text": [
      "<class 'pandas.core.frame.DataFrame'>\n",
      "RangeIndex: 100000 entries, 0 to 99999\n",
      "Data columns (total 9 columns):\n",
      " #   Column      Non-Null Count   Dtype         \n",
      "---  ------      --------------   -----         \n",
      " 0   month_year  100000 non-null  datetime64[ns]\n",
      " 1   stationid   100000 non-null  object        \n",
      " 2   avgtemp     85554 non-null   float64       \n",
      " 3   latitude    100000 non-null  float64       \n",
      " 4   longitude   100000 non-null  float64       \n",
      " 5   elevation   100000 non-null  float64       \n",
      " 6   station     100000 non-null  object        \n",
      " 7   countryid   100000 non-null  object        \n",
      " 8   country     99995 non-null   object        \n",
      "dtypes: datetime64[ns](1), float64(4), object(4)\n",
      "memory usage: 6.9+ MB\n"
     ]
    }
   ],
   "source": [
    "landtemps.info()"
   ]
  },
  {
   "cell_type": "code",
   "execution_count": 44,
   "id": "78e1e0a3-b796-4681-acf2-48570d5b0cfa",
   "metadata": {},
   "outputs": [],
   "source": [
    "checknull = landtemps.isnull()"
   ]
  },
  {
   "cell_type": "code",
   "execution_count": 46,
   "id": "f470b482-8e25-4a57-bd56-9981b0a7617f",
   "metadata": {},
   "outputs": [
    {
     "data": {
      "text/plain": [
       "month_year        0\n",
       "stationid         0\n",
       "avgtemp       14446\n",
       "latitude          0\n",
       "longitude         0\n",
       "elevation         0\n",
       "station           0\n",
       "countryid         0\n",
       "country           5\n",
       "dtype: int64"
      ]
     },
     "execution_count": 46,
     "metadata": {},
     "output_type": "execute_result"
    }
   ],
   "source": [
    "checknull.sum()"
   ]
  },
  {
   "cell_type": "code",
   "execution_count": null,
   "id": "e2eb4414-f641-4ce4-a997-2682815fbe33",
   "metadata": {},
   "outputs": [],
   "source": []
  }
 ],
 "metadata": {
  "kernelspec": {
   "display_name": "dataclean_env",
   "language": "python",
   "name": "dataclean_env"
  },
  "language_info": {
   "codemirror_mode": {
    "name": "ipython",
    "version": 3
   },
   "file_extension": ".py",
   "mimetype": "text/x-python",
   "name": "python",
   "nbconvert_exporter": "python",
   "pygments_lexer": "ipython3",
   "version": "3.12.7"
  }
 },
 "nbformat": 4,
 "nbformat_minor": 5
}
