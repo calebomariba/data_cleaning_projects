{
 "cells": [
  {
   "cell_type": "code",
   "execution_count": 6,
   "id": "f1d7f5ae-441f-490e-8cf6-b60f5f2c3713",
   "metadata": {},
   "outputs": [],
   "source": [
    "# import pandas, numpy, json, pprint\n",
    "import pandas as pd\n",
    "import json\n",
    "import pprint\n",
    "from collections import Counter"
   ]
  },
  {
   "cell_type": "code",
   "execution_count": 8,
   "id": "14a05049-4a34-4894-91f1-caa1e16f2877",
   "metadata": {},
   "outputs": [],
   "source": [
    "pd.set_option('display.width', 85)\n",
    "pd.set_option('display.max_columns', 8)"
   ]
  },
  {
   "cell_type": "code",
   "execution_count": 10,
   "id": "0bca8c64-83a3-403e-b071-34e854eac50a",
   "metadata": {},
   "outputs": [],
   "source": [
    "# load tabular structure JSON data\n",
    "with open('data/allcandidatenewssample.json') as f:\n",
    "  candidatenews = json.load(f)"
   ]
  },
  {
   "cell_type": "code",
   "execution_count": 12,
   "id": "525145f4-0e55-4223-8fbd-e10fee1dcf1c",
   "metadata": {},
   "outputs": [
    {
     "data": {
      "text/plain": [
       "60000"
      ]
     },
     "execution_count": 12,
     "metadata": {},
     "output_type": "execute_result"
    }
   ],
   "source": [
    "len(candidatenews)"
   ]
  },
  {
   "cell_type": "code",
   "execution_count": 14,
   "id": "e97034e0-c8f1-400f-b602-5672dfddc620",
   "metadata": {},
   "outputs": [
    {
     "name": "stdout",
     "output_type": "stream",
     "text": [
      "[{'date': '2019-12-25 10:00:00',\n",
      "  'domain': 'www.nbcnews.com',\n",
      "  'panel_position': 1,\n",
      "  'query': 'Michael Bloomberg',\n",
      "  'source': 'NBC News',\n",
      "  'story_position': 6,\n",
      "  'time': '18 hours ago',\n",
      "  'title': 'Bloomberg cuts ties with company using prison inmates to make '\n",
      "           'campaign calls',\n",
      "  'url': 'https://www.nbcnews.com/politics/2020-election/bloomberg-cuts-ties-company-using-prison-inmates-make-campaign-calls-n1106971'},\n",
      " {'date': '2019-11-09 08:00:00',\n",
      "  'domain': 'www.townandcountrymag.com',\n",
      "  'panel_position': 1,\n",
      "  'query': 'Amy Klobuchar',\n",
      "  'source': 'Town & Country Magazine',\n",
      "  'story_position': 3,\n",
      "  'time': '18 hours ago',\n",
      "  'title': \"Democratic Candidates React to Michael Bloomberg's Potential Run\",\n",
      "  'url': 'https://www.townandcountrymag.com/society/politics/a29739854/michael-bloomberg-democratic-candidates-campaign-reactions/'}]\n"
     ]
    }
   ],
   "source": [
    "pprint.pprint(candidatenews[0:2])"
   ]
  },
  {
   "cell_type": "code",
   "execution_count": 16,
   "id": "5ed3fdac-b381-4000-8d27-cdbb5e61bd94",
   "metadata": {},
   "outputs": [
    {
     "name": "stdout",
     "output_type": "stream",
     "text": [
      "'NBC News'\n"
     ]
    }
   ],
   "source": [
    "pprint.pprint(candidatenews[0]['source'])"
   ]
  },
  {
   "cell_type": "code",
   "execution_count": 18,
   "id": "d335d62b-f0f4-47d4-8d84-de2bf46ab93d",
   "metadata": {},
   "outputs": [
    {
     "data": {
      "text/plain": [
       "Counter({9: 57202, 2: 2382, 10: 416})"
      ]
     },
     "execution_count": 18,
     "metadata": {},
     "output_type": "execute_result"
    }
   ],
   "source": [
    "Counter([len(item) for item in candidatenews])"
   ]
  },
  {
   "cell_type": "code",
   "execution_count": 20,
   "id": "12d0fad1-0529-46fc-9cb1-5a8e1fd423b9",
   "metadata": {},
   "outputs": [
    {
     "name": "stdout",
     "output_type": "stream",
     "text": [
      "{'date': '2019-09-11 18:00:00', 'reason': 'Not collected'}\n"
     ]
    }
   ],
   "source": [
    "pprint.pprint(next(item for item in candidatenews if len(item)<9))"
   ]
  },
  {
   "cell_type": "code",
   "execution_count": 22,
   "id": "1598ed73-0ca6-4af2-b73e-6d3a8fd0f6ed",
   "metadata": {},
   "outputs": [
    {
     "name": "stdout",
     "output_type": "stream",
     "text": [
      "{'category': 'Satire',\n",
      " 'date': '2019-08-21 04:00:00',\n",
      " 'domain': 'politics.theonion.com',\n",
      " 'panel_position': 1,\n",
      " 'query': 'John Hickenlooper',\n",
      " 'source': 'Politics | The Onion',\n",
      " 'story_position': 8,\n",
      " 'time': '4 days ago',\n",
      " 'title': '‘And Then There Were 23,’ Says Wayne Messam Crossing Out '\n",
      "          'Hickenlooper Photo \\n'\n",
      "          'In Elaborate Grid Of Rivals',\n",
      " 'url': 'https://politics.theonion.com/and-then-there-were-23-says-wayne-messam-crossing-ou-1837311060'}\n"
     ]
    }
   ],
   "source": [
    "pprint.pprint(next(item for item in candidatenews if len(item)>9))"
   ]
  },
  {
   "cell_type": "code",
   "execution_count": 24,
   "id": "52a64da8-63ea-4f34-8843-53688e7290d0",
   "metadata": {},
   "outputs": [
    {
     "name": "stdout",
     "output_type": "stream",
     "text": [
      "[{'date': '2019-09-11 18:00:00', 'reason': 'Not collected'},\n",
      " {'date': '2019-07-24 00:00:00', 'reason': 'No Top stories'}]\n"
     ]
    }
   ],
   "source": [
    "pprint.pprint([item for item in candidatenews if len(item)==2][0:2])"
   ]
  },
  {
   "cell_type": "code",
   "execution_count": 26,
   "id": "2e252365-2210-4f9e-9060-ccde4eca7028",
   "metadata": {},
   "outputs": [
    {
     "data": {
      "text/plain": [
       "57618"
      ]
     },
     "execution_count": 26,
     "metadata": {},
     "output_type": "execute_result"
    }
   ],
   "source": [
    "candidatenews = [item for item in candidatenews if len(item)>2]\n",
    "len(candidatenews)"
   ]
  },
  {
   "cell_type": "code",
   "execution_count": 31,
   "id": "75abe318-c814-4103-9311-e1a513981a0d",
   "metadata": {},
   "outputs": [
    {
     "data": {
      "text/plain": [
       "2732"
      ]
     },
     "execution_count": 31,
     "metadata": {},
     "output_type": "execute_result"
    }
   ],
   "source": [
    "# generate counts from JSON data\n",
    "politico = [item for item in candidatenews if item[\"source\"] == \"Politico\"]\n",
    "len(politico)"
   ]
  },
  {
   "cell_type": "code",
   "execution_count": 33,
   "id": "257b4854-0eeb-426c-be8f-b074ef584fac",
   "metadata": {},
   "outputs": [
    {
     "name": "stdout",
     "output_type": "stream",
     "text": [
      "[{'date': '2019-05-18 18:00:00',\n",
      "  'domain': 'www.politico.com',\n",
      "  'panel_position': 1,\n",
      "  'query': 'Marianne Williamson',\n",
      "  'source': 'Politico',\n",
      "  'story_position': 7,\n",
      "  'time': '1 week ago',\n",
      "  'title': 'Marianne Williamson reaches donor threshold for Dem debates',\n",
      "  'url': 'https://www.politico.com/story/2019/05/09/marianne-williamson-2020-election-1315133'},\n",
      " {'date': '2018-12-27 06:00:00',\n",
      "  'domain': 'www.politico.com',\n",
      "  'panel_position': 1,\n",
      "  'query': 'Julian Castro',\n",
      "  'source': 'Politico',\n",
      "  'story_position': 1,\n",
      "  'time': '1 hour ago',\n",
      "  'title': \"O'Rourke and Castro on collision course in Texas\",\n",
      "  'url': 'https://www.politico.com/story/2018/12/27/orourke-julian-castro-collision-texas-election-1073720'}]\n"
     ]
    }
   ],
   "source": [
    "pprint.pprint(politico[0:2])"
   ]
  },
  {
   "cell_type": "code",
   "execution_count": 35,
   "id": "0f94e8af-7e91-48a9-bdfa-8272a7ef6c64",
   "metadata": {},
   "outputs": [],
   "source": [
    "sources = [item.get('source') for item in candidatenews]"
   ]
  },
  {
   "cell_type": "code",
   "execution_count": 37,
   "id": "276b808a-5116-4b63-a5ce-3691ca4fc424",
   "metadata": {},
   "outputs": [
    {
     "data": {
      "text/plain": [
       "list"
      ]
     },
     "execution_count": 37,
     "metadata": {},
     "output_type": "execute_result"
    }
   ],
   "source": [
    "type(sources)"
   ]
  },
  {
   "cell_type": "code",
   "execution_count": 39,
   "id": "1465e245-5f40-4bae-af29-f70b1a6c5ab6",
   "metadata": {},
   "outputs": [
    {
     "data": {
      "text/plain": [
       "57618"
      ]
     },
     "execution_count": 39,
     "metadata": {},
     "output_type": "execute_result"
    }
   ],
   "source": [
    "len(sources)"
   ]
  },
  {
   "cell_type": "code",
   "execution_count": 41,
   "id": "0ca7abca-db21-407e-ada4-0b7637d935a3",
   "metadata": {},
   "outputs": [
    {
     "data": {
      "text/plain": [
       "['NBC News', 'Town & Country Magazine', 'TheHill', 'CNBC.com', 'Fox News']"
      ]
     },
     "execution_count": 41,
     "metadata": {},
     "output_type": "execute_result"
    }
   ],
   "source": [
    "sources[0:5]"
   ]
  },
  {
   "cell_type": "code",
   "execution_count": 43,
   "id": "53151b21-9db5-44c9-83ef-850486252403",
   "metadata": {},
   "outputs": [
    {
     "name": "stdout",
     "output_type": "stream",
     "text": [
      "[('Fox News', 3530),\n",
      " ('CNN.com', 2750),\n",
      " ('Politico', 2732),\n",
      " ('TheHill', 2383),\n",
      " ('The New York Times', 1804),\n",
      " ('Washington Post', 1770),\n",
      " ('Washington Examiner', 1655),\n",
      " ('The Hill', 1342),\n",
      " ('New York Post', 1275),\n",
      " ('Vox', 941)]\n"
     ]
    }
   ],
   "source": [
    "pprint.pprint(Counter(sources).most_common(10))"
   ]
  },
  {
   "cell_type": "code",
   "execution_count": 45,
   "id": "5560c8f0-ef60-4c06-b260-c6a077eaa30d",
   "metadata": {},
   "outputs": [],
   "source": [
    "# fix errors in values in dictionary\n",
    "for newsdict in candidatenews:\n",
    "    newsdict.update((k, \"The Hill\") for k, v in newsdict.items()\n",
    "     if k == \"source\" and v == \"TheHill\")"
   ]
  },
  {
   "cell_type": "code",
   "execution_count": 47,
   "id": "332ab437-c6e6-4686-85c8-df1947d587d4",
   "metadata": {},
   "outputs": [],
   "source": [
    "sources = [item.get('source') for item in candidatenews]"
   ]
  },
  {
   "cell_type": "code",
   "execution_count": 49,
   "id": "27caa3c8-1b90-4b84-87a4-4e374400c5a0",
   "metadata": {},
   "outputs": [
    {
     "name": "stdout",
     "output_type": "stream",
     "text": [
      "[('The Hill', 3725),\n",
      " ('Fox News', 3530),\n",
      " ('CNN.com', 2750),\n",
      " ('Politico', 2732),\n",
      " ('The New York Times', 1804),\n",
      " ('Washington Post', 1770),\n",
      " ('Washington Examiner', 1655),\n",
      " ('New York Post', 1275),\n",
      " ('Vox', 941),\n",
      " ('Breitbart', 799)]\n"
     ]
    }
   ],
   "source": [
    "pprint.pprint(Counter(sources).most_common(10))"
   ]
  },
  {
   "cell_type": "code",
   "execution_count": 51,
   "id": "5d8f391d-2024-4665-979a-9c45e2eb3110",
   "metadata": {},
   "outputs": [],
   "source": [
    "# create a pandas data frame\n",
    "candidatenewsdf = pd.DataFrame(candidatenews)"
   ]
  },
  {
   "cell_type": "code",
   "execution_count": 53,
   "id": "85d8f9dc-6d18-4270-9841-49fc1b178bd0",
   "metadata": {},
   "outputs": [
    {
     "data": {
      "text/plain": [
       "title             object\n",
       "url               object\n",
       "source            object\n",
       "time              object\n",
       "date              object\n",
       "query             object\n",
       "story_position     int64\n",
       "panel_position    object\n",
       "domain            object\n",
       "category          object\n",
       "dtype: object"
      ]
     },
     "execution_count": 53,
     "metadata": {},
     "output_type": "execute_result"
    }
   ],
   "source": [
    "candidatenewsdf.dtypes"
   ]
  },
  {
   "cell_type": "code",
   "execution_count": 55,
   "id": "60ff3c35-a966-465c-aa3b-dd9112d7891e",
   "metadata": {},
   "outputs": [],
   "source": [
    "candidatenewsdf.rename(columns={'date':'storydate'}, inplace=True)"
   ]
  },
  {
   "cell_type": "code",
   "execution_count": 57,
   "id": "36bb11a0-7f33-4bf8-bb96-9962aedd7ba4",
   "metadata": {},
   "outputs": [],
   "source": [
    "candidatenewsdf.storydate = candidatenewsdf.storydate.astype('datetime64[ns]')"
   ]
  },
  {
   "cell_type": "code",
   "execution_count": 59,
   "id": "af531740-a11d-4043-84a2-6f90a77be1b1",
   "metadata": {},
   "outputs": [
    {
     "data": {
      "text/plain": [
       "(57618, 10)"
      ]
     },
     "execution_count": 59,
     "metadata": {},
     "output_type": "execute_result"
    }
   ],
   "source": [
    "candidatenewsdf.shape"
   ]
  },
  {
   "cell_type": "code",
   "execution_count": 61,
   "id": "0f7b7866-b06b-4ab7-8240-8d5ecee6cb60",
   "metadata": {},
   "outputs": [
    {
     "data": {
      "text/plain": [
       "source\n",
       "The Hill               3725\n",
       "Fox News               3530\n",
       "CNN.com                2750\n",
       "Politico               2732\n",
       "The New York Times     1804\n",
       "Washington Post        1770\n",
       "Washington Examiner    1655\n",
       "New York Post          1275\n",
       "Vox                     941\n",
       "Breitbart               799\n",
       "Name: count, dtype: int64"
      ]
     },
     "execution_count": 61,
     "metadata": {},
     "output_type": "execute_result"
    }
   ],
   "source": [
    "candidatenewsdf.source.value_counts(sort=True).head(10)"
   ]
  },
  {
   "cell_type": "code",
   "execution_count": 63,
   "id": "0de9f6b5-da42-43db-8e33-ac44dc5b0ae8",
   "metadata": {},
   "outputs": [
    {
     "data": {
      "text/html": [
       "<div>\n",
       "<style scoped>\n",
       "    .dataframe tbody tr th:only-of-type {\n",
       "        vertical-align: middle;\n",
       "    }\n",
       "\n",
       "    .dataframe tbody tr th {\n",
       "        vertical-align: top;\n",
       "    }\n",
       "\n",
       "    .dataframe thead th {\n",
       "        text-align: right;\n",
       "    }\n",
       "</style>\n",
       "<table border=\"1\" class=\"dataframe\">\n",
       "  <thead>\n",
       "    <tr style=\"text-align: right;\">\n",
       "      <th></th>\n",
       "      <th>title</th>\n",
       "      <th>url</th>\n",
       "      <th>source</th>\n",
       "      <th>time</th>\n",
       "      <th>...</th>\n",
       "      <th>story_position</th>\n",
       "      <th>panel_position</th>\n",
       "      <th>domain</th>\n",
       "      <th>category</th>\n",
       "    </tr>\n",
       "  </thead>\n",
       "  <tbody>\n",
       "    <tr>\n",
       "      <th>0</th>\n",
       "      <td>Bloomberg cuts ties with company using prison ...</td>\n",
       "      <td>https://www.nbcnews.com/politics/2020-election...</td>\n",
       "      <td>NBC News</td>\n",
       "      <td>18 hours ago</td>\n",
       "      <td>...</td>\n",
       "      <td>6</td>\n",
       "      <td>1</td>\n",
       "      <td>www.nbcnews.com</td>\n",
       "      <td>NaN</td>\n",
       "    </tr>\n",
       "    <tr>\n",
       "      <th>1</th>\n",
       "      <td>Democratic Candidates React to Michael Bloombe...</td>\n",
       "      <td>https://www.townandcountrymag.com/society/poli...</td>\n",
       "      <td>Town &amp; Country Magazine</td>\n",
       "      <td>18 hours ago</td>\n",
       "      <td>...</td>\n",
       "      <td>3</td>\n",
       "      <td>1</td>\n",
       "      <td>www.townandcountrymag.com</td>\n",
       "      <td>NaN</td>\n",
       "    </tr>\n",
       "    <tr>\n",
       "      <th>2</th>\n",
       "      <td>Sanders responds to de Blasio's invitation to ...</td>\n",
       "      <td>https://thehill.com/homenews/campaign/456579-s...</td>\n",
       "      <td>The Hill</td>\n",
       "      <td>15 hours ago</td>\n",
       "      <td>...</td>\n",
       "      <td>7</td>\n",
       "      <td>1</td>\n",
       "      <td>thehill.com</td>\n",
       "      <td>NaN</td>\n",
       "    </tr>\n",
       "    <tr>\n",
       "      <th>3</th>\n",
       "      <td>From Andrew Yang's 'No Tie' look to Bernie Buc...</td>\n",
       "      <td>https://www.cnbc.com/2019/08/02/election-2020-...</td>\n",
       "      <td>CNBC.com</td>\n",
       "      <td>1 day ago</td>\n",
       "      <td>...</td>\n",
       "      <td>2</td>\n",
       "      <td>1</td>\n",
       "      <td>www.cnbc.com</td>\n",
       "      <td>NaN</td>\n",
       "    </tr>\n",
       "    <tr>\n",
       "      <th>4</th>\n",
       "      <td>Liberal billionaire Tom Steyer scolds Dems for...</td>\n",
       "      <td>https://www.foxnews.com/politics/liberal-billi...</td>\n",
       "      <td>Fox News</td>\n",
       "      <td>1 week ago</td>\n",
       "      <td>...</td>\n",
       "      <td>5</td>\n",
       "      <td>2</td>\n",
       "      <td>www.foxnews.com</td>\n",
       "      <td>NaN</td>\n",
       "    </tr>\n",
       "  </tbody>\n",
       "</table>\n",
       "<p>5 rows × 10 columns</p>\n",
       "</div>"
      ],
      "text/plain": [
       "                                               title  \\\n",
       "0  Bloomberg cuts ties with company using prison ...   \n",
       "1  Democratic Candidates React to Michael Bloombe...   \n",
       "2  Sanders responds to de Blasio's invitation to ...   \n",
       "3  From Andrew Yang's 'No Tie' look to Bernie Buc...   \n",
       "4  Liberal billionaire Tom Steyer scolds Dems for...   \n",
       "\n",
       "                                                 url                   source  \\\n",
       "0  https://www.nbcnews.com/politics/2020-election...                 NBC News   \n",
       "1  https://www.townandcountrymag.com/society/poli...  Town & Country Magazine   \n",
       "2  https://thehill.com/homenews/campaign/456579-s...                 The Hill   \n",
       "3  https://www.cnbc.com/2019/08/02/election-2020-...                 CNBC.com   \n",
       "4  https://www.foxnews.com/politics/liberal-billi...                 Fox News   \n",
       "\n",
       "           time  ... story_position panel_position                     domain  \\\n",
       "0  18 hours ago  ...              6              1            www.nbcnews.com   \n",
       "1  18 hours ago  ...              3              1  www.townandcountrymag.com   \n",
       "2  15 hours ago  ...              7              1                thehill.com   \n",
       "3     1 day ago  ...              2              1               www.cnbc.com   \n",
       "4    1 week ago  ...              5              2            www.foxnews.com   \n",
       "\n",
       "  category  \n",
       "0      NaN  \n",
       "1      NaN  \n",
       "2      NaN  \n",
       "3      NaN  \n",
       "4      NaN  \n",
       "\n",
       "[5 rows x 10 columns]"
      ]
     },
     "execution_count": 63,
     "metadata": {},
     "output_type": "execute_result"
    }
   ],
   "source": [
    "candidatenewsdf.head()"
   ]
  },
  {
   "cell_type": "code",
   "execution_count": 65,
   "id": "011a068e-86c2-483b-a79b-5081a9f71945",
   "metadata": {},
   "outputs": [
    {
     "data": {
      "text/plain": [
       "Index(['title', 'url', 'source', 'time', 'storydate', 'query', 'story_position',\n",
       "       'panel_position', 'domain', 'category'],\n",
       "      dtype='object')"
      ]
     },
     "execution_count": 65,
     "metadata": {},
     "output_type": "execute_result"
    }
   ],
   "source": [
    "candidatenewsdf.columns"
   ]
  },
  {
   "cell_type": "code",
   "execution_count": null,
   "id": "bc8a13f3-c610-4b62-9acb-d177ecbe3aef",
   "metadata": {},
   "outputs": [],
   "source": []
  }
 ],
 "metadata": {
  "kernelspec": {
   "display_name": "dataclean_env",
   "language": "python",
   "name": "dataclean_env"
  },
  "language_info": {
   "codemirror_mode": {
    "name": "ipython",
    "version": 3
   },
   "file_extension": ".py",
   "mimetype": "text/x-python",
   "name": "python",
   "nbconvert_exporter": "python",
   "pygments_lexer": "ipython3",
   "version": "3.12.7"
  }
 },
 "nbformat": 4,
 "nbformat_minor": 5
}
