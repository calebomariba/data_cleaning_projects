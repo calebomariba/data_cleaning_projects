{
 "cells": [
  {
   "cell_type": "code",
   "execution_count": 6,
   "id": "613b8612-b5aa-48f3-8dbb-10b9063bbc2d",
   "metadata": {},
   "outputs": [],
   "source": [
    "# import pandas, numpy, json, pprint, and requests\n",
    "import pandas as pd\n",
    "import json\n",
    "import pprint\n",
    "import requests"
   ]
  },
  {
   "cell_type": "code",
   "execution_count": 8,
   "id": "47c89c29-bb10-44a4-89af-b6af8b5082af",
   "metadata": {},
   "outputs": [],
   "source": [
    "pd.set_option('display.width', 200)\n",
    "pd.set_option('display.max_columns', 8)"
   ]
  },
  {
   "cell_type": "code",
   "execution_count": 13,
   "id": "2f621879-e750-4d8f-bf70-5856128effcb",
   "metadata": {},
   "outputs": [],
   "source": [
    "# load more complicated data\n",
    "response = requests.get(\"https://openaccess-api.clevelandart.org/api/artworks/?african_american_artists\")\n",
    "camcollections = json.loads(response.text)"
   ]
  },
  {
   "cell_type": "code",
   "execution_count": null,
   "id": "9a5cab4c-e2b8-4018-83b9-7617608af61f",
   "metadata": {},
   "outputs": [],
   "source": []
  }
 ],
 "metadata": {
  "kernelspec": {
   "display_name": "dataclean_env",
   "language": "python",
   "name": "dataclean_env"
  },
  "language_info": {
   "codemirror_mode": {
    "name": "ipython",
    "version": 3
   },
   "file_extension": ".py",
   "mimetype": "text/x-python",
   "name": "python",
   "nbconvert_exporter": "python",
   "pygments_lexer": "ipython3",
   "version": "3.12.7"
  }
 },
 "nbformat": 4,
 "nbformat_minor": 5
}
