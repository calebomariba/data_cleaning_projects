{
 "cells": [
  {
   "cell_type": "code",
   "execution_count": 1,
   "id": "5b8565df-f484-4c84-bace-e02c2c5fe6ec",
   "metadata": {},
   "outputs": [],
   "source": [
    "import pandas as pd\n",
    "from pyspark.sql import SparkSession"
   ]
  },
  {
   "cell_type": "code",
   "execution_count": 2,
   "id": "bdb22759-ec84-4f93-b945-d88d6bcf2854",
   "metadata": {},
   "outputs": [],
   "source": [
    "pd.set_option('display.width', 78)\n",
    "pd.set_option('display.max_columns',6)"
   ]
  },
  {
   "cell_type": "code",
   "execution_count": 3,
   "id": "457048cc-ba9e-41fa-bd2d-d3a305b84c44",
   "metadata": {},
   "outputs": [],
   "source": [
    "# initiate a Spark session and import CSV data\n",
    "spark = SparkSession.builder \\\n",
    "   .getOrCreate()"
   ]
  },
  {
   "cell_type": "code",
   "execution_count": 4,
   "id": "e2644338-fc83-4bf2-85cd-2a78c085f0da",
   "metadata": {},
   "outputs": [],
   "source": [
    "landtemps = spark.read.option(\"header\",True) \\\n",
    "     .csv(\"data/landtemps.tar.gz\")\n"
   ]
  },
  {
   "cell_type": "code",
   "execution_count": 5,
   "id": "8947dae5-9d35-427e-975e-454848387399",
   "metadata": {},
   "outputs": [
    {
     "data": {
      "text/plain": [
       "pyspark.sql.dataframe.DataFrame"
      ]
     },
     "execution_count": 5,
     "metadata": {},
     "output_type": "execute_result"
    }
   ],
   "source": [
    "type(landtemps)"
   ]
  },
  {
   "cell_type": "code",
   "execution_count": 6,
   "id": "d58d63ea-ba24-4d47-b35f-a908f7f19dbb",
   "metadata": {},
   "outputs": [
    {
     "data": {
      "text/plain": [
       "16904868"
      ]
     },
     "execution_count": 6,
     "metadata": {},
     "output_type": "execute_result"
    }
   ],
   "source": [
    "landtemps.count()"
   ]
  },
  {
   "cell_type": "code",
   "execution_count": 7,
   "id": "ea5980d9-1dd6-44bd-8226-15c8efcacd91",
   "metadata": {},
   "outputs": [
    {
     "name": "stdout",
     "output_type": "stream",
     "text": [
      "root\n",
      " |-- landtemps.csv\u0000\u0000\u0000\u0000\u0000\u0000\u0000\u0000\u0000\u0000\u0000\u0000\u0000\u0000\u0000\u0000\u0000\u0000\u0000\u0000\u0000\u0000\u0000\u0000\u0000\u0000\u0000\u0000\u0000\u0000\u0000\u0000\u0000\u0000\u0000\u0000\u0000\u0000\u0000\u0000\u0000\u0000\u0000\u0000\u0000\u0000\u0000\u0000\u0000\u0000\u0000\u0000\u0000\u0000\u0000\u0000\u0000\u0000\u0000\u0000\u0000\u0000\u0000\u0000\u0000\u0000\u0000\u0000\u0000\u0000\u0000\u0000\u0000\u0000\u0000\u0000\u0000\u0000\u0000\u0000\u0000\u0000\u0000\u0000\u0000\u0000\u0000000664 \u0000001750 \u0000001750 \u000011063722557 13671275234 013547\u0000 0\u0000\u0000\u0000\u0000\u0000\u0000\u0000\u0000\u0000\u0000\u0000\u0000\u0000\u0000\u0000\u0000\u0000\u0000\u0000\u0000\u0000\u0000\u0000\u0000\u0000\u0000\u0000\u0000\u0000\u0000\u0000\u0000\u0000\u0000\u0000\u0000\u0000\u0000\u0000\u0000\u0000\u0000\u0000\u0000\u0000\u0000\u0000\u0000\u0000\u0000\u0000\u0000\u0000\u0000\u0000\u0000\u0000\u0000\u0000\u0000\u0000\u0000\u0000\u0000\u0000\u0000\u0000\u0000\u0000\u0000\u0000\u0000\u0000\u0000\u0000\u0000\u0000\u0000\u0000\u0000\u0000\u0000\u0000\u0000\u0000\u0000\u0000\u0000\u0000\u0000\u0000\u0000\u0000\u0000\u0000\u0000\u0000\u0000\u0000\u0000ustar\u000000mike\u0000\u0000\u0000\u0000\u0000\u0000\u0000\u0000\u0000\u0000\u0000\u0000\u0000\u0000\u0000\u0000\u0000\u0000\u0000\u0000\u0000\u0000\u0000\u0000\u0000\u0000\u0000\u0000mike\u0000\u0000\u0000\u0000\u0000\u0000\u0000\u0000\u0000\u0000\u0000\u0000\u0000\u0000\u0000\u0000\u0000\u0000\u0000\u0000\u0000\u0000\u0000\u0000\u0000\u0000\u0000\u0000000000 \u0000000000 \u0000\u0000\u0000\u0000\u0000\u0000\u0000\u0000\u0000\u0000\u0000\u0000\u0000\u0000\u0000\u0000\u0000\u0000\u0000\u0000\u0000\u0000\u0000\u0000\u0000\u0000\u0000\u0000\u0000\u0000\u0000\u0000\u0000\u0000\u0000\u0000\u0000\u0000\u0000\u0000\u0000\u0000\u0000\u0000\u0000\u0000\u0000\u0000\u0000\u0000\u0000\u0000\u0000\u0000\u0000\u0000\u0000\u0000\u0000\u0000\u0000\u0000\u0000\u0000\u0000\u0000\u0000\u0000\u0000\u0000\u0000\u0000\u0000\u0000\u0000\u0000\u0000\u0000\u0000\u0000\u0000\u0000\u0000\u0000\u0000\u0000\u0000\u0000\u0000\u0000\u0000\u0000\u0000\u0000\u0000\u0000\u0000\u0000\u0000\u0000\u0000\u0000\u0000\u0000\u0000\u0000\u0000\u0000\u0000\u0000\u0000\u0000\u0000\u0000\u0000\u0000\u0000\u0000\u0000\u0000\u0000\u0000\u0000\u0000\u0000\u0000\u0000\u0000\u0000\u0000\u0000\u0000\u0000\u0000\u0000\u0000\u0000\u0000\u0000\u0000\u0000\u0000\u0000\u0000\u0000\u0000\u0000\u0000\u0000\u0000\u0000\u0000\u0000\u0000\u0000\u0000\u0000\u0000\u0000\u0000\u0000\u0000\u0000\u0000\u0000\u0000\u0000\u0000locationid: string (nullable = true)\n",
      " |-- year: string (nullable = true)\n",
      " |-- month: string (nullable = true)\n",
      " |-- temp: string (nullable = true)\n",
      " |-- latitude: string (nullable = true)\n",
      " |-- longitude: string (nullable = true)\n",
      " |-- stnelev: string (nullable = true)\n",
      " |-- station: string (nullable = true)\n",
      " |-- countryid: string (nullable = true)\n",
      " |-- country: string (nullable = true)\n",
      "\n"
     ]
    }
   ],
   "source": [
    "landtemps.printSchema()"
   ]
  },
  {
   "cell_type": "code",
   "execution_count": 8,
   "id": "2b984313-7457-4981-9208-411da39e6444",
   "metadata": {},
   "outputs": [
    {
     "name": "stdout",
     "output_type": "stream",
     "text": [
      "+-------+-------------------+-----+----+-----+\n",
      "|station|country            |month|year|temp |\n",
      "+-------+-------------------+-----+----+-----+\n",
      "|SAVE   |Antigua and Barbuda|1    |1961|-0.85|\n",
      "|SAVE   |Antigua and Barbuda|1    |1962|1.17 |\n",
      "|SAVE   |Antigua and Barbuda|1    |1963|-7.09|\n",
      "|SAVE   |Antigua and Barbuda|1    |1964|0.66 |\n",
      "|SAVE   |Antigua and Barbuda|1    |1965|0.48 |\n",
      "+-------+-------------------+-----+----+-----+\n",
      "only showing top 5 rows\n",
      "\n"
     ]
    }
   ],
   "source": [
    "landtemps.select(\"station\",'country','month','year','temp') \\\n",
    "    .show(5, False)"
   ]
  },
  {
   "cell_type": "code",
   "execution_count": 9,
   "id": "e59cb988-cb11-467b-8eee-8df6b69f96c2",
   "metadata": {},
   "outputs": [],
   "source": [
    "# change temp data type from string to float\n",
    "landtemps = landtemps \\\n",
    "  .withColumn(\"temp\",landtemps.temp.cast('float'))"
   ]
  },
  {
   "cell_type": "code",
   "execution_count": 10,
   "id": "ffeafd5f-83ac-43c7-8145-5cb4018aaa48",
   "metadata": {},
   "outputs": [
    {
     "data": {
      "text/plain": [
       "[('temp', 'float')]"
      ]
     },
     "execution_count": 10,
     "metadata": {},
     "output_type": "execute_result"
    }
   ],
   "source": [
    "landtemps.select(\"temp\").dtypes"
   ]
  },
  {
   "cell_type": "code",
   "execution_count": 11,
   "id": "3e538201-38de-4943-b529-0e2b8e6169f7",
   "metadata": {},
   "outputs": [
    {
     "name": "stdout",
     "output_type": "stream",
     "text": [
      "+-------+------------------+\n",
      "|summary|              temp|\n",
      "+-------+------------------+\n",
      "|  count|          14461547|\n",
      "|   mean|10.880725773138437|\n",
      "| stddev|11.509636369381871|\n",
      "|    min|             -75.0|\n",
      "|    max|             42.29|\n",
      "+-------+------------------+\n",
      "\n"
     ]
    }
   ],
   "source": [
    "landtemps.describe('temp').show()"
   ]
  },
  {
   "cell_type": "code",
   "execution_count": 12,
   "id": "21af7665-534e-4b66-b4cf-61317359f2e9",
   "metadata": {},
   "outputs": [],
   "source": [
    "# load JSON data\n",
    "allcandidatenews = spark.read \\\n",
    "     .json(\"data/allcandidatenewssample.json\")"
   ]
  },
  {
   "cell_type": "code",
   "execution_count": 13,
   "id": "349f15c9-5747-410f-bd29-6367896796f6",
   "metadata": {},
   "outputs": [
    {
     "name": "stdout",
     "output_type": "stream",
     "text": [
      "+--------------------+--------------------+--------------+\n",
      "|              source|               title|story_position|\n",
      "+--------------------+--------------------+--------------+\n",
      "|            NBC News|Bloomberg cuts ti...|             6|\n",
      "|Town & Country Ma...|Democratic Candid...|             3|\n",
      "|                NULL|                NULL|          NULL|\n",
      "|             TheHill|Sanders responds ...|             7|\n",
      "|            CNBC.com|From Andrew Yang'...|             2|\n",
      "+--------------------+--------------------+--------------+\n",
      "only showing top 5 rows\n",
      "\n"
     ]
    }
   ],
   "source": [
    "allcandidatenews \\\n",
    "  .select(\"source\",\"title\",\"story_position\") \\\n",
    "  .show(5)"
   ]
  },
  {
   "cell_type": "code",
   "execution_count": null,
   "id": "b3f4e862-9897-458c-a8b9-3bc099c05c68",
   "metadata": {},
   "outputs": [],
   "source": []
  }
 ],
 "metadata": {
  "kernelspec": {
   "display_name": "dataclean_env",
   "language": "python",
   "name": "dataclean_env"
  },
  "language_info": {
   "codemirror_mode": {
    "name": "ipython",
    "version": 3
   },
   "file_extension": ".py",
   "mimetype": "text/x-python",
   "name": "python",
   "nbconvert_exporter": "python",
   "pygments_lexer": "ipython3",
   "version": "3.12.7"
  }
 },
 "nbformat": 4,
 "nbformat_minor": 5
}
