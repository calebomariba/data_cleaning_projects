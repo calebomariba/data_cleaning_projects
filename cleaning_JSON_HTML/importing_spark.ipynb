{
 "cells": [
  {
   "cell_type": "code",
   "execution_count": 1,
   "id": "5b8565df-f484-4c84-bace-e02c2c5fe6ec",
   "metadata": {},
   "outputs": [],
   "source": [
    "import pandas as pd\n",
    "from pyspark.sql import SparkSession"
   ]
  },
  {
   "cell_type": "code",
   "execution_count": 2,
   "id": "bdb22759-ec84-4f93-b945-d88d6bcf2854",
   "metadata": {},
   "outputs": [],
   "source": [
    "pd.set_option('display.width', 78)\n",
    "pd.set_option('display.max_columns',6)"
   ]
  },
  {
   "cell_type": "code",
   "execution_count": 3,
   "id": "457048cc-ba9e-41fa-bd2d-d3a305b84c44",
   "metadata": {},
   "outputs": [],
   "source": [
    "# initiate a Spark session and import CSV data\n",
    "spark = SparkSession.builder \\\n",
    "   .getOrCreate()"
   ]
  },
  {
   "cell_type": "code",
   "execution_count": 4,
   "id": "e2644338-fc83-4bf2-85cd-2a78c085f0da",
   "metadata": {},
   "outputs": [],
   "source": [
    "landtemps = spark.read.option(\"header\",True) \\\n",
    "     .csv(\"data/landtemps.tar.gz\")\n"
   ]
  },
  {
   "cell_type": "code",
   "execution_count": 5,
   "id": "8947dae5-9d35-427e-975e-454848387399",
   "metadata": {},
   "outputs": [
    {
     "data": {
      "text/plain": [
       "pyspark.sql.dataframe.DataFrame"
      ]
     },
     "execution_count": 5,
     "metadata": {},
     "output_type": "execute_result"
    }
   ],
   "source": [
    "type(landtemps)"
   ]
  },
  {
   "cell_type": "code",
   "execution_count": null,
   "id": "d58d63ea-ba24-4d47-b35f-a908f7f19dbb",
   "metadata": {},
   "outputs": [],
   "source": []
  }
 ],
 "metadata": {
  "kernelspec": {
   "display_name": "dataclean_env",
   "language": "python",
   "name": "dataclean_env"
  },
  "language_info": {
   "codemirror_mode": {
    "name": "ipython",
    "version": 3
   },
   "file_extension": ".py",
   "mimetype": "text/x-python",
   "name": "python",
   "nbconvert_exporter": "python",
   "pygments_lexer": "ipython3",
   "version": "3.12.7"
  }
 },
 "nbformat": 4,
 "nbformat_minor": 5
}
