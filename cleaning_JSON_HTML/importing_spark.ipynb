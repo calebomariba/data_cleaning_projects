{
 "cells": [
  {
   "cell_type": "code",
   "execution_count": 1,
   "id": "5b8565df-f484-4c84-bace-e02c2c5fe6ec",
   "metadata": {},
   "outputs": [],
   "source": [
    "import pandas as pd\n",
    "from pyspark.sql import SparkSession"
   ]
  },
  {
   "cell_type": "code",
   "execution_count": 2,
   "id": "bdb22759-ec84-4f93-b945-d88d6bcf2854",
   "metadata": {},
   "outputs": [],
   "source": [
    "pd.set_option('display.width', 78)\n",
    "pd.set_option('display.max_columns',6)"
   ]
  },
  {
   "cell_type": "code",
   "execution_count": 3,
   "id": "457048cc-ba9e-41fa-bd2d-d3a305b84c44",
   "metadata": {},
   "outputs": [],
   "source": [
    "# initiate a Spark session and import CSV data\n",
    "spark = SparkSession.builder \\\n",
    "   .getOrCreate()"
   ]
  },
  {
   "cell_type": "code",
   "execution_count": 4,
   "id": "e2644338-fc83-4bf2-85cd-2a78c085f0da",
   "metadata": {},
   "outputs": [],
   "source": [
    "landtemps = spark.read.option(\"header\",True) \\\n",
    "     .csv(\"data/landtemps.tar.gz\")\n"
   ]
  },
  {
   "cell_type": "code",
   "execution_count": 5,
   "id": "8947dae5-9d35-427e-975e-454848387399",
   "metadata": {},
   "outputs": [
    {
     "data": {
      "text/plain": [
       "pyspark.sql.dataframe.DataFrame"
      ]
     },
     "execution_count": 5,
     "metadata": {},
     "output_type": "execute_result"
    }
   ],
   "source": [
    "type(landtemps)"
   ]
  },
  {
   "cell_type": "code",
   "execution_count": 6,
   "id": "d58d63ea-ba24-4d47-b35f-a908f7f19dbb",
   "metadata": {},
   "outputs": [
    {
     "data": {
      "text/plain": [
       "16904868"
      ]
     },
     "execution_count": 6,
     "metadata": {},
     "output_type": "execute_result"
    }
   ],
   "source": [
    "landtemps.count()"
   ]
  },
  {
   "cell_type": "code",
   "execution_count": 7,
   "id": "ea5980d9-1dd6-44bd-8226-15c8efcacd91",
   "metadata": {},
   "outputs": [
    {
     "name": "stdout",
     "output_type": "stream",
     "text": [
      "root\n",
      " |-- landtemps.csv\u0000\u0000\u0000\u0000\u0000\u0000\u0000\u0000\u0000\u0000\u0000\u0000\u0000\u0000\u0000\u0000\u0000\u0000\u0000\u0000\u0000\u0000\u0000\u0000\u0000\u0000\u0000\u0000\u0000\u0000\u0000\u0000\u0000\u0000\u0000\u0000\u0000\u0000\u0000\u0000\u0000\u0000\u0000\u0000\u0000\u0000\u0000\u0000\u0000\u0000\u0000\u0000\u0000\u0000\u0000\u0000\u0000\u0000\u0000\u0000\u0000\u0000\u0000\u0000\u0000\u0000\u0000\u0000\u0000\u0000\u0000\u0000\u0000\u0000\u0000\u0000\u0000\u0000\u0000\u0000\u0000\u0000\u0000\u0000\u0000\u0000\u0000000664 \u0000001750 \u0000001750 \u000011063722557 13671275234 013547\u0000 0\u0000\u0000\u0000\u0000\u0000\u0000\u0000\u0000\u0000\u0000\u0000\u0000\u0000\u0000\u0000\u0000\u0000\u0000\u0000\u0000\u0000\u0000\u0000\u0000\u0000\u0000\u0000\u0000\u0000\u0000\u0000\u0000\u0000\u0000\u0000\u0000\u0000\u0000\u0000\u0000\u0000\u0000\u0000\u0000\u0000\u0000\u0000\u0000\u0000\u0000\u0000\u0000\u0000\u0000\u0000\u0000\u0000\u0000\u0000\u0000\u0000\u0000\u0000\u0000\u0000\u0000\u0000\u0000\u0000\u0000\u0000\u0000\u0000\u0000\u0000\u0000\u0000\u0000\u0000\u0000\u0000\u0000\u0000\u0000\u0000\u0000\u0000\u0000\u0000\u0000\u0000\u0000\u0000\u0000\u0000\u0000\u0000\u0000\u0000\u0000ustar\u000000mike\u0000\u0000\u0000\u0000\u0000\u0000\u0000\u0000\u0000\u0000\u0000\u0000\u0000\u0000\u0000\u0000\u0000\u0000\u0000\u0000\u0000\u0000\u0000\u0000\u0000\u0000\u0000\u0000mike\u0000\u0000\u0000\u0000\u0000\u0000\u0000\u0000\u0000\u0000\u0000\u0000\u0000\u0000\u0000\u0000\u0000\u0000\u0000\u0000\u0000\u0000\u0000\u0000\u0000\u0000\u0000\u0000000000 \u0000000000 \u0000\u0000\u0000\u0000\u0000\u0000\u0000\u0000\u0000\u0000\u0000\u0000\u0000\u0000\u0000\u0000\u0000\u0000\u0000\u0000\u0000\u0000\u0000\u0000\u0000\u0000\u0000\u0000\u0000\u0000\u0000\u0000\u0000\u0000\u0000\u0000\u0000\u0000\u0000\u0000\u0000\u0000\u0000\u0000\u0000\u0000\u0000\u0000\u0000\u0000\u0000\u0000\u0000\u0000\u0000\u0000\u0000\u0000\u0000\u0000\u0000\u0000\u0000\u0000\u0000\u0000\u0000\u0000\u0000\u0000\u0000\u0000\u0000\u0000\u0000\u0000\u0000\u0000\u0000\u0000\u0000\u0000\u0000\u0000\u0000\u0000\u0000\u0000\u0000\u0000\u0000\u0000\u0000\u0000\u0000\u0000\u0000\u0000\u0000\u0000\u0000\u0000\u0000\u0000\u0000\u0000\u0000\u0000\u0000\u0000\u0000\u0000\u0000\u0000\u0000\u0000\u0000\u0000\u0000\u0000\u0000\u0000\u0000\u0000\u0000\u0000\u0000\u0000\u0000\u0000\u0000\u0000\u0000\u0000\u0000\u0000\u0000\u0000\u0000\u0000\u0000\u0000\u0000\u0000\u0000\u0000\u0000\u0000\u0000\u0000\u0000\u0000\u0000\u0000\u0000\u0000\u0000\u0000\u0000\u0000\u0000\u0000\u0000\u0000\u0000\u0000\u0000\u0000locationid: string (nullable = true)\n",
      " |-- year: string (nullable = true)\n",
      " |-- month: string (nullable = true)\n",
      " |-- temp: string (nullable = true)\n",
      " |-- latitude: string (nullable = true)\n",
      " |-- longitude: string (nullable = true)\n",
      " |-- stnelev: string (nullable = true)\n",
      " |-- station: string (nullable = true)\n",
      " |-- countryid: string (nullable = true)\n",
      " |-- country: string (nullable = true)\n",
      "\n"
     ]
    }
   ],
   "source": [
    "landtemps.printSchema()"
   ]
  },
  {
   "cell_type": "code",
   "execution_count": 8,
   "id": "2b984313-7457-4981-9208-411da39e6444",
   "metadata": {},
   "outputs": [
    {
     "name": "stdout",
     "output_type": "stream",
     "text": [
      "+-------+-------------------+-----+----+-----+\n",
      "|station|country            |month|year|temp |\n",
      "+-------+-------------------+-----+----+-----+\n",
      "|SAVE   |Antigua and Barbuda|1    |1961|-0.85|\n",
      "|SAVE   |Antigua and Barbuda|1    |1962|1.17 |\n",
      "|SAVE   |Antigua and Barbuda|1    |1963|-7.09|\n",
      "|SAVE   |Antigua and Barbuda|1    |1964|0.66 |\n",
      "|SAVE   |Antigua and Barbuda|1    |1965|0.48 |\n",
      "+-------+-------------------+-----+----+-----+\n",
      "only showing top 5 rows\n",
      "\n"
     ]
    }
   ],
   "source": [
    "landtemps.select(\"station\",'country','month','year','temp') \\\n",
    "    .show(5, False)"
   ]
  },
  {
   "cell_type": "code",
   "execution_count": 9,
   "id": "e59cb988-cb11-467b-8eee-8df6b69f96c2",
   "metadata": {},
   "outputs": [],
   "source": [
    "# change temp data type from string to float\n",
    "landtemps = landtemps \\\n",
    "  .withColumn(\"temp\",landtemps.temp.cast('float'))"
   ]
  },
  {
   "cell_type": "code",
   "execution_count": 10,
   "id": "ffeafd5f-83ac-43c7-8145-5cb4018aaa48",
   "metadata": {},
   "outputs": [
    {
     "data": {
      "text/plain": [
       "[('temp', 'float')]"
      ]
     },
     "execution_count": 10,
     "metadata": {},
     "output_type": "execute_result"
    }
   ],
   "source": [
    "landtemps.select(\"temp\").dtypes"
   ]
  },
  {
   "cell_type": "code",
   "execution_count": 11,
   "id": "3e538201-38de-4943-b529-0e2b8e6169f7",
   "metadata": {},
   "outputs": [
    {
     "name": "stdout",
     "output_type": "stream",
     "text": [
      "+-------+------------------+\n",
      "|summary|              temp|\n",
      "+-------+------------------+\n",
      "|  count|          14461547|\n",
      "|   mean|10.880725773138437|\n",
      "| stddev|11.509636369381871|\n",
      "|    min|             -75.0|\n",
      "|    max|             42.29|\n",
      "+-------+------------------+\n",
      "\n"
     ]
    }
   ],
   "source": [
    "landtemps.describe('temp').show()"
   ]
  },
  {
   "cell_type": "code",
   "execution_count": 12,
   "id": "21af7665-534e-4b66-b4cf-61317359f2e9",
   "metadata": {},
   "outputs": [],
   "source": [
    "# load JSON data\n",
    "allcandidatenews = spark.read \\\n",
    "     .json(\"data/allcandidatenewssample.json\")"
   ]
  },
  {
   "cell_type": "code",
   "execution_count": 13,
   "id": "349f15c9-5747-410f-bd29-6367896796f6",
   "metadata": {},
   "outputs": [
    {
     "name": "stdout",
     "output_type": "stream",
     "text": [
      "+--------------------+--------------------+--------------+\n",
      "|              source|               title|story_position|\n",
      "+--------------------+--------------------+--------------+\n",
      "|            NBC News|Bloomberg cuts ti...|             6|\n",
      "|Town & Country Ma...|Democratic Candid...|             3|\n",
      "|                NULL|                NULL|          NULL|\n",
      "|             TheHill|Sanders responds ...|             7|\n",
      "|            CNBC.com|From Andrew Yang'...|             2|\n",
      "+--------------------+--------------------+--------------+\n",
      "only showing top 5 rows\n",
      "\n"
     ]
    }
   ],
   "source": [
    "allcandidatenews \\\n",
    "  .select(\"source\",\"title\",\"story_position\") \\\n",
    "  .show(5)"
   ]
  },
  {
   "cell_type": "code",
   "execution_count": 17,
   "id": "b3f4e862-9897-458c-a8b9-3bc099c05c68",
   "metadata": {},
   "outputs": [
    {
     "data": {
      "text/plain": [
       "60000"
      ]
     },
     "execution_count": 17,
     "metadata": {},
     "output_type": "execute_result"
    }
   ],
   "source": [
    "# display structure of JSON data\n",
    "allcandidatenews.count()"
   ]
  },
  {
   "cell_type": "code",
   "execution_count": 15,
   "id": "de73988b-2e19-4d36-b027-3f95e952bbe9",
   "metadata": {},
   "outputs": [
    {
     "name": "stdout",
     "output_type": "stream",
     "text": [
      "root\n",
      " |-- category: string (nullable = true)\n",
      " |-- date: string (nullable = true)\n",
      " |-- domain: string (nullable = true)\n",
      " |-- panel_position: string (nullable = true)\n",
      " |-- query: string (nullable = true)\n",
      " |-- reason: string (nullable = true)\n",
      " |-- source: string (nullable = true)\n",
      " |-- story_position: long (nullable = true)\n",
      " |-- time: string (nullable = true)\n",
      " |-- title: string (nullable = true)\n",
      " |-- url: string (nullable = true)\n",
      "\n"
     ]
    }
   ],
   "source": [
    "allcandidatenews.printSchema()"
   ]
  },
  {
   "cell_type": "code",
   "execution_count": 16,
   "id": "b4ccf1df-ce92-4dbf-8db9-96e6341e5171",
   "metadata": {},
   "outputs": [
    {
     "name": "stdout",
     "output_type": "stream",
     "text": [
      "+-------+-----------------+\n",
      "|summary|   story_position|\n",
      "+-------+-----------------+\n",
      "|  count|            57618|\n",
      "|   mean|5.249626852719636|\n",
      "| stddev|2.889001922195635|\n",
      "|    min|                1|\n",
      "|    max|               10|\n",
      "+-------+-----------------+\n",
      "\n"
     ]
    }
   ],
   "source": [
    "allcandidatenews \\\n",
    "   .describe('story_position') \\\n",
    "   .show()"
   ]
  },
  {
   "cell_type": "code",
   "execution_count": 18,
   "id": "ef61ad74-fd9d-4dff-959d-8505778cc105",
   "metadata": {},
   "outputs": [],
   "source": [
    "allcandidatenewsdf = allcandidatenews.toPandas()"
   ]
  },
  {
   "cell_type": "code",
   "execution_count": 19,
   "id": "2e0b2a94-771d-402a-889c-53e5cfba212e",
   "metadata": {},
   "outputs": [
    {
     "data": {
      "text/html": [
       "<div>\n",
       "<style scoped>\n",
       "    .dataframe tbody tr th:only-of-type {\n",
       "        vertical-align: middle;\n",
       "    }\n",
       "\n",
       "    .dataframe tbody tr th {\n",
       "        vertical-align: top;\n",
       "    }\n",
       "\n",
       "    .dataframe thead th {\n",
       "        text-align: right;\n",
       "    }\n",
       "</style>\n",
       "<table border=\"1\" class=\"dataframe\">\n",
       "  <thead>\n",
       "    <tr style=\"text-align: right;\">\n",
       "      <th></th>\n",
       "      <th>category</th>\n",
       "      <th>date</th>\n",
       "      <th>domain</th>\n",
       "      <th>...</th>\n",
       "      <th>time</th>\n",
       "      <th>title</th>\n",
       "      <th>url</th>\n",
       "    </tr>\n",
       "  </thead>\n",
       "  <tbody>\n",
       "    <tr>\n",
       "      <th>0</th>\n",
       "      <td>None</td>\n",
       "      <td>2019-12-25 10:00:00</td>\n",
       "      <td>www.nbcnews.com</td>\n",
       "      <td>...</td>\n",
       "      <td>18 hours ago</td>\n",
       "      <td>Bloomberg cuts ties with company using prison ...</td>\n",
       "      <td>https://www.nbcnews.com/politics/2020-election...</td>\n",
       "    </tr>\n",
       "    <tr>\n",
       "      <th>1</th>\n",
       "      <td>None</td>\n",
       "      <td>2019-11-09 08:00:00</td>\n",
       "      <td>www.townandcountrymag.com</td>\n",
       "      <td>...</td>\n",
       "      <td>18 hours ago</td>\n",
       "      <td>Democratic Candidates React to Michael Bloombe...</td>\n",
       "      <td>https://www.townandcountrymag.com/society/poli...</td>\n",
       "    </tr>\n",
       "    <tr>\n",
       "      <th>2</th>\n",
       "      <td>None</td>\n",
       "      <td>2019-09-11 18:00:00</td>\n",
       "      <td>None</td>\n",
       "      <td>...</td>\n",
       "      <td>None</td>\n",
       "      <td>None</td>\n",
       "      <td>None</td>\n",
       "    </tr>\n",
       "    <tr>\n",
       "      <th>3</th>\n",
       "      <td>None</td>\n",
       "      <td>2019-08-08 06:00:00</td>\n",
       "      <td>thehill.com</td>\n",
       "      <td>...</td>\n",
       "      <td>15 hours ago</td>\n",
       "      <td>Sanders responds to de Blasio's invitation to ...</td>\n",
       "      <td>https://thehill.com/homenews/campaign/456579-s...</td>\n",
       "    </tr>\n",
       "    <tr>\n",
       "      <th>4</th>\n",
       "      <td>None</td>\n",
       "      <td>2019-08-04 10:00:00</td>\n",
       "      <td>www.cnbc.com</td>\n",
       "      <td>...</td>\n",
       "      <td>1 day ago</td>\n",
       "      <td>From Andrew Yang's 'No Tie' look to Bernie Buc...</td>\n",
       "      <td>https://www.cnbc.com/2019/08/02/election-2020-...</td>\n",
       "    </tr>\n",
       "  </tbody>\n",
       "</table>\n",
       "<p>5 rows × 11 columns</p>\n",
       "</div>"
      ],
      "text/plain": [
       "  category                 date                     domain  ...  \\\n",
       "0     None  2019-12-25 10:00:00            www.nbcnews.com  ...   \n",
       "1     None  2019-11-09 08:00:00  www.townandcountrymag.com  ...   \n",
       "2     None  2019-09-11 18:00:00                       None  ...   \n",
       "3     None  2019-08-08 06:00:00                thehill.com  ...   \n",
       "4     None  2019-08-04 10:00:00               www.cnbc.com  ...   \n",
       "\n",
       "           time                                              title  \\\n",
       "0  18 hours ago  Bloomberg cuts ties with company using prison ...   \n",
       "1  18 hours ago  Democratic Candidates React to Michael Bloombe...   \n",
       "2          None                                               None   \n",
       "3  15 hours ago  Sanders responds to de Blasio's invitation to ...   \n",
       "4     1 day ago  From Andrew Yang's 'No Tie' look to Bernie Buc...   \n",
       "\n",
       "                                                 url  \n",
       "0  https://www.nbcnews.com/politics/2020-election...  \n",
       "1  https://www.townandcountrymag.com/society/poli...  \n",
       "2                                               None  \n",
       "3  https://thehill.com/homenews/campaign/456579-s...  \n",
       "4  https://www.cnbc.com/2019/08/02/election-2020-...  \n",
       "\n",
       "[5 rows x 11 columns]"
      ]
     },
     "execution_count": 19,
     "metadata": {},
     "output_type": "execute_result"
    }
   ],
   "source": [
    "allcandidatenewsdf.head()"
   ]
  },
  {
   "cell_type": "code",
   "execution_count": 20,
   "id": "b2420a81-5902-4697-a112-92deaf360c8a",
   "metadata": {},
   "outputs": [
    {
     "name": "stdout",
     "output_type": "stream",
     "text": [
      "<class 'pandas.core.frame.DataFrame'>\n",
      "RangeIndex: 60000 entries, 0 to 59999\n",
      "Data columns (total 11 columns):\n",
      " #   Column          Non-Null Count  Dtype  \n",
      "---  ------          --------------  -----  \n",
      " 0   category        416 non-null    object \n",
      " 1   date            60000 non-null  object \n",
      " 2   domain          57618 non-null  object \n",
      " 3   panel_position  57618 non-null  object \n",
      " 4   query           57618 non-null  object \n",
      " 5   reason          2382 non-null   object \n",
      " 6   source          57618 non-null  object \n",
      " 7   story_position  57618 non-null  float64\n",
      " 8   time            57618 non-null  object \n",
      " 9   title           57618 non-null  object \n",
      " 10  url             57618 non-null  object \n",
      "dtypes: float64(1), object(10)\n",
      "memory usage: 5.0+ MB\n"
     ]
    }
   ],
   "source": [
    "allcandidatenewsdf.info()"
   ]
  },
  {
   "cell_type": "code",
   "execution_count": null,
   "id": "10aaa348-f2c6-4cf0-b02e-7ce48ff60784",
   "metadata": {},
   "outputs": [],
   "source": []
  }
 ],
 "metadata": {
  "kernelspec": {
   "display_name": "dataclean_env",
   "language": "python",
   "name": "dataclean_env"
  },
  "language_info": {
   "codemirror_mode": {
    "name": "ipython",
    "version": 3
   },
   "file_extension": ".py",
   "mimetype": "text/x-python",
   "name": "python",
   "nbconvert_exporter": "python",
   "pygments_lexer": "ipython3",
   "version": "3.12.7"
  }
 },
 "nbformat": 4,
 "nbformat_minor": 5
}
