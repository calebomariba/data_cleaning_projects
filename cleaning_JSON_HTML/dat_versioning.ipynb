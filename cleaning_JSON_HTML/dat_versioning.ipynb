{
 "cells": [
  {
   "cell_type": "code",
   "execution_count": 2,
   "id": "ec01c08f-69a0-455c-8abd-2a40f96d0a8a",
   "metadata": {},
   "outputs": [],
   "source": [
    "# -*- coding: utf-8 -*-\n",
    "import pandas as pd\n",
    "from deltalake.writer import write_deltalake\n",
    "from deltalake import DeltaTable\n",
    "import os"
   ]
  },
  {
   "cell_type": "code",
   "execution_count": 3,
   "id": "a4a7abbf-af7b-4d94-b9f6-02f91cafbae8",
   "metadata": {},
   "outputs": [],
   "source": [
    "pd.set_option('display.width', 78)\n",
    "pd.set_option('display.max_columns',6)"
   ]
  },
  {
   "cell_type": "code",
   "execution_count": 4,
   "id": "c3ab79ad-7ebf-44af-b4e6-dd0010be1575",
   "metadata": {},
   "outputs": [],
   "source": [
    "os.makedirs(\"data/temps_lake\", exist_ok=True)"
   ]
  },
  {
   "cell_type": "code",
   "execution_count": 5,
   "id": "5d2ddbe8-5ffb-473e-8226-e077a0fb74f2",
   "metadata": {},
   "outputs": [
    {
     "name": "stderr",
     "output_type": "stream",
     "text": [
      "C:\\Users\\user\\AppData\\Local\\Temp\\ipykernel_432\\3925585316.py:1: FutureWarning: Support for nested sequences for 'parse_dates' in pd.read_csv is deprecated. Combine the desired columns with pd.to_datetime after parsing instead.\n",
      "  landtemps = pd.read_csv('data/landtempssample.csv',\n",
      "C:\\Users\\user\\AppData\\Local\\Temp\\ipykernel_432\\3925585316.py:1: UserWarning: Could not infer format, so each element will be parsed individually, falling back to `dateutil`. To ensure parsing is consistent and as-expected, please specify a format.\n",
      "  landtemps = pd.read_csv('data/landtempssample.csv',\n"
     ]
    }
   ],
   "source": [
    "landtemps = pd.read_csv('data/landtempssample.csv',\n",
    "    names=['stationid','year','month','avgtemp','latitude',\n",
    "      'longitude','elevation','station','countryid','country'],\n",
    "    skiprows=1,\n",
    "    parse_dates=[['month','year']])"
   ]
  },
  {
   "cell_type": "code",
   "execution_count": 6,
   "id": "6adc65b1-517d-4075-a83a-cc664ef196c8",
   "metadata": {},
   "outputs": [
    {
     "name": "stdout",
     "output_type": "stream",
     "text": [
      "     stationid  avgtemp  latitude  ...  countryid        country       date\n",
      "0  USS0010K01S     5.27   39.9000  ...         US  United States 2000-04-01\n",
      "1  CI000085406    18.04  -18.3500  ...         CI          Chile 1940-05-01\n",
      "2  USC00036376     6.22   34.3703  ...         US  United States 2013-12-01\n",
      "3  ASN00024002    22.93  -34.2833  ...         AS      Australia 1963-02-01\n",
      "4  ASN00028007      NaN  -14.7803  ...         AS      Australia 2001-11-01\n",
      "\n",
      "[5 rows x 9 columns]\n"
     ]
    }
   ],
   "source": [
    "# Read the CSV without parsing dates initially\n",
    "landtemps = pd.read_csv(\n",
    "    'data/landtempssample.csv',\n",
    "    names=['stationid', 'year', 'month', 'avgtemp', 'latitude',\n",
    "           'longitude', 'elevation', 'station', 'countryid', 'country'],\n",
    "    skiprows=1\n",
    ")\n",
    "\n",
    "# Combine 'month' and 'year' into a single datetime column\n",
    "landtemps['date'] = pd.to_datetime(\n",
    "    landtemps['year'].astype(str) + '-' + landtemps['month'].astype(str),\n",
    "    format='%Y-%m',\n",
    "    errors='coerce'\n",
    ")\n",
    "\n",
    "# Drop the original 'month' and 'year' columns if they're no longer needed\n",
    "landtemps.drop(columns=['month', 'year'], inplace=True)\n",
    "\n",
    "# Display the first few rows to verify\n",
    "print(landtemps.head())\n"
   ]
  },
  {
   "cell_type": "code",
   "execution_count": 7,
   "id": "9eb8dd4c-e112-42be-82c7-afcfb72d2db5",
   "metadata": {
    "scrolled": true
   },
   "outputs": [
    {
     "data": {
      "text/plain": [
       "(100000, 9)"
      ]
     },
     "execution_count": 7,
     "metadata": {},
     "output_type": "execute_result"
    }
   ],
   "source": [
    "landtemps.shape"
   ]
  },
  {
   "cell_type": "code",
   "execution_count": 21,
   "id": "650e2d41-1bf1-4b85-b8dd-aec597edad2d",
   "metadata": {},
   "outputs": [
    {
     "name": "stdout",
     "output_type": "stream",
     "text": [
      "stationid            object\n",
      "avgtemp             float64\n",
      "latitude            float64\n",
      "longitude           float64\n",
      "elevation           float64\n",
      "station              object\n",
      "countryid            object\n",
      "country              object\n",
      "date         datetime64[ns]\n",
      "dtype: object\n"
     ]
    }
   ],
   "source": [
    "print(landtemps.dtypes)"
   ]
  },
  {
   "cell_type": "code",
   "execution_count": 22,
   "id": "ae785751-71f7-4a82-8db4-39d5fa40ac9a",
   "metadata": {},
   "outputs": [],
   "source": [
    "write_deltalake(\"data/temps_lake\", landtemps)"
   ]
  },
  {
   "cell_type": "code",
   "execution_count": 23,
   "id": "bd04683a-11d3-447b-97be-d81c5f7cf4f0",
   "metadata": {},
   "outputs": [
    {
     "data": {
      "text/plain": [
       "deltalake.table.DeltaTable"
      ]
     },
     "execution_count": 23,
     "metadata": {},
     "output_type": "execute_result"
    }
   ],
   "source": [
    "tempsdelta = DeltaTable(\"data/temps_lake\", version=0)\n",
    "type(tempsdelta)"
   ]
  },
  {
   "cell_type": "code",
   "execution_count": 24,
   "id": "426fc70a-4718-4c7f-907e-96e15f80d8bf",
   "metadata": {},
   "outputs": [
    {
     "data": {
      "text/plain": [
       "(100000, 9)"
      ]
     },
     "execution_count": 24,
     "metadata": {},
     "output_type": "execute_result"
    }
   ],
   "source": [
    "tempsdfv1 = tempsdelta.to_pandas()\n",
    "tempsdfv1.shape"
   ]
  },
  {
   "cell_type": "code",
   "execution_count": 25,
   "id": "f8af4256-3e6b-43f0-88d9-cd7533632d00",
   "metadata": {},
   "outputs": [],
   "source": [
    "write_deltalake(\"data/temps_lake\", landtemps.head(1000), mode=\"overwrite\")"
   ]
  },
  {
   "cell_type": "code",
   "execution_count": 26,
   "id": "3ff8801f-cd54-415b-a5b7-a3ed9587385b",
   "metadata": {},
   "outputs": [
    {
     "data": {
      "text/plain": [
       "(1000, 9)"
      ]
     },
     "execution_count": 26,
     "metadata": {},
     "output_type": "execute_result"
    }
   ],
   "source": [
    "tempsdfv2 = DeltaTable(\"data/temps_lake\", version=1).to_pandas()\n",
    "tempsdfv2.shape"
   ]
  },
  {
   "cell_type": "code",
   "execution_count": 27,
   "id": "649436fc-88ef-470f-b4a9-8e3b950a91f7",
   "metadata": {},
   "outputs": [],
   "source": [
    "write_deltalake(\"data/temps_lake\", landtemps.head(1000), mode=\"append\")"
   ]
  },
  {
   "cell_type": "code",
   "execution_count": 28,
   "id": "9e6f480b-b62f-4670-adde-e4e010ae7ceb",
   "metadata": {},
   "outputs": [
    {
     "data": {
      "text/plain": [
       "(2000, 9)"
      ]
     },
     "execution_count": 28,
     "metadata": {},
     "output_type": "execute_result"
    }
   ],
   "source": [
    "tempsdfv3 = DeltaTable(\"data/temps_lake\", version=2).to_pandas()\n",
    "tempsdfv3.shape"
   ]
  },
  {
   "cell_type": "code",
   "execution_count": 29,
   "id": "797d7fda-a65a-4229-b45e-2133f3902173",
   "metadata": {},
   "outputs": [
    {
     "data": {
      "text/plain": [
       "(100000, 9)"
      ]
     },
     "execution_count": 29,
     "metadata": {},
     "output_type": "execute_result"
    }
   ],
   "source": [
    "DeltaTable(\"data/temps_lake\", version=0).to_pandas().shape"
   ]
  },
  {
   "cell_type": "code",
   "execution_count": null,
   "id": "335e403e-07e5-47ea-9fd4-af3009bf150b",
   "metadata": {},
   "outputs": [],
   "source": []
  }
 ],
 "metadata": {
  "kernelspec": {
   "display_name": "dataclean_env",
   "language": "python",
   "name": "dataclean_env"
  },
  "language_info": {
   "codemirror_mode": {
    "name": "ipython",
    "version": 3
   },
   "file_extension": ".py",
   "mimetype": "text/x-python",
   "name": "python",
   "nbconvert_exporter": "python",
   "pygments_lexer": "ipython3",
   "version": "3.12.7"
  }
 },
 "nbformat": 4,
 "nbformat_minor": 5
}
