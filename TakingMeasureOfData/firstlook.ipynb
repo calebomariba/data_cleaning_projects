{
 "cells": [
  {
   "cell_type": "code",
   "execution_count": 1,
   "id": "60c2270d-4529-46f8-ae71-a6d889ddd89f",
   "metadata": {},
   "outputs": [],
   "source": [
    "import pandas as pd\n",
    "import numpy as np"
   ]
  },
  {
   "cell_type": "code",
   "execution_count": 2,
   "id": "dd496ada-3126-48ea-99d9-1898e589637f",
   "metadata": {},
   "outputs": [],
   "source": [
    "pd.set_option('display.width', 70)\n",
    "pd.set_option('display.max_columns', 5)\n",
    "pd.set_option('display.max_rows', 20)"
   ]
  },
  {
   "cell_type": "code",
   "execution_count": 3,
   "id": "f827fc99-b13d-4793-be44-f1bffbeeb1a3",
   "metadata": {},
   "outputs": [],
   "source": [
    "pd.options.display.float_format = '{:,.0f}'.format"
   ]
  },
  {
   "cell_type": "code",
   "execution_count": 11,
   "id": "efd450da-f049-4cea-a325-fe0e4741758d",
   "metadata": {},
   "outputs": [],
   "source": [
    "nls97 = pd.read_csv(\"data/nls97.csv\")"
   ]
  },
  {
   "cell_type": "code",
   "execution_count": 12,
   "id": "7ae90d1c-18b7-4f57-b3f4-f3da0f9d0e95",
   "metadata": {},
   "outputs": [],
   "source": [
    "covidtotals = pd.read_csv(\"data/covidtotals.csv\",\n",
    "  parse_dates=['lastdate'])"
   ]
  },
  {
   "cell_type": "code",
   "execution_count": 13,
   "id": "fc7689ad-cef3-4a24-9526-e9c4055b4a72",
   "metadata": {},
   "outputs": [
    {
     "data": {
      "text/plain": [
       "Index([100061, 100139, 100284, 100292, 100583, 100833, 100931,\n",
       "       101089, 101122, 101132,\n",
       "       ...\n",
       "       998997, 999031, 999053, 999087, 999103, 999291, 999406,\n",
       "       999543, 999698, 999963],\n",
       "      dtype='int64', name='personid', length=8984)"
      ]
     },
     "execution_count": 13,
     "metadata": {},
     "output_type": "execute_result"
    }
   ],
   "source": [
    "# Get basic stats on the nls dataset\n",
    "nls97.set_index(\"personid\", inplace=True)\n",
    "nls97.index"
   ]
  },
  {
   "cell_type": "code",
   "execution_count": 14,
   "id": "fe1fa6bd-ecee-4f83-8e83-628af1338530",
   "metadata": {},
   "outputs": [
    {
     "data": {
      "text/plain": [
       "(8984, 88)"
      ]
     },
     "execution_count": 14,
     "metadata": {},
     "output_type": "execute_result"
    }
   ],
   "source": [
    "nls97.shape"
   ]
  },
  {
   "cell_type": "code",
   "execution_count": 15,
   "id": "91d0b72d-1f31-4af7-b062-7bdd8761be81",
   "metadata": {},
   "outputs": [
    {
     "data": {
      "text/plain": [
       "8984"
      ]
     },
     "execution_count": 15,
     "metadata": {},
     "output_type": "execute_result"
    }
   ],
   "source": [
    "nls97.index.nunique()"
   ]
  },
  {
   "cell_type": "code",
   "execution_count": 16,
   "id": "e88552bb-1584-4c34-a04f-bac6c54c5eb9",
   "metadata": {},
   "outputs": [
    {
     "name": "stdout",
     "output_type": "stream",
     "text": [
      "<class 'pandas.core.frame.DataFrame'>\n",
      "Index: 8984 entries, 100061 to 999963\n",
      "Data columns (total 88 columns):\n",
      " #   Column                 Non-Null Count  Dtype  \n",
      "---  ------                 --------------  -----  \n",
      " 0   gender                 8984 non-null   object \n",
      " 1   birthmonth             8984 non-null   int64  \n",
      " 2   birthyear              8984 non-null   int64  \n",
      " 3   highestgradecompleted  6663 non-null   float64\n",
      " 4   maritalstatus          6672 non-null   object \n",
      " 5   childathome            4791 non-null   float64\n",
      " 6   childnotathome         4791 non-null   float64\n",
      " 7   wageincome             5091 non-null   float64\n",
      " 8   weeklyhrscomputer      5792 non-null   object \n",
      " 9   weeklyhrstv            6711 non-null   object \n",
      " 10  nightlyhrssleep        6706 non-null   float64\n",
      " 11  satverbal              1406 non-null   float64\n",
      " 12  satmath                1407 non-null   float64\n",
      " 13  gpaoverall             6004 non-null   float64\n",
      " 14  gpaenglish             5798 non-null   float64\n",
      " 15  gpamath                5766 non-null   float64\n",
      " 16  gpascience             5684 non-null   float64\n",
      " 17  highestdegree          8953 non-null   object \n",
      " 18  govprovidejobs         1833 non-null   object \n",
      " 19  govpricecontrols       1859 non-null   object \n",
      " 20  govhealthcare          1874 non-null   object \n",
      " 21  govelderliving         1872 non-null   object \n",
      " 22  govindhelp             1815 non-null   object \n",
      " 23  govunemp               1811 non-null   object \n",
      " 24  govincomediff          1775 non-null   object \n",
      " 25  govcollegefinance      1875 non-null   object \n",
      " 26  govdecenthousing       1847 non-null   object \n",
      " 27  govprotectenvironment  1860 non-null   object \n",
      " 28  weeksworked00          8603 non-null   float64\n",
      " 29  weeksworked01          8564 non-null   float64\n",
      " 30  weeksworked02          8556 non-null   float64\n",
      " 31  weeksworked03          8490 non-null   float64\n",
      " 32  weeksworked04          8458 non-null   float64\n",
      " 33  weeksworked05          8403 non-null   float64\n",
      " 34  weeksworked06          8340 non-null   float64\n",
      " 35  weeksworked07          8272 non-null   float64\n",
      " 36  weeksworked08          8186 non-null   float64\n",
      " 37  weeksworked09          8146 non-null   float64\n",
      " 38  weeksworked10          8054 non-null   float64\n",
      " 39  weeksworked11          7968 non-null   float64\n",
      " 40  weeksworked12          7747 non-null   float64\n",
      " 41  weeksworked13          7680 non-null   float64\n",
      " 42  weeksworked14          7612 non-null   float64\n",
      " 43  weeksworked15          7389 non-null   float64\n",
      " 44  weeksworked16          7068 non-null   float64\n",
      " 45  weeksworked17          6670 non-null   float64\n",
      " 46  colenrfeb97            1250 non-null   object \n",
      " 47  colenroct97            8501 non-null   object \n",
      " 48  colenrfeb98            8501 non-null   object \n",
      " 49  colenroct98            8888 non-null   object \n",
      " 50  colenrfeb99            8865 non-null   object \n",
      " 51  colenroct99            8851 non-null   object \n",
      " 52  colenrfeb00            8820 non-null   object \n",
      " 53  colenroct00            8805 non-null   object \n",
      " 54  colenrfeb01            8786 non-null   object \n",
      " 55  colenroct01            8758 non-null   object \n",
      " 56  colenrfeb02            8732 non-null   object \n",
      " 57  colenroct02            8698 non-null   object \n",
      " 58  colenrfeb03            8658 non-null   object \n",
      " 59  colenroct03            8622 non-null   object \n",
      " 60  colenrfeb04            8578 non-null   object \n",
      " 61  colenroct04            8546 non-null   object \n",
      " 62  colenrfeb05            8508 non-null   object \n",
      " 63  colenroct05            8471 non-null   object \n",
      " 64  colenrfeb06            8426 non-null   object \n",
      " 65  colenroct06            8407 non-null   object \n",
      " 66  colenrfeb07            8352 non-null   object \n",
      " 67  colenroct07            8331 non-null   object \n",
      " 68  colenrfeb08            8289 non-null   object \n",
      " 69  colenroct08            8280 non-null   object \n",
      " 70  colenrfeb09            8236 non-null   object \n",
      " 71  colenroct09            8193 non-null   object \n",
      " 72  colenrfeb10            8116 non-null   object \n",
      " 73  colenroct10            8091 non-null   object \n",
      " 74  colenrfeb11            8037 non-null   object \n",
      " 75  colenroct11            7972 non-null   object \n",
      " 76  colenrfeb12            7794 non-null   object \n",
      " 77  colenroct12            7754 non-null   object \n",
      " 78  colenrfeb13            7754 non-null   object \n",
      " 79  colenroct13            7754 non-null   object \n",
      " 80  colenrfeb14            7624 non-null   object \n",
      " 81  colenroct14            7469 non-null   object \n",
      " 82  colenrfeb15            7469 non-null   object \n",
      " 83  colenroct15            7469 non-null   object \n",
      " 84  colenrfeb16            7036 non-null   object \n",
      " 85  colenroct16            6733 non-null   object \n",
      " 86  colenrfeb17            6733 non-null   object \n",
      " 87  colenroct17            6734 non-null   object \n",
      "dtypes: float64(29), int64(2), object(57)\n",
      "memory usage: 6.4+ MB\n"
     ]
    }
   ],
   "source": [
    "nls97.info()"
   ]
  },
  {
   "cell_type": "code",
   "execution_count": 17,
   "id": "bb39db76-9cd6-4e02-9aef-01abf3f7b233",
   "metadata": {},
   "outputs": [
    {
     "data": {
      "text/html": [
       "<div>\n",
       "<style scoped>\n",
       "    .dataframe tbody tr th:only-of-type {\n",
       "        vertical-align: middle;\n",
       "    }\n",
       "\n",
       "    .dataframe tbody tr th {\n",
       "        vertical-align: top;\n",
       "    }\n",
       "\n",
       "    .dataframe thead th {\n",
       "        text-align: right;\n",
       "    }\n",
       "</style>\n",
       "<table border=\"1\" class=\"dataframe\">\n",
       "  <thead>\n",
       "    <tr style=\"text-align: right;\">\n",
       "      <th>personid</th>\n",
       "      <th>100061</th>\n",
       "      <th>100139</th>\n",
       "    </tr>\n",
       "  </thead>\n",
       "  <tbody>\n",
       "    <tr>\n",
       "      <th>gender</th>\n",
       "      <td>Female</td>\n",
       "      <td>Male</td>\n",
       "    </tr>\n",
       "    <tr>\n",
       "      <th>birthmonth</th>\n",
       "      <td>5</td>\n",
       "      <td>9</td>\n",
       "    </tr>\n",
       "    <tr>\n",
       "      <th>birthyear</th>\n",
       "      <td>1980</td>\n",
       "      <td>1983</td>\n",
       "    </tr>\n",
       "    <tr>\n",
       "      <th>highestgradecompleted</th>\n",
       "      <td>13</td>\n",
       "      <td>12</td>\n",
       "    </tr>\n",
       "    <tr>\n",
       "      <th>maritalstatus</th>\n",
       "      <td>Married</td>\n",
       "      <td>Married</td>\n",
       "    </tr>\n",
       "    <tr>\n",
       "      <th>...</th>\n",
       "      <td>...</td>\n",
       "      <td>...</td>\n",
       "    </tr>\n",
       "    <tr>\n",
       "      <th>colenroct15</th>\n",
       "      <td>1. Not enrolled</td>\n",
       "      <td>1. Not enrolled</td>\n",
       "    </tr>\n",
       "    <tr>\n",
       "      <th>colenrfeb16</th>\n",
       "      <td>1. Not enrolled</td>\n",
       "      <td>1. Not enrolled</td>\n",
       "    </tr>\n",
       "    <tr>\n",
       "      <th>colenroct16</th>\n",
       "      <td>1. Not enrolled</td>\n",
       "      <td>1. Not enrolled</td>\n",
       "    </tr>\n",
       "    <tr>\n",
       "      <th>colenrfeb17</th>\n",
       "      <td>1. Not enrolled</td>\n",
       "      <td>1. Not enrolled</td>\n",
       "    </tr>\n",
       "    <tr>\n",
       "      <th>colenroct17</th>\n",
       "      <td>1. Not enrolled</td>\n",
       "      <td>1. Not enrolled</td>\n",
       "    </tr>\n",
       "  </tbody>\n",
       "</table>\n",
       "<p>88 rows × 2 columns</p>\n",
       "</div>"
      ],
      "text/plain": [
       "personid                        100061           100139\n",
       "gender                          Female             Male\n",
       "birthmonth                           5                9\n",
       "birthyear                         1980             1983\n",
       "highestgradecompleted               13               12\n",
       "maritalstatus                  Married          Married\n",
       "...                                ...              ...\n",
       "colenroct15            1. Not enrolled  1. Not enrolled\n",
       "colenrfeb16            1. Not enrolled  1. Not enrolled\n",
       "colenroct16            1. Not enrolled  1. Not enrolled\n",
       "colenrfeb17            1. Not enrolled  1. Not enrolled\n",
       "colenroct17            1. Not enrolled  1. Not enrolled\n",
       "\n",
       "[88 rows x 2 columns]"
      ]
     },
     "execution_count": 17,
     "metadata": {},
     "output_type": "execute_result"
    }
   ],
   "source": [
    "nls97.head(2).T"
   ]
  },
  {
   "cell_type": "code",
   "execution_count": 18,
   "id": "e6cb9eaa-d33b-4521-a2f2-00a95bdae03b",
   "metadata": {},
   "outputs": [],
   "source": [
    "# Get basic stats on the covid cases dataset\n",
    "covidtotals.set_index(\"iso_code\", inplace=True)"
   ]
  },
  {
   "cell_type": "code",
   "execution_count": 19,
   "id": "f4cbef4a-fbe0-43c3-9e96-ba6b5b863688",
   "metadata": {},
   "outputs": [
    {
     "data": {
      "text/plain": [
       "Index(['AFG', 'ALB', 'DZA', 'ASM', 'AND', 'AGO', 'AIA', 'ATG', 'ARG',\n",
       "       'ARM',\n",
       "       ...\n",
       "       'URY', 'UZB', 'VUT', 'VAT', 'VEN', 'VNM', 'WLF', 'YEM', 'ZMB',\n",
       "       'ZWE'],\n",
       "      dtype='object', name='iso_code', length=231)"
      ]
     },
     "execution_count": 19,
     "metadata": {},
     "output_type": "execute_result"
    }
   ],
   "source": [
    "covidtotals.index"
   ]
  },
  {
   "cell_type": "code",
   "execution_count": 20,
   "id": "d40b1f75-00d5-49fa-9970-fad0b92b7095",
   "metadata": {},
   "outputs": [
    {
     "data": {
      "text/plain": [
       "(231, 16)"
      ]
     },
     "execution_count": 20,
     "metadata": {},
     "output_type": "execute_result"
    }
   ],
   "source": [
    "covidtotals.shape"
   ]
  },
  {
   "cell_type": "code",
   "execution_count": 21,
   "id": "40bb06f6-6f73-4fd6-a549-0a5f2a75860e",
   "metadata": {},
   "outputs": [
    {
     "data": {
      "text/plain": [
       "231"
      ]
     },
     "execution_count": 21,
     "metadata": {},
     "output_type": "execute_result"
    }
   ],
   "source": [
    "covidtotals.index.nunique()"
   ]
  },
  {
   "cell_type": "code",
   "execution_count": 22,
   "id": "0c104fd0-f4a1-4277-ab76-e01e25d34f7a",
   "metadata": {},
   "outputs": [
    {
     "name": "stdout",
     "output_type": "stream",
     "text": [
      "<class 'pandas.core.frame.DataFrame'>\n",
      "Index: 231 entries, AFG to ZWE\n",
      "Data columns (total 16 columns):\n",
      " #   Column           Non-Null Count  Dtype         \n",
      "---  ------           --------------  -----         \n",
      " 0   lastdate         231 non-null    datetime64[ns]\n",
      " 1   location         231 non-null    object        \n",
      " 2   total_cases      231 non-null    float64       \n",
      " 3   total_deaths     231 non-null    float64       \n",
      " 4   total_cases_pm   231 non-null    float64       \n",
      " 5   total_deaths_pm  231 non-null    float64       \n",
      " 6   population       231 non-null    int64         \n",
      " 7   pop_density      209 non-null    float64       \n",
      " 8   median_age       194 non-null    float64       \n",
      " 9   gdp_per_capita   191 non-null    float64       \n",
      " 10  hosp_beds        170 non-null    float64       \n",
      " 11  vac_per_hund     13 non-null     float64       \n",
      " 12  aged_65_older    188 non-null    float64       \n",
      " 13  life_expectancy  227 non-null    float64       \n",
      " 14  hum_dev_ind      187 non-null    float64       \n",
      " 15  region           231 non-null    object        \n",
      "dtypes: datetime64[ns](1), float64(12), int64(1), object(2)\n",
      "memory usage: 38.8+ KB\n"
     ]
    }
   ],
   "source": [
    "covidtotals.info()"
   ]
  },
  {
   "cell_type": "code",
   "execution_count": 23,
   "id": "5d5a7617-0317-4149-8be9-70521f2dbaad",
   "metadata": {},
   "outputs": [
    {
     "data": {
      "text/html": [
       "<div>\n",
       "<style scoped>\n",
       "    .dataframe tbody tr th:only-of-type {\n",
       "        vertical-align: middle;\n",
       "    }\n",
       "\n",
       "    .dataframe tbody tr th {\n",
       "        vertical-align: top;\n",
       "    }\n",
       "\n",
       "    .dataframe thead th {\n",
       "        text-align: right;\n",
       "    }\n",
       "</style>\n",
       "<table border=\"1\" class=\"dataframe\">\n",
       "  <thead>\n",
       "    <tr style=\"text-align: right;\">\n",
       "      <th>iso_code</th>\n",
       "      <th>GHA</th>\n",
       "      <th>NIU</th>\n",
       "    </tr>\n",
       "  </thead>\n",
       "  <tbody>\n",
       "    <tr>\n",
       "      <th>lastdate</th>\n",
       "      <td>2023-12-03 00:00:00</td>\n",
       "      <td>2023-12-31 00:00:00</td>\n",
       "    </tr>\n",
       "    <tr>\n",
       "      <th>location</th>\n",
       "      <td>Ghana</td>\n",
       "      <td>Niue</td>\n",
       "    </tr>\n",
       "    <tr>\n",
       "      <th>total_cases</th>\n",
       "      <td>171,834</td>\n",
       "      <td>993</td>\n",
       "    </tr>\n",
       "    <tr>\n",
       "      <th>total_deaths</th>\n",
       "      <td>1,462</td>\n",
       "      <td>0</td>\n",
       "    </tr>\n",
       "    <tr>\n",
       "      <th>total_cases_pm</th>\n",
       "      <td>5,133</td>\n",
       "      <td>508,709</td>\n",
       "    </tr>\n",
       "    <tr>\n",
       "      <th>total_deaths_pm</th>\n",
       "      <td>44</td>\n",
       "      <td>0</td>\n",
       "    </tr>\n",
       "    <tr>\n",
       "      <th>population</th>\n",
       "      <td>33475870</td>\n",
       "      <td>1952</td>\n",
       "    </tr>\n",
       "    <tr>\n",
       "      <th>pop_density</th>\n",
       "      <td>127</td>\n",
       "      <td>NaN</td>\n",
       "    </tr>\n",
       "    <tr>\n",
       "      <th>median_age</th>\n",
       "      <td>21</td>\n",
       "      <td>NaN</td>\n",
       "    </tr>\n",
       "    <tr>\n",
       "      <th>gdp_per_capita</th>\n",
       "      <td>4,228</td>\n",
       "      <td>NaN</td>\n",
       "    </tr>\n",
       "    <tr>\n",
       "      <th>hosp_beds</th>\n",
       "      <td>1</td>\n",
       "      <td>NaN</td>\n",
       "    </tr>\n",
       "    <tr>\n",
       "      <th>vac_per_hund</th>\n",
       "      <td>NaN</td>\n",
       "      <td>NaN</td>\n",
       "    </tr>\n",
       "    <tr>\n",
       "      <th>aged_65_older</th>\n",
       "      <td>3</td>\n",
       "      <td>NaN</td>\n",
       "    </tr>\n",
       "    <tr>\n",
       "      <th>life_expectancy</th>\n",
       "      <td>64</td>\n",
       "      <td>74</td>\n",
       "    </tr>\n",
       "    <tr>\n",
       "      <th>hum_dev_ind</th>\n",
       "      <td>1</td>\n",
       "      <td>NaN</td>\n",
       "    </tr>\n",
       "    <tr>\n",
       "      <th>region</th>\n",
       "      <td>West Africa</td>\n",
       "      <td>Oceania / Aus</td>\n",
       "    </tr>\n",
       "  </tbody>\n",
       "</table>\n",
       "</div>"
      ],
      "text/plain": [
       "iso_code                         GHA                  NIU\n",
       "lastdate         2023-12-03 00:00:00  2023-12-31 00:00:00\n",
       "location                       Ghana                 Niue\n",
       "total_cases                  171,834                  993\n",
       "total_deaths                   1,462                    0\n",
       "total_cases_pm                 5,133              508,709\n",
       "total_deaths_pm                   44                    0\n",
       "population                  33475870                 1952\n",
       "pop_density                      127                  NaN\n",
       "median_age                        21                  NaN\n",
       "gdp_per_capita                 4,228                  NaN\n",
       "hosp_beds                          1                  NaN\n",
       "vac_per_hund                     NaN                  NaN\n",
       "aged_65_older                      3                  NaN\n",
       "life_expectancy                   64                   74\n",
       "hum_dev_ind                        1                  NaN\n",
       "region                   West Africa        Oceania / Aus"
      ]
     },
     "execution_count": 23,
     "metadata": {},
     "output_type": "execute_result"
    }
   ],
   "source": [
    "covidtotals.sample(2, random_state=1).T"
   ]
  },
  {
   "cell_type": "code",
   "execution_count": null,
   "id": "f737718d-aa01-4986-a1ec-152e36fe6487",
   "metadata": {},
   "outputs": [],
   "source": []
  }
 ],
 "metadata": {
  "kernelspec": {
   "display_name": "dataclean_env",
   "language": "python",
   "name": "dataclean_env"
  },
  "language_info": {
   "codemirror_mode": {
    "name": "ipython",
    "version": 3
   },
   "file_extension": ".py",
   "mimetype": "text/x-python",
   "name": "python",
   "nbconvert_exporter": "python",
   "pygments_lexer": "ipython3",
   "version": "3.12.7"
  }
 },
 "nbformat": 4,
 "nbformat_minor": 5
}
